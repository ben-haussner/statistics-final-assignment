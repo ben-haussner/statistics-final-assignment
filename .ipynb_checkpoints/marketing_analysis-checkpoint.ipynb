{
 "cells": [
  {
   "cell_type": "markdown",
   "metadata": {},
   "source": [
    "__Marketinganalyse__\n",
    "\n",
    "Modulprojekt für die Vorlesung __Applied Statistics__\n",
    "\n",
    "_Dozent:_ Prof. Dr. Jan Kirenz\n",
    "_Studenten:_ Stephanie Flohr, Benedikt Haußner, Robert Masendorf"
   ]
  },
  {
   "cell_type": "markdown",
   "metadata": {},
   "source": [
    "**Hinweis:** Zu korrekten Darstellung der Ergebnisse in den MarkDowns muss die Nbextension ```Python Markdown``` aktiviert sein. Zusätzlich muss ein ```Trusted```Kernel verwendet werden."
   ]
  },
  {
   "cell_type": "code",
   "execution_count": 44,
   "metadata": {},
   "outputs": [],
   "source": [
    "#import sys\n",
    "#if not sys.warnoptions:\n",
    "import warnings\n",
    "warnings.simplefilter(\"ignore\")"
   ]
  },
  {
   "cell_type": "code",
   "execution_count": 45,
   "metadata": {},
   "outputs": [],
   "source": [
    "import pandas as pd\n",
    "import numpy as np\n",
    "import seaborn as sns\n",
    "pd.set_option('display.max_columns',24)"
   ]
  },
  {
   "cell_type": "markdown",
   "metadata": {},
   "source": [
    "# Import data\n",
    "First you must **import** your data into Python. This typically means that you take data stored in a file, database, or web API, and load it into a DataFrame in Python (using pandas). "
   ]
  },
  {
   "cell_type": "markdown",
   "metadata": {},
   "source": [
    "Die von [hier](https://www.ibm.com/communities/analytics/watson-analytics-blog/marketing-customer-value-analysis/) verwendeten Daten wurden im März 2015 von der IBM als Beispieldatensatz unter dem Namen `SAMPLE DATA: Marketing Customer Value Analysis`veröffentlicht."
   ]
  },
  {
   "cell_type": "code",
   "execution_count": 46,
   "metadata": {},
   "outputs": [],
   "source": [
    "df = pd.read_csv('marketing_customer_marketing_raw_data.csv')"
   ]
  },
  {
   "cell_type": "code",
   "execution_count": 47,
   "metadata": {},
   "outputs": [
    {
     "data": {
      "text/plain": [
       "(9134, 24)"
      ]
     },
     "execution_count": 47,
     "metadata": {},
     "output_type": "execute_result"
    }
   ],
   "source": [
    "df.shape"
   ]
  },
  {
   "cell_type": "markdown",
   "metadata": {},
   "source": [
    "# Tidying data\n",
    "Once you’ve imported your data, it is a good idea to tidy it. **Tidying** your data means storing it in a consistent form that matches the semantics of the dataset with the way it is stored. In brief, when your data is tidy, each column is a variable, and each row is an observation. Tidy data is important because the consistent structure lets you focus your struggle on questions about the data."
   ]
  },
  {
   "cell_type": "markdown",
   "metadata": {},
   "source": [
    "## Data inspection"
   ]
  },
  {
   "cell_type": "code",
   "execution_count": 48,
   "metadata": {},
   "outputs": [
    {
     "data": {
      "text/plain": [
       "Index(['Customer', 'State', 'Customer Lifetime Value', 'Response', 'Coverage',\n",
       "       'Education', 'Effective To Date', 'EmploymentStatus', 'Gender',\n",
       "       'Income', 'Location Code', 'Marital Status', 'Monthly Premium Auto',\n",
       "       'Months Since Last Claim', 'Months Since Policy Inception',\n",
       "       'Number of Open Complaints', 'Number of Policies', 'Policy Type',\n",
       "       'Policy', 'Renew Offer Type', 'Sales Channel', 'Total Claim Amount',\n",
       "       'Vehicle Class', 'Vehicle Size'],\n",
       "      dtype='object')"
      ]
     },
     "execution_count": 48,
     "metadata": {},
     "output_type": "execute_result"
    }
   ],
   "source": [
    "df.columns"
   ]
  },
  {
   "cell_type": "code",
   "execution_count": 49,
   "metadata": {
    "scrolled": true
   },
   "outputs": [
    {
     "data": {
      "text/html": [
       "<div>\n",
       "<style scoped>\n",
       "    .dataframe tbody tr th:only-of-type {\n",
       "        vertical-align: middle;\n",
       "    }\n",
       "\n",
       "    .dataframe tbody tr th {\n",
       "        vertical-align: top;\n",
       "    }\n",
       "\n",
       "    .dataframe thead th {\n",
       "        text-align: right;\n",
       "    }\n",
       "</style>\n",
       "<table border=\"1\" class=\"dataframe\">\n",
       "  <thead>\n",
       "    <tr style=\"text-align: right;\">\n",
       "      <th></th>\n",
       "      <th>Customer</th>\n",
       "      <th>State</th>\n",
       "      <th>Customer Lifetime Value</th>\n",
       "      <th>Response</th>\n",
       "      <th>Coverage</th>\n",
       "      <th>Education</th>\n",
       "      <th>Effective To Date</th>\n",
       "      <th>EmploymentStatus</th>\n",
       "      <th>Gender</th>\n",
       "      <th>Income</th>\n",
       "      <th>...</th>\n",
       "      <th>Months Since Policy Inception</th>\n",
       "      <th>Number of Open Complaints</th>\n",
       "      <th>Number of Policies</th>\n",
       "      <th>Policy Type</th>\n",
       "      <th>Policy</th>\n",
       "      <th>Renew Offer Type</th>\n",
       "      <th>Sales Channel</th>\n",
       "      <th>Total Claim Amount</th>\n",
       "      <th>Vehicle Class</th>\n",
       "      <th>Vehicle Size</th>\n",
       "    </tr>\n",
       "  </thead>\n",
       "  <tbody>\n",
       "    <tr>\n",
       "      <th>0</th>\n",
       "      <td>BU79786</td>\n",
       "      <td>Washington</td>\n",
       "      <td>2763.519279</td>\n",
       "      <td>No</td>\n",
       "      <td>Basic</td>\n",
       "      <td>Bachelor</td>\n",
       "      <td>2/24/11</td>\n",
       "      <td>Employed</td>\n",
       "      <td>F</td>\n",
       "      <td>56274</td>\n",
       "      <td>...</td>\n",
       "      <td>5</td>\n",
       "      <td>0</td>\n",
       "      <td>1</td>\n",
       "      <td>Corporate Auto</td>\n",
       "      <td>Corporate L3</td>\n",
       "      <td>Offer1</td>\n",
       "      <td>Agent</td>\n",
       "      <td>384.811147</td>\n",
       "      <td>Two-Door Car</td>\n",
       "      <td>Medsize</td>\n",
       "    </tr>\n",
       "    <tr>\n",
       "      <th>1</th>\n",
       "      <td>QZ44356</td>\n",
       "      <td>Arizona</td>\n",
       "      <td>6979.535903</td>\n",
       "      <td>No</td>\n",
       "      <td>Extended</td>\n",
       "      <td>Bachelor</td>\n",
       "      <td>1/31/11</td>\n",
       "      <td>Unemployed</td>\n",
       "      <td>F</td>\n",
       "      <td>0</td>\n",
       "      <td>...</td>\n",
       "      <td>42</td>\n",
       "      <td>0</td>\n",
       "      <td>8</td>\n",
       "      <td>Personal Auto</td>\n",
       "      <td>Personal L3</td>\n",
       "      <td>Offer3</td>\n",
       "      <td>Agent</td>\n",
       "      <td>1131.464935</td>\n",
       "      <td>Four-Door Car</td>\n",
       "      <td>Medsize</td>\n",
       "    </tr>\n",
       "  </tbody>\n",
       "</table>\n",
       "<p>2 rows × 24 columns</p>\n",
       "</div>"
      ],
      "text/plain": [
       "  Customer       State  Customer Lifetime Value Response  Coverage Education  \\\n",
       "0  BU79786  Washington              2763.519279       No     Basic  Bachelor   \n",
       "1  QZ44356     Arizona              6979.535903       No  Extended  Bachelor   \n",
       "\n",
       "  Effective To Date EmploymentStatus Gender  Income     ...       \\\n",
       "0           2/24/11         Employed      F   56274     ...        \n",
       "1           1/31/11       Unemployed      F       0     ...        \n",
       "\n",
       "  Months Since Policy Inception Number of Open Complaints  Number of Policies  \\\n",
       "0                             5                         0                   1   \n",
       "1                            42                         0                   8   \n",
       "\n",
       "      Policy Type        Policy  Renew Offer Type  Sales Channel  \\\n",
       "0  Corporate Auto  Corporate L3            Offer1          Agent   \n",
       "1   Personal Auto   Personal L3            Offer3          Agent   \n",
       "\n",
       "  Total Claim Amount  Vehicle Class Vehicle Size  \n",
       "0         384.811147   Two-Door Car      Medsize  \n",
       "1        1131.464935  Four-Door Car      Medsize  \n",
       "\n",
       "[2 rows x 24 columns]"
      ]
     },
     "execution_count": 49,
     "metadata": {},
     "output_type": "execute_result"
    }
   ],
   "source": [
    "df.head(2)"
   ]
  },
  {
   "cell_type": "code",
   "execution_count": 50,
   "metadata": {},
   "outputs": [],
   "source": [
    "# Change column name => some columns could not use\n",
    "df = df.rename(index=str, columns={\"Customer\":\"Customer_ID\",\n",
    "                                   \"Customer Lifetime Value\":\"Customer_Lifetime_Value\",\n",
    "                                   \"Effective To Date\":\"Effective_To_Date\", \n",
    "                                   \"EmploymentStatus\":\"Employment_Status\", \n",
    "                                   \"Location Code\":\"Location_Code\", \n",
    "                                   \"Marital Status\":\"Marital_Status\",\n",
    "                                   \"Monthly Premium Auto\":\"Monthly_Premium_Auto\",\n",
    "                                   \"Months Since Last Claim\":\"Months_Since_Last_Claim\",\n",
    "                                   \"Months Since Policy Inception\":\"Months_Since_Policy_Inception\",\n",
    "                                   \"Number of Open Complaints\":\"Number_of_Open_Complaints\",\n",
    "                                   \"Number of Policies\":\"Number_of_Policies\",\n",
    "                                   \"Policy Type\":\"Policy_Type\",\n",
    "                                   \"Renew Offer Type\":\"Renew_Offer_Type\",\n",
    "                                   \"Sales Channel\":\"Sales_Channel\",\n",
    "                                   \"Total Claim Amount\":\"Total_Claim_Amount\",\n",
    "                                   \"Vehicle Class\":\"Vehicle_Class\", \n",
    "                                   \"Vehicle Size\":\"Vehicle_Size\"})"
   ]
  },
  {
   "cell_type": "code",
   "execution_count": 51,
   "metadata": {},
   "outputs": [
    {
     "name": "stdout",
     "output_type": "stream",
     "text": [
      "Customer: 9134\n",
      "Unique Customer: 9134\n"
     ]
    }
   ],
   "source": [
    "# Chek for duplicates and print results\n",
    "print(f'Customer: {len(df[\"Customer_ID\"])}')\n",
    "# Count the number of individual customers\n",
    "print(f'Unique Customer: {len(df[\"Customer_ID\"].value_counts())}')"
   ]
  },
  {
   "cell_type": "code",
   "execution_count": 69,
   "metadata": {
    "scrolled": false
   },
   "outputs": [
    {
     "data": {
      "text/html": [
       "<div>\n",
       "<style scoped>\n",
       "    .dataframe tbody tr th:only-of-type {\n",
       "        vertical-align: middle;\n",
       "    }\n",
       "\n",
       "    .dataframe tbody tr th {\n",
       "        vertical-align: top;\n",
       "    }\n",
       "\n",
       "    .dataframe thead th {\n",
       "        text-align: right;\n",
       "    }\n",
       "</style>\n",
       "<table border=\"1\" class=\"dataframe\">\n",
       "  <thead>\n",
       "    <tr style=\"text-align: right;\">\n",
       "      <th></th>\n",
       "      <th>Customer_ID</th>\n",
       "      <th>State</th>\n",
       "      <th>Customer_Lifetime_Value</th>\n",
       "      <th>Response</th>\n",
       "      <th>Coverage</th>\n",
       "      <th>Education</th>\n",
       "      <th>Effective_To_Date</th>\n",
       "      <th>Employment_Status</th>\n",
       "      <th>Gender</th>\n",
       "      <th>Income</th>\n",
       "      <th>Location_Code</th>\n",
       "      <th>Marital_Status</th>\n",
       "      <th>Monthly_Premium_Auto</th>\n",
       "      <th>Months_Since_Last_Claim</th>\n",
       "      <th>Months_Since_Policy_Inception</th>\n",
       "      <th>Number_of_Open_Complaints</th>\n",
       "      <th>Number_of_Policies</th>\n",
       "      <th>Policy_Type</th>\n",
       "      <th>Policy</th>\n",
       "      <th>Renew_Offer_Type</th>\n",
       "      <th>Sales_Channel</th>\n",
       "      <th>Total_Claim_Amount</th>\n",
       "      <th>Vehicle_Class</th>\n",
       "      <th>Vehicle_Size</th>\n",
       "    </tr>\n",
       "  </thead>\n",
       "  <tbody>\n",
       "    <tr>\n",
       "      <th>0</th>\n",
       "      <td>BU79786</td>\n",
       "      <td>Washington</td>\n",
       "      <td>2763.519279</td>\n",
       "      <td>No</td>\n",
       "      <td>Basic</td>\n",
       "      <td>Bachelor</td>\n",
       "      <td>2011-02-24</td>\n",
       "      <td>Employed</td>\n",
       "      <td>F</td>\n",
       "      <td>56274</td>\n",
       "      <td>Suburban</td>\n",
       "      <td>Married</td>\n",
       "      <td>69</td>\n",
       "      <td>32</td>\n",
       "      <td>5</td>\n",
       "      <td>0</td>\n",
       "      <td>1</td>\n",
       "      <td>Corporate Auto</td>\n",
       "      <td>Corporate L3</td>\n",
       "      <td>Offer1</td>\n",
       "      <td>Agent</td>\n",
       "      <td>384.811147</td>\n",
       "      <td>Two-Door Car</td>\n",
       "      <td>Medsize</td>\n",
       "    </tr>\n",
       "    <tr>\n",
       "      <th>1</th>\n",
       "      <td>QZ44356</td>\n",
       "      <td>Arizona</td>\n",
       "      <td>6979.535903</td>\n",
       "      <td>No</td>\n",
       "      <td>Extended</td>\n",
       "      <td>Bachelor</td>\n",
       "      <td>2011-01-31</td>\n",
       "      <td>Unemployed</td>\n",
       "      <td>F</td>\n",
       "      <td>0</td>\n",
       "      <td>Suburban</td>\n",
       "      <td>Single</td>\n",
       "      <td>94</td>\n",
       "      <td>13</td>\n",
       "      <td>42</td>\n",
       "      <td>0</td>\n",
       "      <td>8</td>\n",
       "      <td>Personal Auto</td>\n",
       "      <td>Personal L3</td>\n",
       "      <td>Offer3</td>\n",
       "      <td>Agent</td>\n",
       "      <td>1131.464935</td>\n",
       "      <td>Four-Door Car</td>\n",
       "      <td>Medsize</td>\n",
       "    </tr>\n",
       "  </tbody>\n",
       "</table>\n",
       "</div>"
      ],
      "text/plain": [
       "  Customer_ID       State  Customer_Lifetime_Value Response  Coverage  \\\n",
       "0     BU79786  Washington              2763.519279       No     Basic   \n",
       "1     QZ44356     Arizona              6979.535903       No  Extended   \n",
       "\n",
       "  Education Effective_To_Date Employment_Status Gender  Income Location_Code  \\\n",
       "0  Bachelor        2011-02-24          Employed      F   56274      Suburban   \n",
       "1  Bachelor        2011-01-31        Unemployed      F       0      Suburban   \n",
       "\n",
       "  Marital_Status  Monthly_Premium_Auto  Months_Since_Last_Claim  \\\n",
       "0        Married                    69                       32   \n",
       "1         Single                    94                       13   \n",
       "\n",
       "   Months_Since_Policy_Inception  Number_of_Open_Complaints  \\\n",
       "0                              5                          0   \n",
       "1                             42                          0   \n",
       "\n",
       "   Number_of_Policies     Policy_Type        Policy Renew_Offer_Type  \\\n",
       "0                   1  Corporate Auto  Corporate L3           Offer1   \n",
       "1                   8   Personal Auto   Personal L3           Offer3   \n",
       "\n",
       "  Sales_Channel  Total_Claim_Amount  Vehicle_Class Vehicle_Size  \n",
       "0         Agent          384.811147   Two-Door Car      Medsize  \n",
       "1         Agent         1131.464935  Four-Door Car      Medsize  "
      ]
     },
     "execution_count": 69,
     "metadata": {},
     "output_type": "execute_result"
    }
   ],
   "source": [
    "df.head(2)"
   ]
  },
  {
   "cell_type": "markdown",
   "metadata": {},
   "source": [
    "### Understanding Columns  \n",
    "**Customer_ID:**  \n",
    "Eindeutig Kombination aus Buchstaben und Zahlen, zur Identifizierung des Kundens.  \n",
    "  \n",
    "**State:**  \n",
    "Bundesstaat in den Vereinigten Staaten, in welchem der Kunde wohnt.  \n",
    "  \n",
    "**Customer_Lifetime_Value:**  \n",
    "tbd  \n",
    "  \n",
    "**Response:**  \n",
    "Binärer Wert, ob der Kunde auf die Marketingmaßnahme reagiert hat.  \n",
    "  \n",
    "**Coverage:**  \n",
    "Der aktuelle Tarif, in welchem sich der angesprochene Kunde befindet.  \n",
    "  \n",
    "**Education:**  \n",
    "Der Bildungsstatus des angesprochenen Kunden.  \n",
    "  \n",
    "**Effective_To_Date:**  \n",
    "Laufzeitende der aktuellen Versicherung.  \n",
    "  \n",
    "**Employment_Status:**  \n",
    "Arbeitsverhältnis des Kundens.\n",
    "\n",
    "**Gender:**  \n",
    "Geschlecht des Kundens.  \n",
    "  \n",
    "**Income:**  \n",
    "Jährliches Einkommen des Kundens in Dollar.  \n",
    "  \n",
    "**Location_Code:**  \n",
    "Wohnumgebung des Kundens in Bezug auf die Flächenverdichtung.  \n",
    "  \n",
    "**Marital_Status:**  \n",
    "Familienstand des Kundens.  \n",
    "  \n",
    "**Monthly_Premium_Auto:**  \n",
    "tbd  \n",
    "  \n",
    "**Months_Since_Last_Claim:**  \n",
    "Vergangene Monate seit dem die Versicherung zuletzt in Anspruch genommen wurde.  \n",
    "  \n",
    "**Months_Since_Policy_Inception:**  \n",
    "Vergangene Monate seit Beginn der aktuellen Verischerungspolice.  \n",
    "\n",
    "**Number_of_Open_Complaints:**  \n",
    "Anzahl der noch offenen Schadensfälle.  \n",
    "\n",
    "**Number_of_Policies:**  \n",
    "Gesamtanzahl der Policen seit Versicherungsbeginn.  \n",
    "  \n",
    "**Policy_Type:**  \n",
    "Feststellung, ob es sich um eine private oder eine geschäftliche Police handelt.  \n",
    "  \n",
    "**Policy:**  \n",
    "Akuelle Tarifstufe, in der der Kunde sich befindet.  \n",
    "  \n",
    "**Renew_Offer_Type:**  \n",
    "Das dem Kunden unterbreitete neue Angebot.  \n",
    "  \n",
    "**Sales_Channel:**  \n",
    "Der Kanal, über welchen das Angebot übermittelt wurde.  \n",
    "  \n",
    "**Total_Claim_Amount:**  \n",
    "Gesamtertrag aus den Policen des jeweiligen Kunden.  \n",
    "  \n",
    "**Vehicle_Class:**  \n",
    "Art des versicherten Autos.  \n",
    "  \n",
    "**Vehicle_Size:**  \n",
    "Größenordnung des versicherten Autos."
   ]
  },
  {
   "cell_type": "markdown",
   "metadata": {},
   "source": [
    "#### __ToDo:__ Weitere Ideen für Categorical Variables einbauen? Statt Customer => Customer_ID eintragen?"
   ]
  },
  {
   "cell_type": "code",
   "execution_count": 53,
   "metadata": {},
   "outputs": [
    {
     "name": "stdout",
     "output_type": "stream",
     "text": [
      "0      2011-02-24\n",
      "1      2011-01-31\n",
      "2      2011-02-19\n",
      "3      2011-01-20\n",
      "4      2011-02-03\n",
      "5      2011-01-25\n",
      "6      2011-02-24\n",
      "7      2011-01-18\n",
      "8      2011-01-26\n",
      "9      2011-02-17\n",
      "10     2011-02-21\n",
      "11     2011-01-06\n",
      "12     2011-02-06\n",
      "13     2011-01-10\n",
      "14     2011-01-18\n",
      "15     2011-01-17\n",
      "16     2011-02-06\n",
      "17     2011-01-05\n",
      "18     2011-02-27\n",
      "19     2011-01-14\n",
      "20     2011-02-19\n",
      "21     2011-01-21\n",
      "22     2011-01-26\n",
      "23     2011-02-24\n",
      "24     2011-02-05\n",
      "25     2011-01-29\n",
      "26     2011-02-28\n",
      "27     2011-02-12\n",
      "28     2011-02-02\n",
      "29     2011-02-07\n",
      "          ...    \n",
      "9104   2011-01-09\n",
      "9105   2011-02-22\n",
      "9106   2011-01-12\n",
      "9107   2011-01-26\n",
      "9108   2011-01-28\n",
      "9109   2011-01-25\n",
      "9110   2011-01-14\n",
      "9111   2011-02-07\n",
      "9112   2011-02-12\n",
      "9113   2011-01-06\n",
      "9114   2011-02-23\n",
      "9115   2011-02-17\n",
      "9116   2011-01-26\n",
      "9117   2011-01-20\n",
      "9118   2011-02-10\n",
      "9119   2011-01-13\n",
      "9120   2011-02-19\n",
      "9121   2011-01-17\n",
      "9122   2011-02-01\n",
      "9123   2011-01-19\n",
      "9124   2011-01-20\n",
      "9125   2011-01-31\n",
      "9126   2011-01-09\n",
      "9127   2011-02-12\n",
      "9128   2011-01-06\n",
      "9129   2011-02-10\n",
      "9130   2011-02-12\n",
      "9131   2011-02-06\n",
      "9132   2011-02-03\n",
      "9133   2011-02-14\n",
      "Name: Effective_To_Date, Length: 9134, dtype: datetime64[ns]\n"
     ]
    }
   ],
   "source": [
    "# df.Effective_To_Date = pd.to_datetime(df['Effective_To_Date'].dt.strftime('%d/%m/%Y')\n",
    "df.Effective_To_Date = pd.to_datetime(df['Effective_To_Date'])\n",
    "print(df.Effective_To_Date)"
   ]
  },
  {
   "cell_type": "code",
   "execution_count": 54,
   "metadata": {},
   "outputs": [],
   "source": [
    "# Select categorical variable\n",
    "# Categorical (Binary (1/0), Nominal (mehrere kategorischen Ausprägungen, nicht sortiert), Ordinal (sortierbar))\n",
    "df['Customer_ID'] = pd.Categorical(df['Customer_ID'])\n",
    "df['State'] = pd.Categorical(df['State'])\n",
    "df['Education'] = pd.Categorical(df['Education'])\n",
    "df['Marital_Status'] = pd.Categorical(df['Marital_Status'])\n",
    "df['Response'] = pd.Categorical(df['Response'])"
   ]
  },
  {
   "cell_type": "code",
   "execution_count": 55,
   "metadata": {},
   "outputs": [
    {
     "name": "stdout",
     "output_type": "stream",
     "text": [
      "Ordinal: Customer_Lifetime_Value [ 2763.519279  6979.535903 12887.43165  ...  8163.890428  7524.442436\n",
      "  2611.836866]\n",
      "Binary: Response [No, Yes]\n",
      "Categories (2, object): [No, Yes]\n",
      "Intervall: Effective_To_Date ['2011-02-24T00:00:00.000000000' '2011-01-31T00:00:00.000000000'\n",
      " '2011-02-19T00:00:00.000000000' '2011-01-20T00:00:00.000000000'\n",
      " '2011-02-03T00:00:00.000000000' '2011-01-25T00:00:00.000000000'\n",
      " '2011-01-18T00:00:00.000000000' '2011-01-26T00:00:00.000000000'\n",
      " '2011-02-17T00:00:00.000000000' '2011-02-21T00:00:00.000000000'\n",
      " '2011-01-06T00:00:00.000000000' '2011-02-06T00:00:00.000000000'\n",
      " '2011-01-10T00:00:00.000000000' '2011-01-17T00:00:00.000000000'\n",
      " '2011-01-05T00:00:00.000000000' '2011-02-27T00:00:00.000000000'\n",
      " '2011-01-14T00:00:00.000000000' '2011-01-21T00:00:00.000000000'\n",
      " '2011-02-05T00:00:00.000000000' '2011-01-29T00:00:00.000000000'\n",
      " '2011-02-28T00:00:00.000000000' '2011-02-12T00:00:00.000000000'\n",
      " '2011-02-02T00:00:00.000000000' '2011-02-07T00:00:00.000000000'\n",
      " '2011-01-22T00:00:00.000000000' '2011-02-13T00:00:00.000000000'\n",
      " '2011-01-15T00:00:00.000000000' '2011-01-08T00:00:00.000000000'\n",
      " '2011-01-11T00:00:00.000000000' '2011-01-28T00:00:00.000000000'\n",
      " '2011-02-08T00:00:00.000000000' '2011-02-23T00:00:00.000000000'\n",
      " '2011-01-02T00:00:00.000000000' '2011-02-16T00:00:00.000000000'\n",
      " '2011-01-27T00:00:00.000000000' '2011-01-23T00:00:00.000000000'\n",
      " '2011-01-09T00:00:00.000000000' '2011-02-11T00:00:00.000000000'\n",
      " '2011-02-04T00:00:00.000000000' '2011-02-01T00:00:00.000000000'\n",
      " '2011-02-15T00:00:00.000000000' '2011-02-26T00:00:00.000000000'\n",
      " '2011-01-16T00:00:00.000000000' '2011-01-01T00:00:00.000000000'\n",
      " '2011-02-10T00:00:00.000000000' '2011-01-24T00:00:00.000000000'\n",
      " '2011-02-25T00:00:00.000000000' '2011-01-12T00:00:00.000000000'\n",
      " '2011-02-09T00:00:00.000000000' '2011-01-19T00:00:00.000000000'\n",
      " '2011-01-04T00:00:00.000000000' '2011-02-14T00:00:00.000000000'\n",
      " '2011-02-20T00:00:00.000000000' '2011-02-18T00:00:00.000000000'\n",
      " '2011-01-03T00:00:00.000000000' '2011-01-13T00:00:00.000000000'\n",
      " '2011-01-30T00:00:00.000000000' '2011-02-22T00:00:00.000000000'\n",
      " '2011-01-07T00:00:00.000000000']\n",
      "Ordinal: Income [56274     0 48767 ... 66367 71941 21941]\n",
      "Ordinal: Monthly_Premium_Auto [ 69  94 108 106  73  67 101  71  93 110  70  64  72  74  79  61 111 139\n",
      "  80  63 237  65  62 117  91  90  66  99 103 172  92 104 113 124 105 100\n",
      " 112  97  95 102 186  77  96  76 119  88 109 107 130  85  98 133  86  78\n",
      "  83  68 192 118  89 140 127 168 126  82 115 217 114 138  81 255 150 123\n",
      " 116 190 159  84 152 136 245 135 128 225 132 153 121 154 161 156 171  87\n",
      " 244 183 176 230 129 177 196 131 276 253 137 180 203 147 165 198 125 193\n",
      " 271 188 142 206 182 189 160 295 210 134 239 256 173 285 148 197 199 214\n",
      " 175 167 194 164 181 222 215 283 169 248 223 273 151 213 145 185 287 297\n",
      " 201 149 146 235 268 211 187 141 242 170 122 143 155 166 212 249 240 191\n",
      " 195 216 144 179 232 158 207 184 238 229 220 178 204 281 234 218 275 209\n",
      " 261 157 205 228 284 231 208 296 202 162 274 219 247 290 226 163 298 266\n",
      " 254 252 174 286]\n",
      "Ordinal: Months_Since_Last_Claim [32 13 18 12 14  0 17 23 27  9 21 11 31  8  4 30 22 15 33  1 19 28 10  7\n",
      "  3  5 20 24 29 34  6 35  2 16 26 25]\n",
      "Ordinal: Months_Since_Policy_Inception [ 5 42 38 65 44 94 13 68  3  7 87 82 25 10 50 59  1 21 49 91 47 64 54  6\n",
      " 14 56 17 40 62 86 79 15 32 28 16  4 57 77 95 26 53 12 98 36 71 60 20  0\n",
      " 27 48 33 83 30 69 90 81 84 88 18 11 85 93 34 89  2 70 37 43  8 35 99 55\n",
      " 75 51 92 29 63 61 46 41 31 45 67 22 23  9 72 96 58 66 73 39 19 97 52 76\n",
      " 78 80 74 24]\n",
      "Ordinal: Number_of_Open_Complaints [0 2 1 3 5 4]\n",
      "Ordinal: Number_of_Policies [1 8 2 7 9 4 3 6 5]\n"
     ]
    }
   ],
   "source": [
    "print('Ordinal: Customer_Lifetime_Value', df.Customer_Lifetime_Value.unique())\n",
    "print('Binary: Response', df.Response.unique())\n",
    "print('Intervall: Effective_To_Date', df.Effective_To_Date.unique())\n",
    "print('Ordinal: Income', df.Income.unique())\n",
    "print('Ordinal: Monthly_Premium_Auto', df.Monthly_Premium_Auto.unique())\n",
    "print('Ordinal: Months_Since_Last_Claim', df.Months_Since_Last_Claim.unique())\n",
    "print('Ordinal: Months_Since_Policy_Inception', df.Months_Since_Policy_Inception.unique())\n",
    "print('Ordinal: Number_of_Open_Complaints', df.Number_of_Open_Complaints.unique())\n",
    "print('Ordinal: Number_of_Policies', df.Number_of_Policies.unique())"
   ]
  },
  {
   "cell_type": "code",
   "execution_count": 56,
   "metadata": {
    "scrolled": true
   },
   "outputs": [
    {
     "name": "stdout",
     "output_type": "stream",
     "text": [
      "Nominal: State [Washington, Arizona, Nevada, California, Oregon]\n",
      "Categories (5, object): [Washington, Arizona, Nevada, California, Oregon]\n",
      "Ordinal: Coverage ['Basic' 'Extended' 'Premium']\n",
      "Ordinal: Education [Bachelor, College, Master, High School or Below, Doctor]\n",
      "Categories (5, object): [Bachelor, College, Master, High School or Below, Doctor]\n",
      "Nominal: Employment_Status ['Employed' 'Unemployed' 'Medical Leave' 'Disabled' 'Retired']\n",
      "Binary: Gender ['F' 'M']\n",
      "Nominal: Location_Code ['Suburban' 'Rural' 'Urban']\n",
      "Nominal: Marital_Status [Married, Single, Divorced]\n",
      "Categories (3, object): [Married, Single, Divorced]\n",
      "Nominal: Policy_Type ['Corporate Auto' 'Personal Auto' 'Special Auto']\n",
      "Ordinal: Policy ['Corporate L3' 'Personal L3' 'Corporate L2' 'Personal L1' 'Special L2'\n",
      " 'Corporate L1' 'Personal L2' 'Special L1' 'Special L3']\n",
      "Ordinal: Renew_Offer_Type ['Offer1' 'Offer3' 'Offer2' 'Offer4']\n",
      "Nominal: Sales_Channel ['Agent' 'Call Center' 'Web' 'Branch']\n",
      "Nominal: Vehicle_Class ['Two-Door Car' 'Four-Door Car' 'SUV' 'Luxury SUV' 'Sports Car'\n",
      " 'Luxury Car']\n",
      "Ordinal: Vehicle_Size ['Medsize' 'Small' 'Large']\n"
     ]
    }
   ],
   "source": [
    "# Nonnumberic Values\n",
    "print('Nominal: State', df.State.unique())\n",
    "print('Ordinal: Coverage', df.Coverage.unique())\n",
    "print('Ordinal: Education', df.Education.unique())\n",
    "print('Nominal: Employment_Status', df.Employment_Status.unique())\n",
    "print('Binary: Gender', df.Gender.unique())\n",
    "print('Nominal: Location_Code', df.Location_Code.unique())\n",
    "print('Nominal: Marital_Status', df.Marital_Status.unique())\n",
    "print('Nominal: Policy_Type', df.Policy_Type.unique())\n",
    "print('Ordinal: Policy', df.Policy.unique())\n",
    "print('Ordinal: Renew_Offer_Type', df.Renew_Offer_Type.unique())\n",
    "print('Nominal: Sales_Channel', df.Sales_Channel.unique())\n",
    "print('Nominal: Vehicle_Class', df.Vehicle_Class.unique())\n",
    "print('Ordinal: Vehicle_Size', df.Vehicle_Size.unique())"
   ]
  },
  {
   "cell_type": "code",
   "execution_count": 57,
   "metadata": {
    "scrolled": false
   },
   "outputs": [
    {
     "name": "stdout",
     "output_type": "stream",
     "text": [
      "<class 'pandas.core.frame.DataFrame'>\n",
      "Index: 9134 entries, 0 to 9133\n",
      "Data columns (total 24 columns):\n",
      "Customer_ID                      9134 non-null category\n",
      "State                            9134 non-null category\n",
      "Customer_Lifetime_Value          9134 non-null float64\n",
      "Response                         9134 non-null category\n",
      "Coverage                         9134 non-null object\n",
      "Education                        9134 non-null category\n",
      "Effective_To_Date                9134 non-null datetime64[ns]\n",
      "Employment_Status                9134 non-null object\n",
      "Gender                           9134 non-null object\n",
      "Income                           9134 non-null int64\n",
      "Location_Code                    9134 non-null object\n",
      "Marital_Status                   9134 non-null category\n",
      "Monthly_Premium_Auto             9134 non-null int64\n",
      "Months_Since_Last_Claim          9134 non-null int64\n",
      "Months_Since_Policy_Inception    9134 non-null int64\n",
      "Number_of_Open_Complaints        9134 non-null int64\n",
      "Number_of_Policies               9134 non-null int64\n",
      "Policy_Type                      9134 non-null object\n",
      "Policy                           9134 non-null object\n",
      "Renew_Offer_Type                 9134 non-null object\n",
      "Sales_Channel                    9134 non-null object\n",
      "Total_Claim_Amount               9134 non-null float64\n",
      "Vehicle_Class                    9134 non-null object\n",
      "Vehicle_Size                     9134 non-null object\n",
      "dtypes: category(5), datetime64[ns](1), float64(2), int64(6), object(10)\n",
      "memory usage: 1.8+ MB\n"
     ]
    }
   ],
   "source": [
    "# print(df.Effective_To_Date)\n",
    "df.info()"
   ]
  },
  {
   "cell_type": "code",
   "execution_count": 58,
   "metadata": {},
   "outputs": [
    {
     "data": {
      "text/plain": [
       "<matplotlib.axes._subplots.AxesSubplot at 0x1a190448d0>"
      ]
     },
     "execution_count": 58,
     "metadata": {},
     "output_type": "execute_result"
    },
    {
     "data": {
      "image/png": "[encoded data removed]",
      "text/plain": [
       "<Figure size 432x288 with 1 Axes>"
      ]
     },
     "metadata": {
      "needs_background": "light"
     },
     "output_type": "display_data"
    }
   ],
   "source": [
    "sns.heatmap(df.isnull(),yticklabels=False,cbar=False,cmap='viridis')"
   ]
  },
  {
   "cell_type": "code",
   "execution_count": 59,
   "metadata": {
    "scrolled": true
   },
   "outputs": [
    {
     "data": {
      "text/plain": [
       "Customer_ID                      0\n",
       "State                            0\n",
       "Customer_Lifetime_Value          0\n",
       "Response                         0\n",
       "Coverage                         0\n",
       "Education                        0\n",
       "Effective_To_Date                0\n",
       "Employment_Status                0\n",
       "Gender                           0\n",
       "Income                           0\n",
       "Location_Code                    0\n",
       "Marital_Status                   0\n",
       "Monthly_Premium_Auto             0\n",
       "Months_Since_Last_Claim          0\n",
       "Months_Since_Policy_Inception    0\n",
       "Number_of_Open_Complaints        0\n",
       "Number_of_Policies               0\n",
       "Policy_Type                      0\n",
       "Policy                           0\n",
       "Renew_Offer_Type                 0\n",
       "Sales_Channel                    0\n",
       "Total_Claim_Amount               0\n",
       "Vehicle_Class                    0\n",
       "Vehicle_Size                     0\n",
       "dtype: int64"
      ]
     },
     "execution_count": 59,
     "metadata": {},
     "output_type": "execute_result"
    }
   ],
   "source": [
    "df.isnull().sum()"
   ]
  },
  {
   "cell_type": "markdown",
   "metadata": {},
   "source": [
    "There is no missing data"
   ]
  },
  {
   "cell_type": "markdown",
   "metadata": {},
   "source": [
    "## Transform data\n",
    "Once you have tidy data, a common first step is to transform it. **Transformation** includes narrowing in on observations of interest (like all people in one city, or all data from the last year), creating new variables that are functions of existing variables (like computing velocity from speed and time), and calculating a set of summary statistics (like counts or means). Together, tidying and transforming are called wrangling, because getting your data in a form that’s natural to work with often feels like a fight!"
   ]
  },
  {
   "cell_type": "code",
   "execution_count": 60,
   "metadata": {
    "scrolled": false
   },
   "outputs": [
    {
     "data": {
      "text/html": [
       "<div>\n",
       "<style scoped>\n",
       "    .dataframe tbody tr th:only-of-type {\n",
       "        vertical-align: middle;\n",
       "    }\n",
       "\n",
       "    .dataframe tbody tr th {\n",
       "        vertical-align: top;\n",
       "    }\n",
       "\n",
       "    .dataframe thead th {\n",
       "        text-align: right;\n",
       "    }\n",
       "</style>\n",
       "<table border=\"1\" class=\"dataframe\">\n",
       "  <thead>\n",
       "    <tr style=\"text-align: right;\">\n",
       "      <th></th>\n",
       "      <th>Customer_Lifetime_Value</th>\n",
       "      <th>Income</th>\n",
       "      <th>Monthly_Premium_Auto</th>\n",
       "      <th>Months_Since_Last_Claim</th>\n",
       "      <th>Months_Since_Policy_Inception</th>\n",
       "      <th>Number_of_Open_Complaints</th>\n",
       "      <th>Number_of_Policies</th>\n",
       "      <th>Total_Claim_Amount</th>\n",
       "    </tr>\n",
       "  </thead>\n",
       "  <tbody>\n",
       "    <tr>\n",
       "      <th>count</th>\n",
       "      <td>9134.000000</td>\n",
       "      <td>9134.000000</td>\n",
       "      <td>9134.000000</td>\n",
       "      <td>9134.000000</td>\n",
       "      <td>9134.000000</td>\n",
       "      <td>9134.000000</td>\n",
       "      <td>9134.000000</td>\n",
       "      <td>9134.000000</td>\n",
       "    </tr>\n",
       "    <tr>\n",
       "      <th>mean</th>\n",
       "      <td>8004.940475</td>\n",
       "      <td>37657.380009</td>\n",
       "      <td>93.219291</td>\n",
       "      <td>15.097000</td>\n",
       "      <td>48.064594</td>\n",
       "      <td>0.384388</td>\n",
       "      <td>2.966170</td>\n",
       "      <td>434.088794</td>\n",
       "    </tr>\n",
       "    <tr>\n",
       "      <th>std</th>\n",
       "      <td>6870.967608</td>\n",
       "      <td>30379.904734</td>\n",
       "      <td>34.407967</td>\n",
       "      <td>10.073257</td>\n",
       "      <td>27.905991</td>\n",
       "      <td>0.910384</td>\n",
       "      <td>2.390182</td>\n",
       "      <td>290.500092</td>\n",
       "    </tr>\n",
       "    <tr>\n",
       "      <th>min</th>\n",
       "      <td>1898.007675</td>\n",
       "      <td>0.000000</td>\n",
       "      <td>61.000000</td>\n",
       "      <td>0.000000</td>\n",
       "      <td>0.000000</td>\n",
       "      <td>0.000000</td>\n",
       "      <td>1.000000</td>\n",
       "      <td>0.099007</td>\n",
       "    </tr>\n",
       "    <tr>\n",
       "      <th>25%</th>\n",
       "      <td>3994.251794</td>\n",
       "      <td>0.000000</td>\n",
       "      <td>68.000000</td>\n",
       "      <td>6.000000</td>\n",
       "      <td>24.000000</td>\n",
       "      <td>0.000000</td>\n",
       "      <td>1.000000</td>\n",
       "      <td>272.258244</td>\n",
       "    </tr>\n",
       "    <tr>\n",
       "      <th>50%</th>\n",
       "      <td>5780.182197</td>\n",
       "      <td>33889.500000</td>\n",
       "      <td>83.000000</td>\n",
       "      <td>14.000000</td>\n",
       "      <td>48.000000</td>\n",
       "      <td>0.000000</td>\n",
       "      <td>2.000000</td>\n",
       "      <td>383.945434</td>\n",
       "    </tr>\n",
       "    <tr>\n",
       "      <th>75%</th>\n",
       "      <td>8962.167041</td>\n",
       "      <td>62320.000000</td>\n",
       "      <td>109.000000</td>\n",
       "      <td>23.000000</td>\n",
       "      <td>71.000000</td>\n",
       "      <td>0.000000</td>\n",
       "      <td>4.000000</td>\n",
       "      <td>547.514839</td>\n",
       "    </tr>\n",
       "    <tr>\n",
       "      <th>max</th>\n",
       "      <td>83325.381190</td>\n",
       "      <td>99981.000000</td>\n",
       "      <td>298.000000</td>\n",
       "      <td>35.000000</td>\n",
       "      <td>99.000000</td>\n",
       "      <td>5.000000</td>\n",
       "      <td>9.000000</td>\n",
       "      <td>2893.239678</td>\n",
       "    </tr>\n",
       "  </tbody>\n",
       "</table>\n",
       "</div>"
      ],
      "text/plain": [
       "       Customer_Lifetime_Value        Income  Monthly_Premium_Auto  \\\n",
       "count              9134.000000   9134.000000           9134.000000   \n",
       "mean               8004.940475  37657.380009             93.219291   \n",
       "std                6870.967608  30379.904734             34.407967   \n",
       "min                1898.007675      0.000000             61.000000   \n",
       "25%                3994.251794      0.000000             68.000000   \n",
       "50%                5780.182197  33889.500000             83.000000   \n",
       "75%                8962.167041  62320.000000            109.000000   \n",
       "max               83325.381190  99981.000000            298.000000   \n",
       "\n",
       "       Months_Since_Last_Claim  Months_Since_Policy_Inception  \\\n",
       "count              9134.000000                    9134.000000   \n",
       "mean                 15.097000                      48.064594   \n",
       "std                  10.073257                      27.905991   \n",
       "min                   0.000000                       0.000000   \n",
       "25%                   6.000000                      24.000000   \n",
       "50%                  14.000000                      48.000000   \n",
       "75%                  23.000000                      71.000000   \n",
       "max                  35.000000                      99.000000   \n",
       "\n",
       "       Number_of_Open_Complaints  Number_of_Policies  Total_Claim_Amount  \n",
       "count                9134.000000         9134.000000         9134.000000  \n",
       "mean                    0.384388            2.966170          434.088794  \n",
       "std                     0.910384            2.390182          290.500092  \n",
       "min                     0.000000            1.000000            0.099007  \n",
       "25%                     0.000000            1.000000          272.258244  \n",
       "50%                     0.000000            2.000000          383.945434  \n",
       "75%                     0.000000            4.000000          547.514839  \n",
       "max                     5.000000            9.000000         2893.239678  "
      ]
     },
     "execution_count": 60,
     "metadata": {},
     "output_type": "execute_result"
    }
   ],
   "source": [
    "df.describe()"
   ]
  },
  {
   "cell_type": "code",
   "execution_count": 61,
   "metadata": {
    "scrolled": false
   },
   "outputs": [
    {
     "data": {
      "text/html": [
       "<div>\n",
       "<style scoped>\n",
       "    .dataframe tbody tr th:only-of-type {\n",
       "        vertical-align: middle;\n",
       "    }\n",
       "\n",
       "    .dataframe tbody tr th {\n",
       "        vertical-align: top;\n",
       "    }\n",
       "\n",
       "    .dataframe thead th {\n",
       "        text-align: right;\n",
       "    }\n",
       "</style>\n",
       "<table border=\"1\" class=\"dataframe\">\n",
       "  <thead>\n",
       "    <tr style=\"text-align: right;\">\n",
       "      <th></th>\n",
       "      <th>Customer_ID</th>\n",
       "      <th>State</th>\n",
       "      <th>Response</th>\n",
       "      <th>Coverage</th>\n",
       "      <th>Education</th>\n",
       "      <th>Effective_To_Date</th>\n",
       "      <th>Employment_Status</th>\n",
       "      <th>Gender</th>\n",
       "      <th>Location_Code</th>\n",
       "      <th>Marital_Status</th>\n",
       "      <th>Policy_Type</th>\n",
       "      <th>Policy</th>\n",
       "      <th>Renew_Offer_Type</th>\n",
       "      <th>Sales_Channel</th>\n",
       "      <th>Vehicle_Class</th>\n",
       "      <th>Vehicle_Size</th>\n",
       "    </tr>\n",
       "  </thead>\n",
       "  <tbody>\n",
       "    <tr>\n",
       "      <th>count</th>\n",
       "      <td>9134</td>\n",
       "      <td>9134</td>\n",
       "      <td>9134</td>\n",
       "      <td>9134</td>\n",
       "      <td>9134</td>\n",
       "      <td>9134</td>\n",
       "      <td>9134</td>\n",
       "      <td>9134</td>\n",
       "      <td>9134</td>\n",
       "      <td>9134</td>\n",
       "      <td>9134</td>\n",
       "      <td>9134</td>\n",
       "      <td>9134</td>\n",
       "      <td>9134</td>\n",
       "      <td>9134</td>\n",
       "      <td>9134</td>\n",
       "    </tr>\n",
       "    <tr>\n",
       "      <th>unique</th>\n",
       "      <td>9134</td>\n",
       "      <td>5</td>\n",
       "      <td>2</td>\n",
       "      <td>3</td>\n",
       "      <td>5</td>\n",
       "      <td>59</td>\n",
       "      <td>5</td>\n",
       "      <td>2</td>\n",
       "      <td>3</td>\n",
       "      <td>3</td>\n",
       "      <td>3</td>\n",
       "      <td>9</td>\n",
       "      <td>4</td>\n",
       "      <td>4</td>\n",
       "      <td>6</td>\n",
       "      <td>3</td>\n",
       "    </tr>\n",
       "    <tr>\n",
       "      <th>top</th>\n",
       "      <td>ZZ97035</td>\n",
       "      <td>California</td>\n",
       "      <td>No</td>\n",
       "      <td>Basic</td>\n",
       "      <td>Bachelor</td>\n",
       "      <td>2011-01-10 00:00:00</td>\n",
       "      <td>Employed</td>\n",
       "      <td>F</td>\n",
       "      <td>Suburban</td>\n",
       "      <td>Married</td>\n",
       "      <td>Personal Auto</td>\n",
       "      <td>Personal L3</td>\n",
       "      <td>Offer1</td>\n",
       "      <td>Agent</td>\n",
       "      <td>Four-Door Car</td>\n",
       "      <td>Medsize</td>\n",
       "    </tr>\n",
       "    <tr>\n",
       "      <th>freq</th>\n",
       "      <td>1</td>\n",
       "      <td>3150</td>\n",
       "      <td>7826</td>\n",
       "      <td>5568</td>\n",
       "      <td>2748</td>\n",
       "      <td>195</td>\n",
       "      <td>5698</td>\n",
       "      <td>4658</td>\n",
       "      <td>5779</td>\n",
       "      <td>5298</td>\n",
       "      <td>6788</td>\n",
       "      <td>3426</td>\n",
       "      <td>3752</td>\n",
       "      <td>3477</td>\n",
       "      <td>4621</td>\n",
       "      <td>6424</td>\n",
       "    </tr>\n",
       "    <tr>\n",
       "      <th>first</th>\n",
       "      <td>NaN</td>\n",
       "      <td>NaN</td>\n",
       "      <td>NaN</td>\n",
       "      <td>NaN</td>\n",
       "      <td>NaN</td>\n",
       "      <td>2011-01-01 00:00:00</td>\n",
       "      <td>NaN</td>\n",
       "      <td>NaN</td>\n",
       "      <td>NaN</td>\n",
       "      <td>NaN</td>\n",
       "      <td>NaN</td>\n",
       "      <td>NaN</td>\n",
       "      <td>NaN</td>\n",
       "      <td>NaN</td>\n",
       "      <td>NaN</td>\n",
       "      <td>NaN</td>\n",
       "    </tr>\n",
       "    <tr>\n",
       "      <th>last</th>\n",
       "      <td>NaN</td>\n",
       "      <td>NaN</td>\n",
       "      <td>NaN</td>\n",
       "      <td>NaN</td>\n",
       "      <td>NaN</td>\n",
       "      <td>2011-02-28 00:00:00</td>\n",
       "      <td>NaN</td>\n",
       "      <td>NaN</td>\n",
       "      <td>NaN</td>\n",
       "      <td>NaN</td>\n",
       "      <td>NaN</td>\n",
       "      <td>NaN</td>\n",
       "      <td>NaN</td>\n",
       "      <td>NaN</td>\n",
       "      <td>NaN</td>\n",
       "      <td>NaN</td>\n",
       "    </tr>\n",
       "  </tbody>\n",
       "</table>\n",
       "</div>"
      ],
      "text/plain": [
       "       Customer_ID       State Response Coverage Education  \\\n",
       "count         9134        9134     9134     9134      9134   \n",
       "unique        9134           5        2        3         5   \n",
       "top        ZZ97035  California       No    Basic  Bachelor   \n",
       "freq             1        3150     7826     5568      2748   \n",
       "first          NaN         NaN      NaN      NaN       NaN   \n",
       "last           NaN         NaN      NaN      NaN       NaN   \n",
       "\n",
       "          Effective_To_Date Employment_Status Gender Location_Code  \\\n",
       "count                  9134              9134   9134          9134   \n",
       "unique                   59                 5      2             3   \n",
       "top     2011-01-10 00:00:00          Employed      F      Suburban   \n",
       "freq                    195              5698   4658          5779   \n",
       "first   2011-01-01 00:00:00               NaN    NaN           NaN   \n",
       "last    2011-02-28 00:00:00               NaN    NaN           NaN   \n",
       "\n",
       "       Marital_Status    Policy_Type       Policy Renew_Offer_Type  \\\n",
       "count            9134           9134         9134             9134   \n",
       "unique              3              3            9                4   \n",
       "top           Married  Personal Auto  Personal L3           Offer1   \n",
       "freq             5298           6788         3426             3752   \n",
       "first             NaN            NaN          NaN              NaN   \n",
       "last              NaN            NaN          NaN              NaN   \n",
       "\n",
       "       Sales_Channel  Vehicle_Class Vehicle_Size  \n",
       "count           9134           9134         9134  \n",
       "unique             4              6            3  \n",
       "top            Agent  Four-Door Car      Medsize  \n",
       "freq            3477           4621         6424  \n",
       "first            NaN            NaN          NaN  \n",
       "last             NaN            NaN          NaN  "
      ]
     },
     "execution_count": 61,
     "metadata": {},
     "output_type": "execute_result"
    }
   ],
   "source": [
    "df.describe(exclude=[np.number])"
   ]
  },
  {
   "cell_type": "code",
   "execution_count": 62,
   "metadata": {
    "scrolled": true
   },
   "outputs": [
    {
     "name": "stdout",
     "output_type": "stream",
     "text": [
      "2011-01-01 00:00:00\n",
      "2011-02-28 00:00:00\n"
     ]
    }
   ],
   "source": [
    "# Betrachteter Zeitraum:\n",
    "print(df.Effective_To_Date.min())\n",
    "print(df.Effective_To_Date.max())"
   ]
  },
  {
   "cell_type": "markdown",
   "metadata": {},
   "source": [
    "### Discription Customer"
   ]
  },
  {
   "cell_type": "code",
   "execution_count": 72,
   "metadata": {
    "scrolled": true
   },
   "outputs": [
    {
     "name": "stdout",
     "output_type": "stream",
     "text": [
      "Count unique Customers 9134\n"
     ]
    },
    {
     "data": {
      "text/html": [
       "<div>\n",
       "<style scoped>\n",
       "    .dataframe tbody tr th:only-of-type {\n",
       "        vertical-align: middle;\n",
       "    }\n",
       "\n",
       "    .dataframe tbody tr th {\n",
       "        vertical-align: top;\n",
       "    }\n",
       "\n",
       "    .dataframe thead th {\n",
       "        text-align: right;\n",
       "    }\n",
       "</style>\n",
       "<table border=\"1\" class=\"dataframe\">\n",
       "  <thead>\n",
       "    <tr style=\"text-align: right;\">\n",
       "      <th></th>\n",
       "      <th>Gender</th>\n",
       "    </tr>\n",
       "  </thead>\n",
       "  <tbody>\n",
       "    <tr>\n",
       "      <th>F</th>\n",
       "      <td>4658</td>\n",
       "    </tr>\n",
       "    <tr>\n",
       "      <th>M</th>\n",
       "      <td>4476</td>\n",
       "    </tr>\n",
       "  </tbody>\n",
       "</table>\n",
       "</div>"
      ],
      "text/plain": [
       "   Gender\n",
       "F    4658\n",
       "M    4476"
      ]
     },
     "metadata": {},
     "output_type": "display_data"
    },
    {
     "data": {
      "text/html": [
       "<div>\n",
       "<style scoped>\n",
       "    .dataframe tbody tr th:only-of-type {\n",
       "        vertical-align: middle;\n",
       "    }\n",
       "\n",
       "    .dataframe tbody tr th {\n",
       "        vertical-align: top;\n",
       "    }\n",
       "\n",
       "    .dataframe thead th {\n",
       "        text-align: right;\n",
       "    }\n",
       "</style>\n",
       "<table border=\"1\" class=\"dataframe\">\n",
       "  <thead>\n",
       "    <tr style=\"text-align: right;\">\n",
       "      <th></th>\n",
       "      <th>Marital_Status</th>\n",
       "    </tr>\n",
       "  </thead>\n",
       "  <tbody>\n",
       "    <tr>\n",
       "      <th>Married</th>\n",
       "      <td>5298</td>\n",
       "    </tr>\n",
       "    <tr>\n",
       "      <th>Single</th>\n",
       "      <td>2467</td>\n",
       "    </tr>\n",
       "    <tr>\n",
       "      <th>Divorced</th>\n",
       "      <td>1369</td>\n",
       "    </tr>\n",
       "  </tbody>\n",
       "</table>\n",
       "</div>"
      ],
      "text/plain": [
       "          Marital_Status\n",
       "Married             5298\n",
       "Single              2467\n",
       "Divorced            1369"
      ]
     },
     "metadata": {},
     "output_type": "display_data"
    },
    {
     "data": {
      "text/html": [
       "<div>\n",
       "<style scoped>\n",
       "    .dataframe tbody tr th:only-of-type {\n",
       "        vertical-align: middle;\n",
       "    }\n",
       "\n",
       "    .dataframe tbody tr th {\n",
       "        vertical-align: top;\n",
       "    }\n",
       "\n",
       "    .dataframe thead th {\n",
       "        text-align: right;\n",
       "    }\n",
       "</style>\n",
       "<table border=\"1\" class=\"dataframe\">\n",
       "  <thead>\n",
       "    <tr style=\"text-align: right;\">\n",
       "      <th></th>\n",
       "      <th>Education</th>\n",
       "    </tr>\n",
       "  </thead>\n",
       "  <tbody>\n",
       "    <tr>\n",
       "      <th>Bachelor</th>\n",
       "      <td>2748</td>\n",
       "    </tr>\n",
       "    <tr>\n",
       "      <th>College</th>\n",
       "      <td>2681</td>\n",
       "    </tr>\n",
       "    <tr>\n",
       "      <th>High School or Below</th>\n",
       "      <td>2622</td>\n",
       "    </tr>\n",
       "    <tr>\n",
       "      <th>Master</th>\n",
       "      <td>741</td>\n",
       "    </tr>\n",
       "    <tr>\n",
       "      <th>Doctor</th>\n",
       "      <td>342</td>\n",
       "    </tr>\n",
       "  </tbody>\n",
       "</table>\n",
       "</div>"
      ],
      "text/plain": [
       "                      Education\n",
       "Bachelor                   2748\n",
       "College                    2681\n",
       "High School or Below       2622\n",
       "Master                      741\n",
       "Doctor                      342"
      ]
     },
     "metadata": {},
     "output_type": "display_data"
    },
    {
     "name": "stdout",
     "output_type": "stream",
     "text": [
      "Max Income:  99981\n",
      "Min Income:  0\n",
      "Mean Income:  37657.38\n",
      "--------------------------------\n"
     ]
    },
    {
     "data": {
      "text/html": [
       "<div>\n",
       "<style scoped>\n",
       "    .dataframe tbody tr th:only-of-type {\n",
       "        vertical-align: middle;\n",
       "    }\n",
       "\n",
       "    .dataframe tbody tr th {\n",
       "        vertical-align: top;\n",
       "    }\n",
       "\n",
       "    .dataframe thead th {\n",
       "        text-align: right;\n",
       "    }\n",
       "</style>\n",
       "<table border=\"1\" class=\"dataframe\">\n",
       "  <thead>\n",
       "    <tr style=\"text-align: right;\">\n",
       "      <th></th>\n",
       "      <th>Location_Code</th>\n",
       "    </tr>\n",
       "  </thead>\n",
       "  <tbody>\n",
       "    <tr>\n",
       "      <th>Suburban</th>\n",
       "      <td>5779</td>\n",
       "    </tr>\n",
       "    <tr>\n",
       "      <th>Rural</th>\n",
       "      <td>1773</td>\n",
       "    </tr>\n",
       "    <tr>\n",
       "      <th>Urban</th>\n",
       "      <td>1582</td>\n",
       "    </tr>\n",
       "  </tbody>\n",
       "</table>\n",
       "</div>"
      ],
      "text/plain": [
       "          Location_Code\n",
       "Suburban           5779\n",
       "Rural              1773\n",
       "Urban              1582"
      ]
     },
     "metadata": {},
     "output_type": "display_data"
    },
    {
     "data": {
      "text/html": [
       "<div>\n",
       "<style scoped>\n",
       "    .dataframe tbody tr th:only-of-type {\n",
       "        vertical-align: middle;\n",
       "    }\n",
       "\n",
       "    .dataframe tbody tr th {\n",
       "        vertical-align: top;\n",
       "    }\n",
       "\n",
       "    .dataframe thead th {\n",
       "        text-align: right;\n",
       "    }\n",
       "</style>\n",
       "<table border=\"1\" class=\"dataframe\">\n",
       "  <thead>\n",
       "    <tr style=\"text-align: right;\">\n",
       "      <th></th>\n",
       "      <th>Employment_Status</th>\n",
       "    </tr>\n",
       "  </thead>\n",
       "  <tbody>\n",
       "    <tr>\n",
       "      <th>Employed</th>\n",
       "      <td>5698</td>\n",
       "    </tr>\n",
       "    <tr>\n",
       "      <th>Unemployed</th>\n",
       "      <td>2317</td>\n",
       "    </tr>\n",
       "    <tr>\n",
       "      <th>Medical Leave</th>\n",
       "      <td>432</td>\n",
       "    </tr>\n",
       "    <tr>\n",
       "      <th>Disabled</th>\n",
       "      <td>405</td>\n",
       "    </tr>\n",
       "    <tr>\n",
       "      <th>Retired</th>\n",
       "      <td>282</td>\n",
       "    </tr>\n",
       "  </tbody>\n",
       "</table>\n",
       "</div>"
      ],
      "text/plain": [
       "               Employment_Status\n",
       "Employed                    5698\n",
       "Unemployed                  2317\n",
       "Medical Leave                432\n",
       "Disabled                     405\n",
       "Retired                      282"
      ]
     },
     "metadata": {},
     "output_type": "display_data"
    }
   ],
   "source": [
    "# Distribution Gender\n",
    "print('Count unique Customers', len(df.Customer_ID))\n",
    "display(pd.DataFrame(df.Gender.value_counts()))\n",
    "#Distribution Marital_Status\n",
    "display(pd.DataFrame(df.Marital_Status.value_counts()))\n",
    "# Education\n",
    "display(pd.DataFrame(df.Education.value_counts()))\n",
    "# Income\n",
    "print('Max Income: ', df.Income.max())\n",
    "print('Min Income: ', df.Income.min())\n",
    "print('Mean Income: ', round(df.Income.mean(), 2))\n",
    "print('-'*32)\n",
    "# Location\n",
    "display(pd.DataFrame(df.Location_Code.value_counts()))\n",
    "#Employment\n",
    "display(pd.DataFrame(df.Employment_Status.value_counts()))"
   ]
  },
  {
   "cell_type": "code",
   "execution_count": 68,
   "metadata": {},
   "outputs": [
    {
     "data": {
      "text/html": [
       "<div>\n",
       "<style scoped>\n",
       "    .dataframe tbody tr th:only-of-type {\n",
       "        vertical-align: middle;\n",
       "    }\n",
       "\n",
       "    .dataframe tbody tr th {\n",
       "        vertical-align: top;\n",
       "    }\n",
       "\n",
       "    .dataframe thead th {\n",
       "        text-align: right;\n",
       "    }\n",
       "</style>\n",
       "<table border=\"1\" class=\"dataframe\">\n",
       "  <thead>\n",
       "    <tr style=\"text-align: right;\">\n",
       "      <th></th>\n",
       "      <th>Customer_ID</th>\n",
       "      <th>State</th>\n",
       "      <th>Customer_Lifetime_Value</th>\n",
       "      <th>Response</th>\n",
       "      <th>Coverage</th>\n",
       "      <th>Education</th>\n",
       "      <th>Effective_To_Date</th>\n",
       "      <th>Employment_Status</th>\n",
       "      <th>Gender</th>\n",
       "      <th>Income</th>\n",
       "      <th>Location_Code</th>\n",
       "      <th>Marital_Status</th>\n",
       "      <th>Monthly_Premium_Auto</th>\n",
       "      <th>Months_Since_Last_Claim</th>\n",
       "      <th>Months_Since_Policy_Inception</th>\n",
       "      <th>Number_of_Open_Complaints</th>\n",
       "      <th>Number_of_Policies</th>\n",
       "      <th>Policy_Type</th>\n",
       "      <th>Policy</th>\n",
       "      <th>Renew_Offer_Type</th>\n",
       "      <th>Sales_Channel</th>\n",
       "      <th>Total_Claim_Amount</th>\n",
       "      <th>Vehicle_Class</th>\n",
       "      <th>Vehicle_Size</th>\n",
       "    </tr>\n",
       "  </thead>\n",
       "  <tbody>\n",
       "    <tr>\n",
       "      <th>0</th>\n",
       "      <td>BU79786</td>\n",
       "      <td>Washington</td>\n",
       "      <td>2763.519279</td>\n",
       "      <td>No</td>\n",
       "      <td>Basic</td>\n",
       "      <td>Bachelor</td>\n",
       "      <td>2011-02-24</td>\n",
       "      <td>Employed</td>\n",
       "      <td>F</td>\n",
       "      <td>56274</td>\n",
       "      <td>Suburban</td>\n",
       "      <td>Married</td>\n",
       "      <td>69</td>\n",
       "      <td>32</td>\n",
       "      <td>5</td>\n",
       "      <td>0</td>\n",
       "      <td>1</td>\n",
       "      <td>Corporate Auto</td>\n",
       "      <td>Corporate L3</td>\n",
       "      <td>Offer1</td>\n",
       "      <td>Agent</td>\n",
       "      <td>384.811147</td>\n",
       "      <td>Two-Door Car</td>\n",
       "      <td>Medsize</td>\n",
       "    </tr>\n",
       "    <tr>\n",
       "      <th>1</th>\n",
       "      <td>QZ44356</td>\n",
       "      <td>Arizona</td>\n",
       "      <td>6979.535903</td>\n",
       "      <td>No</td>\n",
       "      <td>Extended</td>\n",
       "      <td>Bachelor</td>\n",
       "      <td>2011-01-31</td>\n",
       "      <td>Unemployed</td>\n",
       "      <td>F</td>\n",
       "      <td>0</td>\n",
       "      <td>Suburban</td>\n",
       "      <td>Single</td>\n",
       "      <td>94</td>\n",
       "      <td>13</td>\n",
       "      <td>42</td>\n",
       "      <td>0</td>\n",
       "      <td>8</td>\n",
       "      <td>Personal Auto</td>\n",
       "      <td>Personal L3</td>\n",
       "      <td>Offer3</td>\n",
       "      <td>Agent</td>\n",
       "      <td>1131.464935</td>\n",
       "      <td>Four-Door Car</td>\n",
       "      <td>Medsize</td>\n",
       "    </tr>\n",
       "    <tr>\n",
       "      <th>2</th>\n",
       "      <td>AI49188</td>\n",
       "      <td>Nevada</td>\n",
       "      <td>12887.431650</td>\n",
       "      <td>No</td>\n",
       "      <td>Premium</td>\n",
       "      <td>Bachelor</td>\n",
       "      <td>2011-02-19</td>\n",
       "      <td>Employed</td>\n",
       "      <td>F</td>\n",
       "      <td>48767</td>\n",
       "      <td>Suburban</td>\n",
       "      <td>Married</td>\n",
       "      <td>108</td>\n",
       "      <td>18</td>\n",
       "      <td>38</td>\n",
       "      <td>0</td>\n",
       "      <td>2</td>\n",
       "      <td>Personal Auto</td>\n",
       "      <td>Personal L3</td>\n",
       "      <td>Offer1</td>\n",
       "      <td>Agent</td>\n",
       "      <td>566.472247</td>\n",
       "      <td>Two-Door Car</td>\n",
       "      <td>Medsize</td>\n",
       "    </tr>\n",
       "    <tr>\n",
       "      <th>3</th>\n",
       "      <td>WW63253</td>\n",
       "      <td>California</td>\n",
       "      <td>7645.861827</td>\n",
       "      <td>No</td>\n",
       "      <td>Basic</td>\n",
       "      <td>Bachelor</td>\n",
       "      <td>2011-01-20</td>\n",
       "      <td>Unemployed</td>\n",
       "      <td>M</td>\n",
       "      <td>0</td>\n",
       "      <td>Suburban</td>\n",
       "      <td>Married</td>\n",
       "      <td>106</td>\n",
       "      <td>18</td>\n",
       "      <td>65</td>\n",
       "      <td>0</td>\n",
       "      <td>7</td>\n",
       "      <td>Corporate Auto</td>\n",
       "      <td>Corporate L2</td>\n",
       "      <td>Offer1</td>\n",
       "      <td>Call Center</td>\n",
       "      <td>529.881344</td>\n",
       "      <td>SUV</td>\n",
       "      <td>Medsize</td>\n",
       "    </tr>\n",
       "    <tr>\n",
       "      <th>4</th>\n",
       "      <td>HB64268</td>\n",
       "      <td>Washington</td>\n",
       "      <td>2813.692575</td>\n",
       "      <td>No</td>\n",
       "      <td>Basic</td>\n",
       "      <td>Bachelor</td>\n",
       "      <td>2011-02-03</td>\n",
       "      <td>Employed</td>\n",
       "      <td>M</td>\n",
       "      <td>43836</td>\n",
       "      <td>Rural</td>\n",
       "      <td>Single</td>\n",
       "      <td>73</td>\n",
       "      <td>12</td>\n",
       "      <td>44</td>\n",
       "      <td>0</td>\n",
       "      <td>1</td>\n",
       "      <td>Personal Auto</td>\n",
       "      <td>Personal L1</td>\n",
       "      <td>Offer1</td>\n",
       "      <td>Agent</td>\n",
       "      <td>138.130879</td>\n",
       "      <td>Four-Door Car</td>\n",
       "      <td>Medsize</td>\n",
       "    </tr>\n",
       "  </tbody>\n",
       "</table>\n",
       "</div>"
      ],
      "text/plain": [
       "  Customer_ID       State  Customer_Lifetime_Value Response  Coverage  \\\n",
       "0     BU79786  Washington              2763.519279       No     Basic   \n",
       "1     QZ44356     Arizona              6979.535903       No  Extended   \n",
       "2     AI49188      Nevada             12887.431650       No   Premium   \n",
       "3     WW63253  California              7645.861827       No     Basic   \n",
       "4     HB64268  Washington              2813.692575       No     Basic   \n",
       "\n",
       "  Education Effective_To_Date Employment_Status Gender  Income Location_Code  \\\n",
       "0  Bachelor        2011-02-24          Employed      F   56274      Suburban   \n",
       "1  Bachelor        2011-01-31        Unemployed      F       0      Suburban   \n",
       "2  Bachelor        2011-02-19          Employed      F   48767      Suburban   \n",
       "3  Bachelor        2011-01-20        Unemployed      M       0      Suburban   \n",
       "4  Bachelor        2011-02-03          Employed      M   43836         Rural   \n",
       "\n",
       "  Marital_Status  Monthly_Premium_Auto  Months_Since_Last_Claim  \\\n",
       "0        Married                    69                       32   \n",
       "1         Single                    94                       13   \n",
       "2        Married                   108                       18   \n",
       "3        Married                   106                       18   \n",
       "4         Single                    73                       12   \n",
       "\n",
       "   Months_Since_Policy_Inception  Number_of_Open_Complaints  \\\n",
       "0                              5                          0   \n",
       "1                             42                          0   \n",
       "2                             38                          0   \n",
       "3                             65                          0   \n",
       "4                             44                          0   \n",
       "\n",
       "   Number_of_Policies     Policy_Type        Policy Renew_Offer_Type  \\\n",
       "0                   1  Corporate Auto  Corporate L3           Offer1   \n",
       "1                   8   Personal Auto   Personal L3           Offer3   \n",
       "2                   2   Personal Auto   Personal L3           Offer1   \n",
       "3                   7  Corporate Auto  Corporate L2           Offer1   \n",
       "4                   1   Personal Auto   Personal L1           Offer1   \n",
       "\n",
       "  Sales_Channel  Total_Claim_Amount  Vehicle_Class Vehicle_Size  \n",
       "0         Agent          384.811147   Two-Door Car      Medsize  \n",
       "1         Agent         1131.464935  Four-Door Car      Medsize  \n",
       "2         Agent          566.472247   Two-Door Car      Medsize  \n",
       "3   Call Center          529.881344            SUV      Medsize  \n",
       "4         Agent          138.130879  Four-Door Car      Medsize  "
      ]
     },
     "execution_count": 68,
     "metadata": {},
     "output_type": "execute_result"
    }
   ],
   "source": [
    "df.head()"
   ]
  },
  {
   "cell_type": "markdown",
   "metadata": {},
   "source": [
    "### Description Cars"
   ]
  },
  {
   "cell_type": "code",
   "execution_count": null,
   "metadata": {},
   "outputs": [],
   "source": [
    "# Gesamtanzahl verkaufter Autos\n",
    "# Distibution: Welches Angebot wurde am meisten angenommen?\n",
    "# Welche Autogröße ist am gefragtesten?\n",
    "# Welcher Verkauf brachte am meisten Gewinn?"
   ]
  },
  {
   "cell_type": "code",
   "execution_count": null,
   "metadata": {},
   "outputs": [],
   "source": []
  },
  {
   "cell_type": "code",
   "execution_count": null,
   "metadata": {},
   "outputs": [],
   "source": []
  },
  {
   "cell_type": "code",
   "execution_count": null,
   "metadata": {},
   "outputs": [],
   "source": []
  },
  {
   "cell_type": "markdown",
   "metadata": {},
   "source": [
    "### Desciptiv Statistics\n",
    "#### Measures of central trendency"
   ]
  },
  {
   "cell_type": "code",
   "execution_count": null,
   "metadata": {},
   "outputs": [],
   "source": []
  },
  {
   "cell_type": "markdown",
   "metadata": {},
   "source": [
    "## Visualize data\n",
    "Once you have tidy data with the variables you need, there are two main engines of knowledge generation: visualisation and modelling. These have complementary strengths and weaknesses so any real analysis will iterate between them many times."
   ]
  },
  {
   "cell_type": "markdown",
   "metadata": {},
   "source": [
    "+ Boxplots\n",
    "+ Histogramme\n",
    "+ Scatter (e.g. Gender Distribution, Income in Bezug auf Ausgaben und Geschlecht, Income in Bezug auf Total_Claim_Account)\n",
    "+ Gender: Verhalten im Bezug auf den Mariat_Status, Was für ein AutoType hat welches Geschlecht? => neue Variable\n",
    "+ Karte mit den States mit einbauen, Anteile anzeigen, Berufsbildung, => es geht hier um eine Marketinganalyse\n",
    "+ Durchschnittlicher Spending\n",
    "+ Kategorisierem der Autos in einer neuen unique Variablen "
   ]
  },
  {
   "cell_type": "markdown",
   "metadata": {},
   "source": [
    "**Visualisation** is a fundamentally human activity. A good visualisation will show you things that you did not expect, or raise new questions about the data. A good visualisation might also hint that you’re asking the wrong question, or you need to collect different data. Visualisations can surprise you, but don’t scale particularly well because they require a human to interpret them."
   ]
  },
  {
   "cell_type": "code",
   "execution_count": null,
   "metadata": {},
   "outputs": [],
   "source": []
  },
  {
   "cell_type": "markdown",
   "metadata": {},
   "source": [
    "## Models\n",
    "**Models** are complementary tools to visualisation. Once you have made your questions sufficiently precise, you can use a model to answer them. Models are a fundamentally mathematical or computational tool, so they generally scale well. But every model makes assumptions, and by its very nature a model cannot question its own assumptions. That means a model cannot fundamentally surprise you."
   ]
  },
  {
   "cell_type": "code",
   "execution_count": null,
   "metadata": {},
   "outputs": [],
   "source": []
  },
  {
   "cell_type": "markdown",
   "metadata": {},
   "source": [
    "## Communication\n",
    "The last step is **communication**, an absolutely critical part of any data analysis project. It doesn’t matter how well your models and visualisation have led you to understand the data unless you can also communicate your results to others."
   ]
  },
  {
   "cell_type": "code",
   "execution_count": null,
   "metadata": {},
   "outputs": [],
   "source": []
  },
  {
   "cell_type": "markdown",
   "metadata": {},
   "source": [
    "Surrounding all these tools is **programming**. Programming is a cross-cutting tool that you use in every part of the project. You don’t need to be an expert programmer to be a data scientist, but learning more about programming pays off because becoming a better programmer allows you to automate common tasks, and solve new problems with greater ease.\n",
    "\n",
    "Source: Wickham/Grolemund, 2016"
   ]
  },
  {
   "cell_type": "code",
   "execution_count": null,
   "metadata": {},
   "outputs": [],
   "source": []
  },
  {
   "cell_type": "markdown",
   "metadata": {},
   "source": [
    "Das Projekt folgt dem __Vorgehensmodell__ von CRISP_DM.\n",
    "\n",
    "<img align=\"left\" src=\"https://upload.wikimedia.org/wikipedia/commons/b/b9/CRISP-DM_Process_Diagram.png\" width=\"400\"/>"
   ]
  },
  {
   "cell_type": "markdown",
   "metadata": {},
   "source": [
    "# BUSINESS UNDERSTANDING: Ursprung und grober Inhalt des Datensatzes"
   ]
  },
  {
   "cell_type": "markdown",
   "metadata": {},
   "source": [
    "__ToDo:__\n",
    "+ Woher sind die Daten?\n",
    "+ In welchem Rahmen wurden sie erhoben?\n",
    "+ Welchen Umfang haben sie?"
   ]
  },
  {
   "cell_type": "code",
   "execution_count": null,
   "metadata": {},
   "outputs": [],
   "source": [
    "#import sys\n",
    "#if not sys.warnoptions:\n",
    "import warnings\n",
    "warnings.simplefilter(\"ignore\")"
   ]
  },
  {
   "cell_type": "code",
   "execution_count": null,
   "metadata": {},
   "outputs": [],
   "source": [
    "import pandas as pd\n",
    "import numpy as np"
   ]
  },
  {
   "cell_type": "markdown",
   "metadata": {},
   "source": [
    "## DATA UNDERSTANDING: Was wissen wir und was wollen wir wissen?"
   ]
  },
  {
   "cell_type": "markdown",
   "metadata": {},
   "source": [
    "## Initiale Datensammlung"
   ]
  },
  {
   "cell_type": "markdown",
   "metadata": {},
   "source": [
    "Der Datensatz ist von [hier](https://www.ibm.com/communities/analytics/watson-analytics-blog/marketing-customer-value-analysis/)."
   ]
  },
  {
   "cell_type": "code",
   "execution_count": null,
   "metadata": {},
   "outputs": [],
   "source": [
    "# pd.set_option('display.height', 1000)\n",
    "pd.set_option('display.max_rows', 500)\n",
    "pd.set_option('display.max_columns', 500)\n",
    "pd.set_option('display.width', 1000)"
   ]
  },
  {
   "cell_type": "code",
   "execution_count": null,
   "metadata": {},
   "outputs": [],
   "source": [
    "df = pd.read_csv('marketing_customer_marketing_raw_data.csv')"
   ]
  },
  {
   "cell_type": "code",
   "execution_count": null,
   "metadata": {},
   "outputs": [],
   "source": [
    "df.shape"
   ]
  },
  {
   "cell_type": "code",
   "execution_count": null,
   "metadata": {
    "scrolled": true
   },
   "outputs": [],
   "source": [
    "display(df.head())"
   ]
  },
  {
   "cell_type": "markdown",
   "metadata": {},
   "source": [
    "## Beschreibung der Daten "
   ]
  },
  {
   "cell_type": "code",
   "execution_count": null,
   "metadata": {},
   "outputs": [],
   "source": [
    "df.describe()"
   ]
  },
  {
   "cell_type": "code",
   "execution_count": null,
   "metadata": {
    "scrolled": true
   },
   "outputs": [],
   "source": [
    "df.describe(exclude=[np.number])"
   ]
  },
  {
   "cell_type": "code",
   "execution_count": null,
   "metadata": {
    "scrolled": true
   },
   "outputs": [],
   "source": [
    "df.isnull().sum()"
   ]
  },
  {
   "cell_type": "markdown",
   "metadata": {},
   "source": [
    "## Datenexploration"
   ]
  },
  {
   "cell_type": "markdown",
   "metadata": {},
   "source": [
    "## Betrachtung der Datenqualität"
   ]
  },
  {
   "cell_type": "markdown",
   "metadata": {},
   "source": [
    "# DATA PREPARATION:"
   ]
  },
  {
   "cell_type": "markdown",
   "metadata": {},
   "source": [
    "# MODELLING"
   ]
  },
  {
   "cell_type": "markdown",
   "metadata": {},
   "source": [
    "# EVALUATION"
   ]
  },
  {
   "cell_type": "markdown",
   "metadata": {},
   "source": [
    "# DEPLOYMENT"
   ]
  },
  {
   "cell_type": "markdown",
   "metadata": {},
   "source": [
    "## Positives\n",
    "## Negatives\n",
    "## Next Steps"
   ]
  },
  {
   "cell_type": "markdown",
   "metadata": {},
   "source": [
    "### Detect columns type"
   ]
  },
  {
   "cell_type": "code",
   "execution_count": null,
   "metadata": {},
   "outputs": [],
   "source": [
    "df.info()"
   ]
  },
  {
   "cell_type": "markdown",
   "metadata": {},
   "source": [
    "__Regression:__  \n",
    "Customer Lifetime Value\n",
    "\n",
    "__Classification:__  \n",
    "Marital Status"
   ]
  }
 ],
 "metadata": {
  "kernelspec": {
   "display_name": "Python 3",
   "language": "python",
   "name": "python3"
  },
  "language_info": {
   "codemirror_mode": {
    "name": "ipython",
    "version": 3
   },
   "file_extension": ".py",
   "mimetype": "text/x-python",
   "name": "python",
   "nbconvert_exporter": "python",
   "pygments_lexer": "ipython3",
   "version": "3.6.6"
  },
  "toc": {
   "base_numbering": 1,
   "nav_menu": {},
   "number_sections": true,
   "sideBar": true,
   "skip_h1_title": false,
   "title_cell": "Table of Contents",
   "title_sidebar": "Contents",
   "toc_cell": false,
   "toc_position": {
    "height": "calc(100% - 180px)",
    "left": "10px",
    "top": "150px",
    "width": "310px"
   },
   "toc_section_display": true,
   "toc_window_display": false
  }
 },
 "nbformat": 4,
 "nbformat_minor": 2
}
