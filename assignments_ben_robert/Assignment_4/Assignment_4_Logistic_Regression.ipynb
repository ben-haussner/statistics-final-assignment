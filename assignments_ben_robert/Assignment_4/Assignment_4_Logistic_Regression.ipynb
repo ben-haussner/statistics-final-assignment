{
 "cells": [
  {
   "cell_type": "markdown",
   "metadata": {},
   "source": [
    "**Applied Statistics**<br/>\n",
    "Prof. Dr. Jan Kirenz <br/>\n",
    "Hochschule der Medien Stuttgart"
   ]
  },
  {
   "cell_type": "code",
   "execution_count": 1,
   "metadata": {},
   "outputs": [],
   "source": [
    "import pandas as pd\n",
    "import numpy as np\n",
    "import matplotlib.pyplot as plt\n",
    "import seaborn as sns\n",
    "import statsmodels.api as sm\n",
    "from scipy.stats import chi2_contingency, fisher_exact\n",
    "from sklearn.model_selection import train_test_split"
   ]
  },
  {
   "cell_type": "markdown",
   "metadata": {},
   "source": [
    "Name:\n",
    "\n",
    "Surname:"
   ]
  },
  {
   "cell_type": "markdown",
   "metadata": {},
   "source": [
    "# Assignment 4: Logistic Regression \n",
    "\n",
    "**Data Description:**\n",
    "\n",
    "The World Happiness Report ranks 156 countries by their happiness levels (`Happiness.Score`). The rankings come from the Gallup World Poll and are based on answers to the main life evaluation question asked in the poll. This is called the Cantril ladder: it asks respondents to think of a ladder, with the best possible life for them being a 10, and the worst possible life being a 0. They are then asked to rate their own current lives on that 0 to 10 scale. The rankings are from nationally representative samples, for the years 2013-2015. They are based entirely on the survey scores, using the Gallup weights to make the estimates representative. \n",
    "\n",
    "The other variables in the dataset show the estimated extent to which each of the factors contribute to making life evaluations higher in each country than they are in Dystopia, a hypothetical country that has values equal to the world’s lowest national averages for each of the factors (for more information about the data, visit this [FAQ-site](https://s3.amazonaws.com/happiness-report/2016/FAQ_2016.pdf) or the [World Happiness Report-site](http://worldhappiness.report/ed/2016/)).\n",
    "\n",
    "**Task Description**\n",
    "\n",
    "In this assignment, we analyse the relationship between the country specific happiness and some predictor variables. In particular, we want to classify which countries are likely to be \"happy\". \n",
    "\n",
    "\n",
    "* Data preparation:\n",
    "\n",
    "  - 1.1 Rename the variables in the DataFrame to 'Country', 'Happiness_Score', 'Economy', 'Family', 'Health' and 'Trust'\n",
    "\n",
    "  - 1.2 Create a new categorical variable called `Happy`, where all countries with a Happiness_Score > 5.5 are labeled with 'Yes', otherwise 'No'.  \n",
    "    \n",
    "  - 1.3 Delete the variable `Happiness_Score` and change the data types if necessary (categorical, float, integer...).\n",
    "\n",
    "  - 1.4 Visualize the distributions of the numerical variables in a histogram: display the distributions of the two groups (Happy: 'Yes' and 'No') in every histograms.  \n",
    "    \n",
    "  - 1.5 Visualize the distributions of the numerical variables in a bosxplot: compare the distributions of the two groups (Happy: 'Yes' and 'No') for every variable. \n",
    "    \n",
    "    \n",
    "* 2. Logistic regression model:\n",
    "\n",
    "* 2. a) Fit a logistic regression model with all predictor variables (response: `Happy`; predictors: `Economy`, `Family`, `Health` and `Trust`).  \n",
    "\n",
    "* 2. b) Please explain wether you would recommend to exclude a predictor variable from your model (from task 2a)). Update your model if necessary.\n",
    "\n",
    "* 2. c) Use your updated model and predict the probability that a country has \"Happy\" inhabitants. Classify a happy country as \"happy\"  (with label 'Yes') if the predicted probability of the happiness exceeds:\n",
    "\n",
    "    - c1): 0.4 (i.e. threshold = 0.4) \n",
    "    - c2): 0.5 (i.e. threshold = 0.5)\n",
    "    - c3): 0.7 (i.e. threshold = 0.7). \n",
    "    \n",
    "    Otherwise classify the country as non-happy (with label 'No').\n",
    "\n",
    "\n",
    "  * 2. d) Compute the confusion matrix for every threshold (c1), c2) and c3)) in order to determine how many observations were correctly or incorrectly classified. Furthermore, use the results from the confusion matrix and create the following variables: true positive; true negative; false positive and false negative. Use these variables to calculate the following measures: \"Accuracy\", Precision\" (what proportion of positive identifications was actually correct?), \"Recall\" (what proportion of actual positives was identified correctly) and the F1 score (measure of a test's accuracy) for the thresholds in c1), c2) and c3). Which threshold would you recommend? \n",
    "\n",
    "Hints: **Precision** is defined as the number of true positives over the number of true positives plus the number of false positives. **Recall** is defined as the number of true positives over the number of true positives plus the number of false negatives. These two quantities are related to the **F1 score**, which is defined as the harmonic mean of precision and recall: $F1 = 2* ((Precision * Recall)/(Precision + Recall)).$\n",
    "\n",
    "* 2. e) Fit the logistic regression model using a training data set. Compute the confusion matrix and accuracy for the held out data (test data size = 30%). Use a threshold of 0.7.\n",
    "\n",
    "---\n",
    "\n",
    "\n",
    "\n",
    "Data Source: \n",
    "\n",
    "Helliwell, J., Layard, R., & Sachs, J. (2016). World Happiness Report 2016, Update (Vol. I).\n",
    "New York: Sustainable Development Solutions Network.\n",
    "\n"
   ]
  },
  {
   "cell_type": "markdown",
   "metadata": {},
   "source": [
    "**Data Preperation**"
   ]
  },
  {
   "cell_type": "code",
   "execution_count": 2,
   "metadata": {},
   "outputs": [],
   "source": [
    "df = pd.read_csv('report_16.csv', index_col=0, names=['Country', 'Happiness_Score', 'Economy', 'Family', 'Health', 'Trust'], header=0)"
   ]
  },
  {
   "cell_type": "code",
   "execution_count": 3,
   "metadata": {},
   "outputs": [],
   "source": [
    "# robert\n",
    "# df['Happy'] = np.where(df.Happiness_Score > 5.5, 'Yes', 'No')# robert"
   ]
  },
  {
   "cell_type": "code",
   "execution_count": 4,
   "metadata": {},
   "outputs": [],
   "source": [
    "# ben\n",
    "df['Happy'] = df.apply(lambda x: 'Yes' if x.Happiness_Score > 5.5 else 'No', axis=1)"
   ]
  },
  {
   "cell_type": "code",
   "execution_count": 5,
   "metadata": {},
   "outputs": [],
   "source": [
    "df.drop(columns=['Happiness_Score'], inplace=True)\n",
    "df['Country'] = pd.Categorical(df['Country'])\n",
    "df['Happy'] = pd.Categorical(df['Happy'])"
   ]
  },
  {
   "cell_type": "code",
   "execution_count": 6,
   "metadata": {},
   "outputs": [],
   "source": [
    "numerical_columns = ['Economy', 'Family', 'Health', 'Trust']"
   ]
  },
  {
   "cell_type": "code",
   "execution_count": 7,
   "metadata": {},
   "outputs": [
    {
     "data": {
      "image/png": "[encoded data removed]",
      "text/plain": [
       "<Figure size 432x288 with 1 Axes>"
      ]
     },
     "metadata": {
      "needs_background": "light"
     },
     "output_type": "display_data"
    },
    {
     "data": {
      "image/png": "[encoded data removed]",
      "text/plain": [
       "<Figure size 432x288 with 1 Axes>"
      ]
     },
     "metadata": {
      "needs_background": "light"
     },
     "output_type": "display_data"
    },
    {
     "data": {
      "image/png": "[encoded data removed]",
      "text/plain": [
       "<Figure size 432x288 with 1 Axes>"
      ]
     },
     "metadata": {
      "needs_background": "light"
     },
     "output_type": "display_data"
    },
    {
     "data": {
      "image/png": "[encoded data removed]",
      "text/plain": [
       "<Figure size 432x288 with 1 Axes>"
      ]
     },
     "metadata": {
      "needs_background": "light"
     },
     "output_type": "display_data"
    }
   ],
   "source": [
    "for column in numerical_columns:\n",
    "    df.groupby('Happy')[column].hist(alpha=0.5)\n",
    "    plt.title(column)\n",
    "    plt.show()"
   ]
  },
  {
   "cell_type": "code",
   "execution_count": 8,
   "metadata": {},
   "outputs": [
    {
     "data": {
      "image/png": "[encoded data removed]",
      "text/plain": [
       "<Figure size 1080x216 with 1 Axes>"
      ]
     },
     "metadata": {
      "needs_background": "light"
     },
     "output_type": "display_data"
    },
    {
     "data": {
      "image/png": "[encoded data removed]",
      "text/plain": [
       "<Figure size 1080x216 with 1 Axes>"
      ]
     },
     "metadata": {
      "needs_background": "light"
     },
     "output_type": "display_data"
    },
    {
     "data": {
      "image/png": "[encoded data removed]",
      "text/plain": [
       "<Figure size 1080x216 with 1 Axes>"
      ]
     },
     "metadata": {
      "needs_background": "light"
     },
     "output_type": "display_data"
    },
    {
     "data": {
      "image/png": "[encoded data removed]",
      "text/plain": [
       "<Figure size 1080x216 with 1 Axes>"
      ]
     },
     "metadata": {
      "needs_background": "light"
     },
     "output_type": "display_data"
    }
   ],
   "source": [
    "for column in numerical_columns:\n",
    "    df.boxplot(column=[column], by='Happy', vert=False, figsize=(15,3))\n",
    "    plt.suptitle('')\n",
    "    plt.xlabel('')\n",
    "    plt.ylabel('Happy')\n",
    "    plt.show()"
   ]
  },
  {
   "cell_type": "markdown",
   "metadata": {},
   "source": [
    "**2**"
   ]
  },
  {
   "cell_type": "markdown",
   "metadata": {},
   "source": [
    "* 2. Logistic regression model:\n",
    "\n",
    "* 2. a) Fit a logistic regression model with all predictor variables (response: `Happy`; predictors: `Economy`, `Family`, `Health` and `Trust`).  \n",
    "\n",
    "* 2. b) Please explain wether you would recommend to exclude a predictor variable from your model (from task 2a)). Update your model if necessary.\n",
    "\n",
    "* 2. c) Use your updated model and predict the probability that a country has \"Happy\" inhabitants. Classify a happy country as \"happy\"  (with label 'Yes') if the predicted probability of the happiness exceeds:\n",
    "\n",
    "    - c1): 0.4 (i.e. threshold = 0.4) \n",
    "    - c2): 0.5 (i.e. threshold = 0.5)\n",
    "    - c3): 0.7 (i.e. threshold = 0.7). \n",
    "    \n",
    "    Otherwise classify the country as non-happy (with label 'No').\n",
    "\n",
    "\n",
    "  * 2. d) Compute the confusion matrix for every threshold (c1), c2) and c3)) in order to determine how many observations were correctly or incorrectly classified. Furthermore, use the results from the confusion matrix and create the following variables: true positive; true negative; false positive and false negative. Use these variables to calculate the following measures: \"Accuracy\", Precision\" (what proportion of positive identifications was actually correct?), \"Recall\" (what proportion of actual positives was identified correctly) and the F1 score (measure of a test's accuracy) for the thresholds in c1), c2) and c3). Which threshold would you recommend? \n",
    "\n",
    "Hints: **Precision** is defined as the number of true positives over the number of true positives plus the number of false positives. **Recall** is defined as the number of true positives over the number of true positives plus the number of false negatives. These two quantities are related to the **F1 score**, which is defined as the harmonic mean of precision and recall: $F1 = 2* ((Precision * Recall)/(Precision + Recall)).$\n",
    "\n",
    "* 2. e) Fit the logistic regression model using a training data set. Compute the confusion matrix and accuracy for the held out data (test data size = 30%). Use a threshold of 0.7.\n"
   ]
  },
  {
   "cell_type": "code",
   "execution_count": 9,
   "metadata": {},
   "outputs": [],
   "source": [
    "X = df[['Economy', 'Family', 'Health', 'Trust']].assign(Intercept=1)"
   ]
  },
  {
   "cell_type": "code",
   "execution_count": 10,
   "metadata": {},
   "outputs": [],
   "source": [
    "# robert Series rausnehmen\n",
    "y = np.where(df.Happy == 'Yes', 1.0, 0.0)"
   ]
  },
  {
   "cell_type": "code",
   "execution_count": 11,
   "metadata": {},
   "outputs": [],
   "source": [
    "# ben\n",
    "# y = df.apply(lambda x: 1.0 if x.Happy == 'Yes' else 0.0, axis=1).values"
   ]
  },
  {
   "cell_type": "code",
   "execution_count": 12,
   "metadata": {},
   "outputs": [
    {
     "name": "stdout",
     "output_type": "stream",
     "text": [
      "Optimization terminated successfully.\n",
      "         Current function value: 0.284149\n",
      "         Iterations 8\n"
     ]
    },
    {
     "data": {
      "text/html": [
       "<table class=\"simpletable\">\n",
       "<caption>Logit Regression Results</caption>\n",
       "<tr>\n",
       "  <th>Dep. Variable:</th>         <td>y</td>        <th>  No. Observations:  </th>  <td>   157</td>  \n",
       "</tr>\n",
       "<tr>\n",
       "  <th>Model:</th>               <td>Logit</td>      <th>  Df Residuals:      </th>  <td>   152</td>  \n",
       "</tr>\n",
       "<tr>\n",
       "  <th>Method:</th>               <td>MLE</td>       <th>  Df Model:          </th>  <td>     4</td>  \n",
       "</tr>\n",
       "<tr>\n",
       "  <th>Date:</th>          <td>Sun, 25 Nov 2018</td> <th>  Pseudo R-squ.:     </th>  <td>0.5886</td>  \n",
       "</tr>\n",
       "<tr>\n",
       "  <th>Time:</th>              <td>14:03:03</td>     <th>  Log-Likelihood:    </th> <td> -44.611</td> \n",
       "</tr>\n",
       "<tr>\n",
       "  <th>converged:</th>           <td>True</td>       <th>  LL-Null:           </th> <td> -108.44</td> \n",
       "</tr>\n",
       "<tr>\n",
       "  <th> </th>                      <td> </td>        <th>  LLR p-value:       </th> <td>1.236e-26</td>\n",
       "</tr>\n",
       "</table>\n",
       "<table class=\"simpletable\">\n",
       "<tr>\n",
       "    <td></td>       <th>coef</th>     <th>std err</th>      <th>z</th>      <th>P>|z|</th>  <th>[0.025</th>    <th>0.975]</th>  \n",
       "</tr>\n",
       "<tr>\n",
       "  <th>x1</th>    <td>    2.7402</td> <td>    1.435</td> <td>    1.910</td> <td> 0.056</td> <td>   -0.072</td> <td>    5.552</td>\n",
       "</tr>\n",
       "<tr>\n",
       "  <th>x2</th>    <td>    8.0509</td> <td>    2.021</td> <td>    3.984</td> <td> 0.000</td> <td>    4.090</td> <td>   12.012</td>\n",
       "</tr>\n",
       "<tr>\n",
       "  <th>x3</th>    <td>    3.8342</td> <td>    2.371</td> <td>    1.617</td> <td> 0.106</td> <td>   -0.812</td> <td>    8.480</td>\n",
       "</tr>\n",
       "<tr>\n",
       "  <th>x4</th>    <td>    5.1377</td> <td>    3.726</td> <td>    1.379</td> <td> 0.168</td> <td>   -2.165</td> <td>   12.441</td>\n",
       "</tr>\n",
       "<tr>\n",
       "  <th>const</th> <td>  -12.5255</td> <td>    2.163</td> <td>   -5.791</td> <td> 0.000</td> <td>  -16.764</td> <td>   -8.286</td>\n",
       "</tr>\n",
       "</table>"
      ],
      "text/plain": [
       "<class 'statsmodels.iolib.summary.Summary'>\n",
       "\"\"\"\n",
       "                           Logit Regression Results                           \n",
       "==============================================================================\n",
       "Dep. Variable:                      y   No. Observations:                  157\n",
       "Model:                          Logit   Df Residuals:                      152\n",
       "Method:                           MLE   Df Model:                            4\n",
       "Date:                Sun, 25 Nov 2018   Pseudo R-squ.:                  0.5886\n",
       "Time:                        14:03:03   Log-Likelihood:                -44.611\n",
       "converged:                       True   LL-Null:                       -108.44\n",
       "                                        LLR p-value:                 1.236e-26\n",
       "==============================================================================\n",
       "                 coef    std err          z      P>|z|      [0.025      0.975]\n",
       "------------------------------------------------------------------------------\n",
       "x1             2.7402      1.435      1.910      0.056      -0.072       5.552\n",
       "x2             8.0509      2.021      3.984      0.000       4.090      12.012\n",
       "x3             3.8342      2.371      1.617      0.106      -0.812       8.480\n",
       "x4             5.1377      3.726      1.379      0.168      -2.165      12.441\n",
       "const        -12.5255      2.163     -5.791      0.000     -16.764      -8.286\n",
       "==============================================================================\n",
       "\"\"\""
      ]
     },
     "execution_count": 12,
     "metadata": {},
     "output_type": "execute_result"
    }
   ],
   "source": [
    "logreg = sm.Logit(y, X.values).fit()\n",
    "logreg.summary()"
   ]
  },
  {
   "cell_type": "markdown",
   "metadata": {},
   "source": [
    "x3 + x4 raus, da schlechter als 0.05 -> x1 knapp schlechter erstmal drin behalten"
   ]
  },
  {
   "cell_type": "code",
   "execution_count": 13,
   "metadata": {},
   "outputs": [
    {
     "name": "stdout",
     "output_type": "stream",
     "text": [
      "Optimization terminated successfully.\n",
      "         Current function value: 0.298113\n",
      "         Iterations 8\n"
     ]
    },
    {
     "data": {
      "text/html": [
       "<table class=\"simpletable\">\n",
       "<caption>Logit Regression Results</caption>\n",
       "<tr>\n",
       "  <th>Dep. Variable:</th>         <td>y</td>        <th>  No. Observations:  </th>  <td>   157</td>  \n",
       "</tr>\n",
       "<tr>\n",
       "  <th>Model:</th>               <td>Logit</td>      <th>  Df Residuals:      </th>  <td>   154</td>  \n",
       "</tr>\n",
       "<tr>\n",
       "  <th>Method:</th>               <td>MLE</td>       <th>  Df Model:          </th>  <td>     2</td>  \n",
       "</tr>\n",
       "<tr>\n",
       "  <th>Date:</th>          <td>Sun, 25 Nov 2018</td> <th>  Pseudo R-squ.:     </th>  <td>0.5684</td>  \n",
       "</tr>\n",
       "<tr>\n",
       "  <th>Time:</th>              <td>14:03:03</td>     <th>  Log-Likelihood:    </th> <td> -46.804</td> \n",
       "</tr>\n",
       "<tr>\n",
       "  <th>converged:</th>           <td>True</td>       <th>  LL-Null:           </th> <td> -108.44</td> \n",
       "</tr>\n",
       "<tr>\n",
       "  <th> </th>                      <td> </td>        <th>  LLR p-value:       </th> <td>1.708e-27</td>\n",
       "</tr>\n",
       "</table>\n",
       "<table class=\"simpletable\">\n",
       "<tr>\n",
       "    <td></td>       <th>coef</th>     <th>std err</th>      <th>z</th>      <th>P>|z|</th>  <th>[0.025</th>    <th>0.975]</th>  \n",
       "</tr>\n",
       "<tr>\n",
       "  <th>x1</th>    <td>    4.3753</td> <td>    1.113</td> <td>    3.932</td> <td> 0.000</td> <td>    2.194</td> <td>    6.556</td>\n",
       "</tr>\n",
       "<tr>\n",
       "  <th>x2</th>    <td>    8.0976</td> <td>    1.922</td> <td>    4.212</td> <td> 0.000</td> <td>    4.330</td> <td>   11.865</td>\n",
       "</tr>\n",
       "<tr>\n",
       "  <th>const</th> <td>  -11.4291</td> <td>    1.892</td> <td>   -6.042</td> <td> 0.000</td> <td>  -15.137</td> <td>   -7.722</td>\n",
       "</tr>\n",
       "</table>"
      ],
      "text/plain": [
       "<class 'statsmodels.iolib.summary.Summary'>\n",
       "\"\"\"\n",
       "                           Logit Regression Results                           \n",
       "==============================================================================\n",
       "Dep. Variable:                      y   No. Observations:                  157\n",
       "Model:                          Logit   Df Residuals:                      154\n",
       "Method:                           MLE   Df Model:                            2\n",
       "Date:                Sun, 25 Nov 2018   Pseudo R-squ.:                  0.5684\n",
       "Time:                        14:03:03   Log-Likelihood:                -46.804\n",
       "converged:                       True   LL-Null:                       -108.44\n",
       "                                        LLR p-value:                 1.708e-27\n",
       "==============================================================================\n",
       "                 coef    std err          z      P>|z|      [0.025      0.975]\n",
       "------------------------------------------------------------------------------\n",
       "x1             4.3753      1.113      3.932      0.000       2.194       6.556\n",
       "x2             8.0976      1.922      4.212      0.000       4.330      11.865\n",
       "const        -11.4291      1.892     -6.042      0.000     -15.137      -7.722\n",
       "==============================================================================\n",
       "\"\"\""
      ]
     },
     "execution_count": 13,
     "metadata": {},
     "output_type": "execute_result"
    }
   ],
   "source": [
    "X.drop(['Health', 'Trust'], axis=1, inplace=True)\n",
    "logreg = sm.Logit(y, X.values).fit()\n",
    "logreg.summary()"
   ]
  },
  {
   "cell_type": "markdown",
   "metadata": {},
   "source": [
    "x1 jetzt wichtiger für modell, aber schlechteres psedo r^2"
   ]
  },
  {
   "cell_type": "code",
   "execution_count": 14,
   "metadata": {},
   "outputs": [
    {
     "data": {
      "text/html": [
       "<div>\n",
       "<style scoped>\n",
       "    .dataframe tbody tr th:only-of-type {\n",
       "        vertical-align: middle;\n",
       "    }\n",
       "\n",
       "    .dataframe tbody tr th {\n",
       "        vertical-align: top;\n",
       "    }\n",
       "\n",
       "    .dataframe thead th {\n",
       "        text-align: right;\n",
       "    }\n",
       "</style>\n",
       "<table border=\"1\" class=\"dataframe\">\n",
       "  <thead>\n",
       "    <tr style=\"text-align: right;\">\n",
       "      <th></th>\n",
       "      <th>Country</th>\n",
       "      <th>Economy</th>\n",
       "      <th>Family</th>\n",
       "      <th>Health</th>\n",
       "      <th>Trust</th>\n",
       "      <th>Happy</th>\n",
       "      <th>Probability</th>\n",
       "    </tr>\n",
       "  </thead>\n",
       "  <tbody>\n",
       "    <tr>\n",
       "      <th>1</th>\n",
       "      <td>Denmark</td>\n",
       "      <td>1.44178</td>\n",
       "      <td>1.16374</td>\n",
       "      <td>0.79504</td>\n",
       "      <td>0.44453</td>\n",
       "      <td>Yes</td>\n",
       "      <td>0.986648</td>\n",
       "    </tr>\n",
       "    <tr>\n",
       "      <th>2</th>\n",
       "      <td>Switzerland</td>\n",
       "      <td>1.52733</td>\n",
       "      <td>1.14524</td>\n",
       "      <td>0.86303</td>\n",
       "      <td>0.41203</td>\n",
       "      <td>Yes</td>\n",
       "      <td>0.989304</td>\n",
       "    </tr>\n",
       "    <tr>\n",
       "      <th>3</th>\n",
       "      <td>Iceland</td>\n",
       "      <td>1.42666</td>\n",
       "      <td>1.18326</td>\n",
       "      <td>0.86733</td>\n",
       "      <td>0.14975</td>\n",
       "      <td>Yes</td>\n",
       "      <td>0.987806</td>\n",
       "    </tr>\n",
       "    <tr>\n",
       "      <th>4</th>\n",
       "      <td>Norway</td>\n",
       "      <td>1.57744</td>\n",
       "      <td>1.12690</td>\n",
       "      <td>0.79579</td>\n",
       "      <td>0.35776</td>\n",
       "      <td>Yes</td>\n",
       "      <td>0.990027</td>\n",
       "    </tr>\n",
       "    <tr>\n",
       "      <th>5</th>\n",
       "      <td>Finland</td>\n",
       "      <td>1.40598</td>\n",
       "      <td>1.13464</td>\n",
       "      <td>0.81091</td>\n",
       "      <td>0.41004</td>\n",
       "      <td>Yes</td>\n",
       "      <td>0.980360</td>\n",
       "    </tr>\n",
       "  </tbody>\n",
       "</table>\n",
       "</div>"
      ],
      "text/plain": [
       "       Country  Economy   Family   Health    Trust Happy  Probability\n",
       "1      Denmark  1.44178  1.16374  0.79504  0.44453   Yes     0.986648\n",
       "2  Switzerland  1.52733  1.14524  0.86303  0.41203   Yes     0.989304\n",
       "3      Iceland  1.42666  1.18326  0.86733  0.14975   Yes     0.987806\n",
       "4       Norway  1.57744  1.12690  0.79579  0.35776   Yes     0.990027\n",
       "5      Finland  1.40598  1.13464  0.81091  0.41004   Yes     0.980360"
      ]
     },
     "execution_count": 14,
     "metadata": {},
     "output_type": "execute_result"
    }
   ],
   "source": [
    "df['Probability'] = logreg.predict(X)\n",
    "df.head()"
   ]
  },
  {
   "cell_type": "code",
   "execution_count": 15,
   "metadata": {},
   "outputs": [],
   "source": [
    "# ben\n",
    "# for threshold in [0.4, 0.5, 0.7]:\n",
    "#     df['Happy_{}'.format(str(threshold)[-1])] = df.apply(lambda x: 'Yes' if x.Probability >= threshold else 'No', axis=1)"
   ]
  },
  {
   "cell_type": "code",
   "execution_count": 16,
   "metadata": {},
   "outputs": [],
   "source": [
    "# robert\n",
    "df['Threshold_04'] = np.where(df['Probability'] > 0.4, 'Yes', 'No')\n",
    "df['Threshold_05'] = np.where(df['Probability'] > 0.5, 'Yes', 'No')\n",
    "df['Threshold_07'] = np.where(df['Probability'] > 0.7, 'Yes', 'No')"
   ]
  },
  {
   "cell_type": "code",
   "execution_count": 17,
   "metadata": {},
   "outputs": [
    {
     "data": {
      "text/html": [
       "<div>\n",
       "<style scoped>\n",
       "    .dataframe tbody tr th:only-of-type {\n",
       "        vertical-align: middle;\n",
       "    }\n",
       "\n",
       "    .dataframe tbody tr th {\n",
       "        vertical-align: top;\n",
       "    }\n",
       "\n",
       "    .dataframe thead th {\n",
       "        text-align: right;\n",
       "    }\n",
       "</style>\n",
       "<table border=\"1\" class=\"dataframe\">\n",
       "  <thead>\n",
       "    <tr style=\"text-align: right;\">\n",
       "      <th></th>\n",
       "      <th>Country</th>\n",
       "      <th>Economy</th>\n",
       "      <th>Family</th>\n",
       "      <th>Health</th>\n",
       "      <th>Trust</th>\n",
       "      <th>Happy</th>\n",
       "      <th>Probability</th>\n",
       "      <th>Threshold_04</th>\n",
       "      <th>Threshold_05</th>\n",
       "      <th>Threshold_07</th>\n",
       "    </tr>\n",
       "  </thead>\n",
       "  <tbody>\n",
       "    <tr>\n",
       "      <th>1</th>\n",
       "      <td>Denmark</td>\n",
       "      <td>1.44178</td>\n",
       "      <td>1.16374</td>\n",
       "      <td>0.79504</td>\n",
       "      <td>0.44453</td>\n",
       "      <td>Yes</td>\n",
       "      <td>0.986648</td>\n",
       "      <td>Yes</td>\n",
       "      <td>Yes</td>\n",
       "      <td>Yes</td>\n",
       "    </tr>\n",
       "    <tr>\n",
       "      <th>2</th>\n",
       "      <td>Switzerland</td>\n",
       "      <td>1.52733</td>\n",
       "      <td>1.14524</td>\n",
       "      <td>0.86303</td>\n",
       "      <td>0.41203</td>\n",
       "      <td>Yes</td>\n",
       "      <td>0.989304</td>\n",
       "      <td>Yes</td>\n",
       "      <td>Yes</td>\n",
       "      <td>Yes</td>\n",
       "    </tr>\n",
       "    <tr>\n",
       "      <th>3</th>\n",
       "      <td>Iceland</td>\n",
       "      <td>1.42666</td>\n",
       "      <td>1.18326</td>\n",
       "      <td>0.86733</td>\n",
       "      <td>0.14975</td>\n",
       "      <td>Yes</td>\n",
       "      <td>0.987806</td>\n",
       "      <td>Yes</td>\n",
       "      <td>Yes</td>\n",
       "      <td>Yes</td>\n",
       "    </tr>\n",
       "    <tr>\n",
       "      <th>4</th>\n",
       "      <td>Norway</td>\n",
       "      <td>1.57744</td>\n",
       "      <td>1.12690</td>\n",
       "      <td>0.79579</td>\n",
       "      <td>0.35776</td>\n",
       "      <td>Yes</td>\n",
       "      <td>0.990027</td>\n",
       "      <td>Yes</td>\n",
       "      <td>Yes</td>\n",
       "      <td>Yes</td>\n",
       "    </tr>\n",
       "    <tr>\n",
       "      <th>5</th>\n",
       "      <td>Finland</td>\n",
       "      <td>1.40598</td>\n",
       "      <td>1.13464</td>\n",
       "      <td>0.81091</td>\n",
       "      <td>0.41004</td>\n",
       "      <td>Yes</td>\n",
       "      <td>0.980360</td>\n",
       "      <td>Yes</td>\n",
       "      <td>Yes</td>\n",
       "      <td>Yes</td>\n",
       "    </tr>\n",
       "  </tbody>\n",
       "</table>\n",
       "</div>"
      ],
      "text/plain": [
       "       Country  Economy   Family   Health    Trust Happy  Probability  \\\n",
       "1      Denmark  1.44178  1.16374  0.79504  0.44453   Yes     0.986648   \n",
       "2  Switzerland  1.52733  1.14524  0.86303  0.41203   Yes     0.989304   \n",
       "3      Iceland  1.42666  1.18326  0.86733  0.14975   Yes     0.987806   \n",
       "4       Norway  1.57744  1.12690  0.79579  0.35776   Yes     0.990027   \n",
       "5      Finland  1.40598  1.13464  0.81091  0.41004   Yes     0.980360   \n",
       "\n",
       "  Threshold_04 Threshold_05 Threshold_07  \n",
       "1          Yes          Yes          Yes  \n",
       "2          Yes          Yes          Yes  \n",
       "3          Yes          Yes          Yes  \n",
       "4          Yes          Yes          Yes  \n",
       "5          Yes          Yes          Yes  "
      ]
     },
     "execution_count": 17,
     "metadata": {},
     "output_type": "execute_result"
    }
   ],
   "source": [
    "df.head()"
   ]
  },
  {
   "cell_type": "code",
   "execution_count": 18,
   "metadata": {},
   "outputs": [],
   "source": [
    "def print_metrics(df, predicted):\n",
    "    # Header\n",
    "    print('-'*50)\n",
    "    print(f'Metrics for: {predicted}\\n')\n",
    "    \n",
    "    # Confusion Matrix\n",
    "    y_actu = pd.Series(df['Happy'], name='Actual')\n",
    "    y_pred = pd.Series(df[predicted], name='Predicted')\n",
    "    df_conf = pd.crosstab(y_actu, y_pred)\n",
    "    display(df_conf)\n",
    "    \n",
    "    # Confusion Matrix to variables:\n",
    "    pop = df_conf.values.sum()\n",
    "    tp = df_conf['Yes']['Yes']\n",
    "    tn = df_conf['No']['No']\n",
    "    fp = df_conf['Yes']['No']\n",
    "    fn = df_conf['No']['Yes']\n",
    "    \n",
    "    # Metrics\n",
    "    accuracy = (tp + tn) / pop\n",
    "    precision = tp / (tp + fp)\n",
    "    recall = tp / (tp + fn)\n",
    "    f1_score = 2 * ((precision * recall) / (precision + recall))\n",
    "    print(f'Accuracy:  {accuracy:.4f}')\n",
    "    print(f'Precision: {precision:.4f}')\n",
    "    print(f'Recall:    {recall:.4f}')\n",
    "    print(f'F1 Score:  {f1_score:.4f} \\n')"
   ]
  },
  {
   "cell_type": "code",
   "execution_count": 19,
   "metadata": {},
   "outputs": [
    {
     "name": "stdout",
     "output_type": "stream",
     "text": [
      "--------------------------------------------------\n",
      "Metrics for: Threshold_04\n",
      "\n"
     ]
    },
    {
     "data": {
      "text/html": [
       "<div>\n",
       "<style scoped>\n",
       "    .dataframe tbody tr th:only-of-type {\n",
       "        vertical-align: middle;\n",
       "    }\n",
       "\n",
       "    .dataframe tbody tr th {\n",
       "        vertical-align: top;\n",
       "    }\n",
       "\n",
       "    .dataframe thead th {\n",
       "        text-align: right;\n",
       "    }\n",
       "</style>\n",
       "<table border=\"1\" class=\"dataframe\">\n",
       "  <thead>\n",
       "    <tr style=\"text-align: right;\">\n",
       "      <th>Predicted</th>\n",
       "      <th>No</th>\n",
       "      <th>Yes</th>\n",
       "    </tr>\n",
       "    <tr>\n",
       "      <th>Actual</th>\n",
       "      <th></th>\n",
       "      <th></th>\n",
       "    </tr>\n",
       "  </thead>\n",
       "  <tbody>\n",
       "    <tr>\n",
       "      <th>No</th>\n",
       "      <td>67</td>\n",
       "      <td>17</td>\n",
       "    </tr>\n",
       "    <tr>\n",
       "      <th>Yes</th>\n",
       "      <td>9</td>\n",
       "      <td>64</td>\n",
       "    </tr>\n",
       "  </tbody>\n",
       "</table>\n",
       "</div>"
      ],
      "text/plain": [
       "Predicted  No  Yes\n",
       "Actual            \n",
       "No         67   17\n",
       "Yes         9   64"
      ]
     },
     "metadata": {},
     "output_type": "display_data"
    },
    {
     "name": "stdout",
     "output_type": "stream",
     "text": [
      "Accuracy:  0.8344\n",
      "Precision: 0.7901\n",
      "Recall:    0.8767\n",
      "F1 Score:  0.8312 \n",
      "\n",
      "--------------------------------------------------\n",
      "Metrics for: Threshold_05\n",
      "\n"
     ]
    },
    {
     "data": {
      "text/html": [
       "<div>\n",
       "<style scoped>\n",
       "    .dataframe tbody tr th:only-of-type {\n",
       "        vertical-align: middle;\n",
       "    }\n",
       "\n",
       "    .dataframe tbody tr th {\n",
       "        vertical-align: top;\n",
       "    }\n",
       "\n",
       "    .dataframe thead th {\n",
       "        text-align: right;\n",
       "    }\n",
       "</style>\n",
       "<table border=\"1\" class=\"dataframe\">\n",
       "  <thead>\n",
       "    <tr style=\"text-align: right;\">\n",
       "      <th>Predicted</th>\n",
       "      <th>No</th>\n",
       "      <th>Yes</th>\n",
       "    </tr>\n",
       "    <tr>\n",
       "      <th>Actual</th>\n",
       "      <th></th>\n",
       "      <th></th>\n",
       "    </tr>\n",
       "  </thead>\n",
       "  <tbody>\n",
       "    <tr>\n",
       "      <th>No</th>\n",
       "      <td>73</td>\n",
       "      <td>11</td>\n",
       "    </tr>\n",
       "    <tr>\n",
       "      <th>Yes</th>\n",
       "      <td>13</td>\n",
       "      <td>60</td>\n",
       "    </tr>\n",
       "  </tbody>\n",
       "</table>\n",
       "</div>"
      ],
      "text/plain": [
       "Predicted  No  Yes\n",
       "Actual            \n",
       "No         73   11\n",
       "Yes        13   60"
      ]
     },
     "metadata": {},
     "output_type": "display_data"
    },
    {
     "name": "stdout",
     "output_type": "stream",
     "text": [
      "Accuracy:  0.8471\n",
      "Precision: 0.8451\n",
      "Recall:    0.8219\n",
      "F1 Score:  0.8333 \n",
      "\n",
      "--------------------------------------------------\n",
      "Metrics for: Threshold_07\n",
      "\n"
     ]
    },
    {
     "data": {
      "text/html": [
       "<div>\n",
       "<style scoped>\n",
       "    .dataframe tbody tr th:only-of-type {\n",
       "        vertical-align: middle;\n",
       "    }\n",
       "\n",
       "    .dataframe tbody tr th {\n",
       "        vertical-align: top;\n",
       "    }\n",
       "\n",
       "    .dataframe thead th {\n",
       "        text-align: right;\n",
       "    }\n",
       "</style>\n",
       "<table border=\"1\" class=\"dataframe\">\n",
       "  <thead>\n",
       "    <tr style=\"text-align: right;\">\n",
       "      <th>Predicted</th>\n",
       "      <th>No</th>\n",
       "      <th>Yes</th>\n",
       "    </tr>\n",
       "    <tr>\n",
       "      <th>Actual</th>\n",
       "      <th></th>\n",
       "      <th></th>\n",
       "    </tr>\n",
       "  </thead>\n",
       "  <tbody>\n",
       "    <tr>\n",
       "      <th>No</th>\n",
       "      <td>78</td>\n",
       "      <td>6</td>\n",
       "    </tr>\n",
       "    <tr>\n",
       "      <th>Yes</th>\n",
       "      <td>16</td>\n",
       "      <td>57</td>\n",
       "    </tr>\n",
       "  </tbody>\n",
       "</table>\n",
       "</div>"
      ],
      "text/plain": [
       "Predicted  No  Yes\n",
       "Actual            \n",
       "No         78    6\n",
       "Yes        16   57"
      ]
     },
     "metadata": {},
     "output_type": "display_data"
    },
    {
     "name": "stdout",
     "output_type": "stream",
     "text": [
      "Accuracy:  0.8599\n",
      "Precision: 0.9048\n",
      "Recall:    0.7808\n",
      "F1 Score:  0.8382 \n",
      "\n"
     ]
    }
   ],
   "source": [
    "# robert\n",
    "print_metrics(df, 'Threshold_04')\n",
    "print_metrics(df, 'Threshold_05')\n",
    "print_metrics(df, 'Threshold_07')\n",
    "\n",
    "# ben\n",
    "# print_metrics(df, 'Happy_4')\n",
    "# print_metrics(df, 'Happy_5')\n",
    "# print_metrics(df, 'Happy_7')"
   ]
  },
  {
   "cell_type": "markdown",
   "metadata": {},
   "source": [
    "comment"
   ]
  },
  {
   "cell_type": "markdown",
   "metadata": {},
   "source": [
    "e) Fit the logistic regression model using a training data set. Compute the confusion matrix and accuracy for the held out data (test data size = 30%). Use a threshold of 0.7."
   ]
  },
  {
   "cell_type": "code",
   "execution_count": 20,
   "metadata": {},
   "outputs": [],
   "source": [
    "X_train, X_test, y_train, y_test = train_test_split(X.copy(), y.copy(), test_size=0.3, train_size=0.7)"
   ]
  },
  {
   "cell_type": "code",
   "execution_count": 21,
   "metadata": {},
   "outputs": [
    {
     "name": "stdout",
     "output_type": "stream",
     "text": [
      "Optimization terminated successfully.\n",
      "         Current function value: 0.258026\n",
      "         Iterations 8\n"
     ]
    }
   ],
   "source": [
    "logreg = sm.Logit(y_train, X_train).fit()"
   ]
  },
  {
   "cell_type": "code",
   "execution_count": 26,
   "metadata": {},
   "outputs": [],
   "source": [
    "# robert\n",
    "prediction_results = pd.DataFrame({'Happy':np.where(y_test == 1, 'Yes', 'No'),'Probability':logreg.predict(X_test)})\n",
    "\n",
    "# ben\n",
    "# prediction_results = pd.DataFrame({'Happy':y_test.apply(lambda x: 'Yes' if x == 1 else 'No', axis=1),\n",
    "#                                    'Probability':logreg.predict(X_test)})"
   ]
  },
  {
   "cell_type": "code",
   "execution_count": 27,
   "metadata": {},
   "outputs": [],
   "source": [
    "# ben\n",
    "# prediction_results['Predicted'] = prediction_results.apply(lambda x: 'Yes' if x.Probability >= 0.7 else 'No', axis=1)"
   ]
  },
  {
   "cell_type": "code",
   "execution_count": 28,
   "metadata": {},
   "outputs": [],
   "source": [
    "# robert\n",
    "prediction_results['Predicted'] = np.where(prediction_results['Probability'] > 0.7, 'Yes', 'No')"
   ]
  },
  {
   "cell_type": "code",
   "execution_count": 30,
   "metadata": {},
   "outputs": [
    {
     "name": "stdout",
     "output_type": "stream",
     "text": [
      "--------------------------------------------------\n",
      "Metrics for: Predicted\n",
      "\n"
     ]
    },
    {
     "data": {
      "text/html": [
       "<div>\n",
       "<style scoped>\n",
       "    .dataframe tbody tr th:only-of-type {\n",
       "        vertical-align: middle;\n",
       "    }\n",
       "\n",
       "    .dataframe tbody tr th {\n",
       "        vertical-align: top;\n",
       "    }\n",
       "\n",
       "    .dataframe thead th {\n",
       "        text-align: right;\n",
       "    }\n",
       "</style>\n",
       "<table border=\"1\" class=\"dataframe\">\n",
       "  <thead>\n",
       "    <tr style=\"text-align: right;\">\n",
       "      <th>Predicted</th>\n",
       "      <th>No</th>\n",
       "      <th>Yes</th>\n",
       "    </tr>\n",
       "    <tr>\n",
       "      <th>Actual</th>\n",
       "      <th></th>\n",
       "      <th></th>\n",
       "    </tr>\n",
       "  </thead>\n",
       "  <tbody>\n",
       "    <tr>\n",
       "      <th>No</th>\n",
       "      <td>22</td>\n",
       "      <td>2</td>\n",
       "    </tr>\n",
       "    <tr>\n",
       "      <th>Yes</th>\n",
       "      <td>7</td>\n",
       "      <td>17</td>\n",
       "    </tr>\n",
       "  </tbody>\n",
       "</table>\n",
       "</div>"
      ],
      "text/plain": [
       "Predicted  No  Yes\n",
       "Actual            \n",
       "No         22    2\n",
       "Yes         7   17"
      ]
     },
     "metadata": {},
     "output_type": "display_data"
    },
    {
     "name": "stdout",
     "output_type": "stream",
     "text": [
      "Accuracy:  0.8125\n",
      "Precision: 0.8947\n",
      "Recall:    0.7083\n",
      "F1 Score:  0.7907 \n",
      "\n"
     ]
    }
   ],
   "source": [
    "print_metrics(prediction_results, 'Predicted')"
   ]
  },
  {
   "cell_type": "code",
   "execution_count": null,
   "metadata": {},
   "outputs": [],
   "source": []
  }
 ],
 "metadata": {
  "kernelspec": {
   "display_name": "Python 3",
   "language": "python",
   "name": "python3"
  },
  "language_info": {
   "codemirror_mode": {
    "name": "ipython",
    "version": 3
   },
   "file_extension": ".py",
   "mimetype": "text/x-python",
   "name": "python",
   "nbconvert_exporter": "python",
   "pygments_lexer": "ipython3",
   "version": "3.6.6"
  }
 },
 "nbformat": 4,
 "nbformat_minor": 2
}
