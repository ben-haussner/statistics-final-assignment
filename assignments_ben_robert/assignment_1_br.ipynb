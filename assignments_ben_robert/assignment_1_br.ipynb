{
 "cells": [
  {
   "cell_type": "markdown",
   "metadata": {},
   "source": [
    "**Applied Statistics**<br/>\n",
    "Prod. Dr. Jan Kirenz <br/>\n",
    "Hochschule der Medien Stuttgart\n",
    "\n",
    "Name: Masendorf      <br/>\n",
    "Vorname: Robert   <br/>"
   ]
  },
  {
   "cell_type": "code",
   "execution_count": 1,
   "metadata": {},
   "outputs": [],
   "source": [
    "import numpy as np\n",
    "import pandas as pd\n",
    "import statsmodels.api as sm\n",
    "import statsmodels.formula.api as smf"
   ]
  },
  {
   "cell_type": "markdown",
   "metadata": {},
   "source": [
    "# Assignment 1: Generalized linear regression (GLS) with simulated data\n",
    "\n",
    "## Task a:\n",
    "\n",
    "(a) Create some feature vectors: \n",
    "\n",
    "   - **X1** , containing 100 observations drawn from a N (0, 1) distribution. \n",
    "   - **X2** , containing 100 observations drawn from a N (0, 0.5) distribution. \n",
    "   - **X3** , containing 100 observations drawn from a N (0.5, 2) distribution. "
   ]
  },
  {
   "cell_type": "code",
   "execution_count": 2,
   "metadata": {},
   "outputs": [],
   "source": [
    "# Wenn ein Integer Value eingetragen ist, kommen bei erneutem Ausführen die selben Ergebnisse\n",
    "np.random.seed(1)"
   ]
  },
  {
   "cell_type": "code",
   "execution_count": 3,
   "metadata": {},
   "outputs": [],
   "source": [
    "# mean = 0 and sd = 1\n",
    "X1 = np.random.normal(0, 1, 100)\n",
    "# mean = 0 and sd = 0.5\n",
    "X2 = np.random.normal(0, 0.5, 100)\n",
    "# mean = 0.5 and sd = 2\n",
    "X3 = np.random.normal(0.5, 2, 100)"
   ]
  },
  {
   "cell_type": "markdown",
   "metadata": {},
   "source": [
    "## Task b:\n",
    "\n",
    "(b) Population model 1: Using the X1 and X2 features, generate a vector **Y** according to the model (in this model, we assume a perfect relationship between Y and the features - i.e. no error): \n",
    "\n",
    "**Population model 1**:\n",
    "\n",
    "$$Y = 2 + 1 \\times X1 + 0.5 \\times X2$$ \n",
    "\n",
    "This is our defined \"true\" relationship between Y and the feauters X1 and X2, also called a population model.\n",
    "\n",
    "b_1) What are the values of the $β$ parameters in this linear population model? \n",
    "\n",
    "b_2) What is the expected value of Y if X1 and X2 are both zero? \n",
    "\n",
    "b_3) What is the expected value of Y if X1 is 1 and X2 is 2? \n",
    "\n",
    "b_4) Fit a generalized least squares (gls) linear model that predicts Y using X1, X2. Comment on the model obtained (Adjusted R-Squared, F-Statistic, beta-parameters, standard errors, p-values, confidence intervalls, mean squared error, BIC, AIC). \n",
    "\n",
    "b_5) Use your regression model to predict Y if X1 is 1 and X2 is 2. What is the associted standard error and 95% confidence interval?\n",
    "\n",
    "b_6) Explain wether you find our population model realistic (i.e. is it plausible to have a situation where you always have a perfect relationship without any deviations between a dependent and some independent variables)?   "
   ]
  },
  {
   "cell_type": "code",
   "execution_count": 4,
   "metadata": {},
   "outputs": [],
   "source": [
    "# Population model\n",
    "Y = 2 + 1 * X1 + 0.5 * X2"
   ]
  },
  {
   "cell_type": "markdown",
   "metadata": {},
   "source": [
    "**b_1)**  \n",
    "$\\beta_0$ = 2    -> Dies ist der Y-Achsenabschnitt, wenn X<sub>i</sub> = 0  \n",
    "$\\beta_1$ = 1    -> Dies ist die Steigung (Ø) von Y, wenn X1 um 1 erhöht wird und X2 konstant bleibt.  \n",
    "$\\beta_2$ = 0.5  -> Dies ist die Steigung (Ø) von Y, wenn X2 um 1 erhöht wird und X1 konstant bleibt. "
   ]
  },
  {
   "cell_type": "markdown",
   "metadata": {},
   "source": [
    "**b_2)**  \n",
    "Wenn X<sub>1</sub> und X<sub>2</sub> beide den Wert 0 haben, ist $Y = 2+1*0+0.5*0 = 2$  \n",
    "Damit wäre es der Wert von $\\beta_0$ und somit der Schnittpunkt mit der Ordinatenachse."
   ]
  },
  {
   "cell_type": "markdown",
   "metadata": {},
   "source": [
    "**b_3)**  \n",
    "Wenn X<sub>1</sub> = 1 und X<sub>2</sub> =2 ist, beträgt $Y = 2+1*1+0.5*2 = 4$"
   ]
  },
  {
   "cell_type": "markdown",
   "metadata": {},
   "source": [
    "**b_4)**"
   ]
  },
  {
   "cell_type": "code",
   "execution_count": 5,
   "metadata": {},
   "outputs": [
    {
     "data": {
      "text/html": [
       "<table class=\"simpletable\">\n",
       "<caption>GLS Regression Results</caption>\n",
       "<tr>\n",
       "  <th>Dep. Variable:</th>            <td>Y</td>        <th>  R-squared:         </th> <td>   1.000</td> \n",
       "</tr>\n",
       "<tr>\n",
       "  <th>Model:</th>                   <td>GLS</td>       <th>  Adj. R-squared:    </th> <td>   1.000</td> \n",
       "</tr>\n",
       "<tr>\n",
       "  <th>Method:</th>             <td>Least Squares</td>  <th>  F-statistic:       </th> <td>4.535e+32</td>\n",
       "</tr>\n",
       "<tr>\n",
       "  <th>Date:</th>             <td>Fri, 23 Nov 2018</td> <th>  Prob (F-statistic):</th>  <td>  0.00</td>  \n",
       "</tr>\n",
       "<tr>\n",
       "  <th>Time:</th>                 <td>13:58:44</td>     <th>  Log-Likelihood:    </th> <td>  3430.4</td> \n",
       "</tr>\n",
       "<tr>\n",
       "  <th>No. Observations:</th>      <td>   100</td>      <th>  AIC:               </th> <td>  -6855.</td> \n",
       "</tr>\n",
       "<tr>\n",
       "  <th>Df Residuals:</th>          <td>    97</td>      <th>  BIC:               </th> <td>  -6847.</td> \n",
       "</tr>\n",
       "<tr>\n",
       "  <th>Df Model:</th>              <td>     2</td>      <th>                     </th>     <td> </td>    \n",
       "</tr>\n",
       "<tr>\n",
       "  <th>Covariance Type:</th>      <td>nonrobust</td>    <th>                     </th>     <td> </td>    \n",
       "</tr>\n",
       "</table>\n",
       "<table class=\"simpletable\">\n",
       "<tr>\n",
       "      <td></td>         <th>coef</th>     <th>std err</th>      <th>t</th>      <th>P>|t|</th>  <th>[0.025</th>    <th>0.975]</th>  \n",
       "</tr>\n",
       "<tr>\n",
       "  <th>Intercept</th> <td>    2.0000</td> <td> 3.15e-17</td> <td> 6.35e+16</td> <td> 0.000</td> <td>    2.000</td> <td>    2.000</td>\n",
       "</tr>\n",
       "<tr>\n",
       "  <th>X1</th>        <td>    1.0000</td> <td> 3.52e-17</td> <td> 2.84e+16</td> <td> 0.000</td> <td>    1.000</td> <td>    1.000</td>\n",
       "</tr>\n",
       "<tr>\n",
       "  <th>X2</th>        <td>    0.5000</td> <td> 6.69e-17</td> <td> 7.47e+15</td> <td> 0.000</td> <td>    0.500</td> <td>    0.500</td>\n",
       "</tr>\n",
       "</table>\n",
       "<table class=\"simpletable\">\n",
       "<tr>\n",
       "  <th>Omnibus:</th>       <td>12.283</td> <th>  Durbin-Watson:     </th> <td>   2.287</td>\n",
       "</tr>\n",
       "<tr>\n",
       "  <th>Prob(Omnibus):</th> <td> 0.002</td> <th>  Jarque-Bera (JB):  </th> <td>  12.856</td>\n",
       "</tr>\n",
       "<tr>\n",
       "  <th>Skew:</th>          <td>-0.826</td> <th>  Prob(JB):          </th> <td> 0.00162</td>\n",
       "</tr>\n",
       "<tr>\n",
       "  <th>Kurtosis:</th>      <td> 3.598</td> <th>  Cond. No.          </th> <td>    2.19</td>\n",
       "</tr>\n",
       "</table><br/><br/>Warnings:<br/>[1] Standard Errors assume that the covariance matrix of the errors is correctly specified."
      ],
      "text/plain": [
       "<class 'statsmodels.iolib.summary.Summary'>\n",
       "\"\"\"\n",
       "                            GLS Regression Results                            \n",
       "==============================================================================\n",
       "Dep. Variable:                      Y   R-squared:                       1.000\n",
       "Model:                            GLS   Adj. R-squared:                  1.000\n",
       "Method:                 Least Squares   F-statistic:                 4.535e+32\n",
       "Date:                Fri, 23 Nov 2018   Prob (F-statistic):               0.00\n",
       "Time:                        13:58:44   Log-Likelihood:                 3430.4\n",
       "No. Observations:                 100   AIC:                            -6855.\n",
       "Df Residuals:                      97   BIC:                            -6847.\n",
       "Df Model:                           2                                         \n",
       "Covariance Type:            nonrobust                                         \n",
       "==============================================================================\n",
       "                 coef    std err          t      P>|t|      [0.025      0.975]\n",
       "------------------------------------------------------------------------------\n",
       "Intercept      2.0000   3.15e-17   6.35e+16      0.000       2.000       2.000\n",
       "X1             1.0000   3.52e-17   2.84e+16      0.000       1.000       1.000\n",
       "X2             0.5000   6.69e-17   7.47e+15      0.000       0.500       0.500\n",
       "==============================================================================\n",
       "Omnibus:                       12.283   Durbin-Watson:                   2.287\n",
       "Prob(Omnibus):                  0.002   Jarque-Bera (JB):               12.856\n",
       "Skew:                          -0.826   Prob(JB):                      0.00162\n",
       "Kurtosis:                       3.598   Cond. No.                         2.19\n",
       "==============================================================================\n",
       "\n",
       "Warnings:\n",
       "[1] Standard Errors assume that the covariance matrix of the errors is correctly specified.\n",
       "\"\"\""
      ]
     },
     "execution_count": 5,
     "metadata": {},
     "output_type": "execute_result"
    }
   ],
   "source": [
    "# Create DataFrame\n",
    "df = pd.DataFrame({'X1':X1, 'X2':X2, 'Y':Y})\n",
    "# Fit Model\n",
    "gls_lm = smf.gls(formula='Y ~ (X1 + X2)', data=df).fit()\n",
    "# Print Summary\n",
    "gls_lm.summary()"
   ]
  },
  {
   "cell_type": "markdown",
   "metadata": {},
   "source": [
    "**Adjusted R-Squared:**  \n",
    "Der Adjusted R-Squared hat in diesem Modell den Wert: 1.  \n",
    "Das heißt, dass die Daten (X1 + X2) zu 100% von dem trainierten Modell erklärt werden können.\n",
    "Dies war anzunehmen, da wir keinen Error in unserer Funktionen haben und daher ein perfekter Zusammenhang besteht.  \n",
    "Daher bildet der ***Adjusted R-Squared*** in diesem Fall auch das selbe Ergebnis wie der ***R-Squared*** ab. In Modellen, die einen Error beinhalten, ist der ***Adjusted R-Squared*** immer kleiner als der ***R-Squared***, da dort die Sparsamkeit zusätzlich zur Modellanpassung berücksichtigt wird.  \n",
    "Sparsamkeit heißt, dass jenes Modell bevorzugt wird, welches weniger unabhängige Variablen besitzt, wenn der ***R-Squared*** den selben Wert hat."
   ]
  },
  {
   "cell_type": "markdown",
   "metadata": {},
   "source": [
    "**F-Statistics**:"
   ]
  },
  {
   "cell_type": "markdown",
   "metadata": {},
   "source": [
    "Mit der F-Statistik und dem zugehörigen P-Wert, lässt sich eine Aussage treffen, inwiefern die aufgestellte Null-Hypothese wiederlegbar ist.\n",
    "Die F-Statistik gibt dabei Auskunft über die Signifikanz des Modells, also wie gut alle Parameter zusammen Y erklären können.\n",
    "Der P-Wert gibt dabei die Wahrscheinlichkeit an, dass diese Statistik herauskommt, unter der Annahme, dass die Null-Hypothese zutrifft, also X und Y nicht voneinander abhängen.  \n",
    "In diesem Modell hat die ***F-Statistik*** den Wert 4.535e+32 und ist damit weit größer als 1 und der zugehörige ***P-Wert*** ((Prob) F-Statistics) beträgt 0.0 .\n",
    "Daher kann davon ausgegangen werden, dass eine statistisch signifikante Beziehung zwischen X1+X2 und Y besteht und damit die Null-Hypothese widerlegt ist."
   ]
  },
  {
   "cell_type": "markdown",
   "metadata": {},
   "source": [
    "**Beta-Parameters:**  \n",
    "$\\hat{β_0} = β_0 = 2$  \n",
    "$\\hat{β_1} = β_1 = 1$  \n",
    "$\\hat{β_2} = β_2 = 0.5$  \n",
    "Das Ergebnis der Linearen Regression ist ein Modell, welches exakt die Werte der Koeefizienten aus dem Populationsmodell wiederspiegelt. Auch dies ist angesichts der Tatsache, dass unser Modell einen perfekten Zusammenhang beinhaltet vorhersehbar gewesen."
   ]
  },
  {
   "cell_type": "markdown",
   "metadata": {},
   "source": [
    "**Standard Errors:**  \n",
    "Der ***Standardfehler*** beschreibt die Abweichung der geschätzten Koeffizienten von denen des Populationsmodells. Dieser ist bei allen drei Koeffizienten nahe 0. Das bedeutet, dass die Schätzung sehr gut ist (wie in der vorherigen Interpretation der Betaparameter bereits beschrieben) und somit kaum eine Abweichung zu den originalen Werten besteht."
   ]
  },
  {
   "cell_type": "markdown",
   "metadata": {},
   "source": [
    "**P-Values:**  \n",
    "Die P-Werte (***P>|t|***) haben alle den Wert 0. Für unser Modell nehmen wir ein Konfidenzlevel von 0.05 an. Daher lässt sich hier ablesen, dass eine statistisch signifikante Beziehung zwischen X1+X2 und Y besteht."
   ]
  },
  {
   "cell_type": "markdown",
   "metadata": {},
   "source": [
    "**Confidence Intervalls:**"
   ]
  },
  {
   "cell_type": "code",
   "execution_count": 6,
   "metadata": {},
   "outputs": [
    {
     "data": {
      "text/html": [
       "<div>\n",
       "<style scoped>\n",
       "    .dataframe tbody tr th:only-of-type {\n",
       "        vertical-align: middle;\n",
       "    }\n",
       "\n",
       "    .dataframe tbody tr th {\n",
       "        vertical-align: top;\n",
       "    }\n",
       "\n",
       "    .dataframe thead th {\n",
       "        text-align: right;\n",
       "    }\n",
       "</style>\n",
       "<table border=\"1\" class=\"dataframe\">\n",
       "  <thead>\n",
       "    <tr style=\"text-align: right;\">\n",
       "      <th></th>\n",
       "      <th>0</th>\n",
       "      <th>1</th>\n",
       "    </tr>\n",
       "  </thead>\n",
       "  <tbody>\n",
       "    <tr>\n",
       "      <th>Intercept</th>\n",
       "      <td>2.0</td>\n",
       "      <td>2.0</td>\n",
       "    </tr>\n",
       "    <tr>\n",
       "      <th>X1</th>\n",
       "      <td>1.0</td>\n",
       "      <td>1.0</td>\n",
       "    </tr>\n",
       "    <tr>\n",
       "      <th>X2</th>\n",
       "      <td>0.5</td>\n",
       "      <td>0.5</td>\n",
       "    </tr>\n",
       "  </tbody>\n",
       "</table>\n",
       "</div>"
      ],
      "text/plain": [
       "             0    1\n",
       "Intercept  2.0  2.0\n",
       "X1         1.0  1.0\n",
       "X2         0.5  0.5"
      ]
     },
     "execution_count": 6,
     "metadata": {},
     "output_type": "execute_result"
    }
   ],
   "source": [
    "gls_lm.conf_int(alpha=0.05)"
   ]
  },
  {
   "cell_type": "markdown",
   "metadata": {},
   "source": [
    "Die Grenzen des 95%-Konfidenzintervall werden vom Mittelwert ausgehend berechnet. Die untere Grenze bildet der Mittelwert abzüglich der zweifachen Standardabweichung. Die obere Grenze bildet der Mittelwert zuzüglich der zweifachen Standardabweichung. In diesem Fall bilden die Grenzen den selben Wert wie den Mittelwert ab, weshalb keine Streuung vorhanden ist."
   ]
  },
  {
   "cell_type": "markdown",
   "metadata": {},
   "source": [
    "**Mean Squared Error:**"
   ]
  },
  {
   "cell_type": "code",
   "execution_count": 7,
   "metadata": {},
   "outputs": [
    {
     "data": {
      "text/plain": [
       "9.64811482346484e-32"
      ]
     },
     "execution_count": 7,
     "metadata": {},
     "output_type": "execute_result"
    }
   ],
   "source": [
    "gls_lm.mse_resid"
   ]
  },
  {
   "cell_type": "markdown",
   "metadata": {},
   "source": [
    "Der MSE (Gütemaßstab) beschreibt die größe des Fehlers, welchen das Modell macht. Da in unserem Modell ein Wert nahe der 0 herauskommt, können wir es als sehr gut bezeichnen."
   ]
  },
  {
   "cell_type": "markdown",
   "metadata": {},
   "source": [
    "**AIC / BIC:**  \n",
    "Das Akaike und das Bayesian Information Criterium dienen zur Bewertung von unterschiedlichen Modellen. Das AIC bezeht dabei die Anzahl an Parametern und die Komplexität des Modells in die Berechnung ein. Das BIC ist ähnlich wie das AIC, hat jedoch einen höheren Strafterm in Abhängigket von der Anzahl der Parameter.\n",
    "Da wir zum aktuellen Zeitpunkt noch nicht mehrere Modelle haben, können wir das Ergerbnis noch nicht bewerten. Allgemein lässt sich allerdings feststellen, dass die besseren Modelle immer kleine Werte haben.  \n",
    "***AIC:*** -6855.  \n",
    "***BIC:*** -6847."
   ]
  },
  {
   "cell_type": "markdown",
   "metadata": {},
   "source": [
    "**b_5)**  \n",
    "Use your regression model to predict Y if X1 is 1 and X2 is 2. What is the associted standard error and 95% confidence interval?"
   ]
  },
  {
   "cell_type": "code",
   "execution_count": 8,
   "metadata": {},
   "outputs": [],
   "source": [
    "to_predict = pd.DataFrame({'X1':[1],'X2':[2]})\n",
    "results = gls_lm.get_prediction(to_predict)"
   ]
  },
  {
   "cell_type": "code",
   "execution_count": 9,
   "metadata": {},
   "outputs": [
    {
     "data": {
      "text/html": [
       "<div>\n",
       "<style scoped>\n",
       "    .dataframe tbody tr th:only-of-type {\n",
       "        vertical-align: middle;\n",
       "    }\n",
       "\n",
       "    .dataframe tbody tr th {\n",
       "        vertical-align: top;\n",
       "    }\n",
       "\n",
       "    .dataframe thead th {\n",
       "        text-align: right;\n",
       "    }\n",
       "</style>\n",
       "<table border=\"1\" class=\"dataframe\">\n",
       "  <thead>\n",
       "    <tr style=\"text-align: right;\">\n",
       "      <th></th>\n",
       "      <th>mean</th>\n",
       "      <th>mean_se</th>\n",
       "      <th>mean_ci_lower</th>\n",
       "      <th>mean_ci_upper</th>\n",
       "      <th>obs_ci_lower</th>\n",
       "      <th>obs_ci_upper</th>\n",
       "    </tr>\n",
       "  </thead>\n",
       "  <tbody>\n",
       "    <tr>\n",
       "      <th>0</th>\n",
       "      <td>4.0</td>\n",
       "      <td>1.336576e-16</td>\n",
       "      <td>4.0</td>\n",
       "      <td>4.0</td>\n",
       "      <td>4.0</td>\n",
       "      <td>4.0</td>\n",
       "    </tr>\n",
       "  </tbody>\n",
       "</table>\n",
       "</div>"
      ],
      "text/plain": [
       "   mean       mean_se  mean_ci_lower  mean_ci_upper  obs_ci_lower  \\\n",
       "0   4.0  1.336576e-16            4.0            4.0           4.0   \n",
       "\n",
       "   obs_ci_upper  \n",
       "0           4.0  "
      ]
     },
     "execution_count": 9,
     "metadata": {},
     "output_type": "execute_result"
    }
   ],
   "source": [
    "results.summary_frame(alpha=0.05)"
   ]
  },
  {
   "cell_type": "markdown",
   "metadata": {},
   "source": [
    "Wenn X1 = 1 und X2 = 2 kommen wir mit unserem Modell auf Y = 4, mit einem Standardfehler der nahezu 0 beträgt.\n",
    "Die untere und die obere Grenze des 95%-Konfidenzintervalls haben beide den Wert 4. Demnach würden bei 100 Samples 95 von denen zwischen den Werten 4 und 4 liegen."
   ]
  },
  {
   "cell_type": "markdown",
   "metadata": {},
   "source": [
    "**b_6)**  \n",
    "Nein, das Populationsmodell ist nicht realistisch, da außerhalb von selbst erstellten Daten naturgemäß Abweichungen und Fehler auftreten und diese hier nicht berücksichtigt werden."
   ]
  },
  {
   "cell_type": "markdown",
   "metadata": {},
   "source": [
    "## Task c:\n",
    "\n",
    "(c) Create an error vector, **err** (error), containing 100 observations drawn from a N(0, 0.25) distribution (i.e. a normal distribution with mean zero and standard deviation 0.25) and add the error to our population model in order to define population model 2 (err is our random, non reducible error in the relationship between Y and our features ... i.e. natural deviations in the relationship):  \n",
    "\n",
    "**Population model 2:**\n",
    "\n",
    "$$Y = 2 + 1 \\times X1 + 0.5 \\times X2 + err$$ \n",
    "\n",
    "c_1) What are the values of the $β$ parameters in this linear population model? \n",
    "\n",
    "c_2) What is the expected value of Y if X1 and X2 are both zero? \n",
    "\n",
    "c_3) What is the expected value of Y if X1 is 1 and X2 is 2? \n",
    "\n",
    "c_4) Fit a generalized least squares (gls) linear model that predicts Y using X1, X2. Comment on the model obtained (Adjusted R-Squared, F-Statistic, beta-parameters, standard errors, p-values, confidence intervalls, mean squared error, BIC, AIC). \n",
    "\n",
    "c_5) Use your regression model to predict Y if X1 is 1 and X2 is 2. What is the associted standard error and 95% confidence interval? \n"
   ]
  },
  {
   "cell_type": "markdown",
   "metadata": {},
   "source": [
    "**c)**"
   ]
  },
  {
   "cell_type": "code",
   "execution_count": 10,
   "metadata": {},
   "outputs": [],
   "source": [
    "# mean = 0 and sd = 0.25\n",
    "err = np.random.normal(0, 0.25, 100)"
   ]
  },
  {
   "cell_type": "code",
   "execution_count": 11,
   "metadata": {},
   "outputs": [],
   "source": [
    "#Population model\n",
    "Y = 2 + 1 * X1 + 0.5 * X2 + err"
   ]
  },
  {
   "cell_type": "markdown",
   "metadata": {},
   "source": [
    "**c_1)**"
   ]
  },
  {
   "cell_type": "markdown",
   "metadata": {},
   "source": [
    "$\\beta_0$ = 2    -> Dies ist der Y-Achsenabschnitt, wenn X<sub>i</sub> = 0  \n",
    "$\\beta_1$ = 1    -> Dies ist die Steigung (Ø) von Y, wenn X1 um 1 erhöht wird und X2 konstant bleibt.  \n",
    "$\\beta_2$ = 0.5  -> Dies ist die Steigung (Ø) von Y, wenn X2 um 1 erhöht wird und X1 konstant bleibt. "
   ]
  },
  {
   "cell_type": "markdown",
   "metadata": {},
   "source": [
    "**c_2)**  \n",
    "Wenn X<sub>1</sub> und X<sub>2</sub> beide den Wert 0 haben, ist $Y = 2+1*0+0.5*0 + err = 2 + err$  "
   ]
  },
  {
   "cell_type": "markdown",
   "metadata": {},
   "source": [
    "**c_3)**  \n",
    "Wenn X<sub>1</sub> = 1 und X<sub>2</sub> = 2 ist, beträgt $Y=2+1*1+0.5*2+err=4+err$"
   ]
  },
  {
   "cell_type": "markdown",
   "metadata": {},
   "source": [
    "**c_4)**  "
   ]
  },
  {
   "cell_type": "code",
   "execution_count": 12,
   "metadata": {},
   "outputs": [
    {
     "data": {
      "text/html": [
       "<table class=\"simpletable\">\n",
       "<caption>GLS Regression Results</caption>\n",
       "<tr>\n",
       "  <th>Dep. Variable:</th>            <td>Y</td>        <th>  R-squared:         </th> <td>   0.922</td>\n",
       "</tr>\n",
       "<tr>\n",
       "  <th>Model:</th>                   <td>GLS</td>       <th>  Adj. R-squared:    </th> <td>   0.920</td>\n",
       "</tr>\n",
       "<tr>\n",
       "  <th>Method:</th>             <td>Least Squares</td>  <th>  F-statistic:       </th> <td>   572.5</td>\n",
       "</tr>\n",
       "<tr>\n",
       "  <th>Date:</th>             <td>Fri, 23 Nov 2018</td> <th>  Prob (F-statistic):</th> <td>1.96e-54</td>\n",
       "</tr>\n",
       "<tr>\n",
       "  <th>Time:</th>                 <td>13:58:44</td>     <th>  Log-Likelihood:    </th> <td> -8.9903</td>\n",
       "</tr>\n",
       "<tr>\n",
       "  <th>No. Observations:</th>      <td>   100</td>      <th>  AIC:               </th> <td>   23.98</td>\n",
       "</tr>\n",
       "<tr>\n",
       "  <th>Df Residuals:</th>          <td>    97</td>      <th>  BIC:               </th> <td>   31.80</td>\n",
       "</tr>\n",
       "<tr>\n",
       "  <th>Df Model:</th>              <td>     2</td>      <th>                     </th>     <td> </td>   \n",
       "</tr>\n",
       "<tr>\n",
       "  <th>Covariance Type:</th>      <td>nonrobust</td>    <th>                     </th>     <td> </td>   \n",
       "</tr>\n",
       "</table>\n",
       "<table class=\"simpletable\">\n",
       "<tr>\n",
       "      <td></td>         <th>coef</th>     <th>std err</th>      <th>t</th>      <th>P>|t|</th>  <th>[0.025</th>    <th>0.975]</th>  \n",
       "</tr>\n",
       "<tr>\n",
       "  <th>Intercept</th> <td>    1.9986</td> <td>    0.027</td> <td>   73.273</td> <td> 0.000</td> <td>    1.945</td> <td>    2.053</td>\n",
       "</tr>\n",
       "<tr>\n",
       "  <th>X1</th>        <td>    0.9750</td> <td>    0.030</td> <td>   31.974</td> <td> 0.000</td> <td>    0.914</td> <td>    1.035</td>\n",
       "</tr>\n",
       "<tr>\n",
       "  <th>X2</th>        <td>    0.4710</td> <td>    0.058</td> <td>    8.132</td> <td> 0.000</td> <td>    0.356</td> <td>    0.586</td>\n",
       "</tr>\n",
       "</table>\n",
       "<table class=\"simpletable\">\n",
       "<tr>\n",
       "  <th>Omnibus:</th>       <td> 0.827</td> <th>  Durbin-Watson:     </th> <td>   2.044</td>\n",
       "</tr>\n",
       "<tr>\n",
       "  <th>Prob(Omnibus):</th> <td> 0.661</td> <th>  Jarque-Bera (JB):  </th> <td>   0.403</td>\n",
       "</tr>\n",
       "<tr>\n",
       "  <th>Skew:</th>          <td> 0.101</td> <th>  Prob(JB):          </th> <td>   0.818</td>\n",
       "</tr>\n",
       "<tr>\n",
       "  <th>Kurtosis:</th>      <td> 3.236</td> <th>  Cond. No.          </th> <td>    2.19</td>\n",
       "</tr>\n",
       "</table><br/><br/>Warnings:<br/>[1] Standard Errors assume that the covariance matrix of the errors is correctly specified."
      ],
      "text/plain": [
       "<class 'statsmodels.iolib.summary.Summary'>\n",
       "\"\"\"\n",
       "                            GLS Regression Results                            \n",
       "==============================================================================\n",
       "Dep. Variable:                      Y   R-squared:                       0.922\n",
       "Model:                            GLS   Adj. R-squared:                  0.920\n",
       "Method:                 Least Squares   F-statistic:                     572.5\n",
       "Date:                Fri, 23 Nov 2018   Prob (F-statistic):           1.96e-54\n",
       "Time:                        13:58:44   Log-Likelihood:                -8.9903\n",
       "No. Observations:                 100   AIC:                             23.98\n",
       "Df Residuals:                      97   BIC:                             31.80\n",
       "Df Model:                           2                                         \n",
       "Covariance Type:            nonrobust                                         \n",
       "==============================================================================\n",
       "                 coef    std err          t      P>|t|      [0.025      0.975]\n",
       "------------------------------------------------------------------------------\n",
       "Intercept      1.9986      0.027     73.273      0.000       1.945       2.053\n",
       "X1             0.9750      0.030     31.974      0.000       0.914       1.035\n",
       "X2             0.4710      0.058      8.132      0.000       0.356       0.586\n",
       "==============================================================================\n",
       "Omnibus:                        0.827   Durbin-Watson:                   2.044\n",
       "Prob(Omnibus):                  0.661   Jarque-Bera (JB):                0.403\n",
       "Skew:                           0.101   Prob(JB):                        0.818\n",
       "Kurtosis:                       3.236   Cond. No.                         2.19\n",
       "==============================================================================\n",
       "\n",
       "Warnings:\n",
       "[1] Standard Errors assume that the covariance matrix of the errors is correctly specified.\n",
       "\"\"\""
      ]
     },
     "execution_count": 12,
     "metadata": {},
     "output_type": "execute_result"
    }
   ],
   "source": [
    "# Create DataFrame\n",
    "df_err = pd.DataFrame({'X1':X1, 'X2':X2, 'Y':Y})\n",
    "# Fit Model\n",
    "gls_lm_err = smf.gls(formula='Y ~ (X1 + X2)', data=df_err).fit()\n",
    "# Print Summary\n",
    "gls_lm_err.summary()"
   ]
  },
  {
   "cell_type": "markdown",
   "metadata": {},
   "source": [
    "**Adjusted R-Squared:**  \n",
    "Der ***Adjusted R-Squared*** hat in diesem Modell den Wert: 0.920  \n",
    "Das heißt, dass die Daten (X1 + X2) zu 92% von dem trainierten Modell erklärt werden können."
   ]
  },
  {
   "cell_type": "markdown",
   "metadata": {},
   "source": [
    "**F-Statistics**:"
   ]
  },
  {
   "cell_type": "markdown",
   "metadata": {},
   "source": [
    "In diesem Modell hat die ***F-Statistik*** den Wert 572.75 und ist damit weit größer als 1 und der zugehörige ***P-Wert*** ((Prob) F-Statistics) liegt nahe 0.\n",
    "Daher kann davon ausgegangen werden, dass eine statistisch signifikante Beziehung zwischen X1+X2 und Y besteht und damit die Null-Hypothese widerlegt ist."
   ]
  },
  {
   "cell_type": "markdown",
   "metadata": {},
   "source": [
    "**Beta-Parameters:**  \n",
    "$\\hat{β_0} = $1.9986 / $β_0 = 2$  \n",
    "$\\hat{β_1} = $0.9750 / $β_1 = 1$  \n",
    "$\\hat{β_2} = $0.4710 / $β_2 = 0.5$  \n",
    "\n",
    "Wie in der Übersicht ersichtlich liegen die Werte des errechneten Modells sehr nahe an den Werten des Populationsmodells."
   ]
  },
  {
   "cell_type": "markdown",
   "metadata": {},
   "source": [
    "**Standard Errors:**  \n",
    "Der Standardfehler beträgt:  \n",
    "$\\hat{β_0}$: std_err = 0.027  \n",
    "$\\hat{β_1}$: std_err = 0.030   \n",
    "$\\hat{β_2}$: std_err = 0.058\n",
    "\n",
    "In Bezug auf die Werte der Koeffizienten sind dies jeweils sehr kleine Standardfehler."
   ]
  },
  {
   "cell_type": "markdown",
   "metadata": {},
   "source": [
    "**P-Values:**  \n",
    "Die P-Werte (***P>|t|***) haben alle den Wert 0. Für unser Modell nehmen wir ein Konfidenzlevel von 0.05 an. Daher lässt sich hier ablesen, dass eine statistisch signifikante Beziehung zwischen X1+X2 und Y besteht."
   ]
  },
  {
   "cell_type": "markdown",
   "metadata": {},
   "source": [
    "**Confidence Intervalls:**"
   ]
  },
  {
   "cell_type": "code",
   "execution_count": 13,
   "metadata": {},
   "outputs": [
    {
     "data": {
      "text/html": [
       "<div>\n",
       "<style scoped>\n",
       "    .dataframe tbody tr th:only-of-type {\n",
       "        vertical-align: middle;\n",
       "    }\n",
       "\n",
       "    .dataframe tbody tr th {\n",
       "        vertical-align: top;\n",
       "    }\n",
       "\n",
       "    .dataframe thead th {\n",
       "        text-align: right;\n",
       "    }\n",
       "</style>\n",
       "<table border=\"1\" class=\"dataframe\">\n",
       "  <thead>\n",
       "    <tr style=\"text-align: right;\">\n",
       "      <th></th>\n",
       "      <th>0</th>\n",
       "      <th>1</th>\n",
       "    </tr>\n",
       "  </thead>\n",
       "  <tbody>\n",
       "    <tr>\n",
       "      <th>Intercept</th>\n",
       "      <td>1.944503</td>\n",
       "      <td>2.052776</td>\n",
       "    </tr>\n",
       "    <tr>\n",
       "      <th>X1</th>\n",
       "      <td>0.914450</td>\n",
       "      <td>1.035489</td>\n",
       "    </tr>\n",
       "    <tr>\n",
       "      <th>X2</th>\n",
       "      <td>0.356066</td>\n",
       "      <td>0.585977</td>\n",
       "    </tr>\n",
       "  </tbody>\n",
       "</table>\n",
       "</div>"
      ],
      "text/plain": [
       "                  0         1\n",
       "Intercept  1.944503  2.052776\n",
       "X1         0.914450  1.035489\n",
       "X2         0.356066  0.585977"
      ]
     },
     "execution_count": 13,
     "metadata": {},
     "output_type": "execute_result"
    }
   ],
   "source": [
    "gls_lm_err.conf_int(alpha=0.05)"
   ]
  },
  {
   "cell_type": "markdown",
   "metadata": {},
   "source": [
    "In dem 95%-Konfidenzintervall sind die Bereiche zu sehen, in welchen sich die Koeffizienten ($\\hat{\\beta}$) in 95% der Fälle in unserem Modell bewegen."
   ]
  },
  {
   "cell_type": "markdown",
   "metadata": {},
   "source": [
    "**Mean Squared Error:**"
   ]
  },
  {
   "cell_type": "code",
   "execution_count": 14,
   "metadata": {},
   "outputs": [
    {
     "data": {
      "text/plain": [
       "0.07225076534666613"
      ]
     },
     "execution_count": 14,
     "metadata": {},
     "output_type": "execute_result"
    }
   ],
   "source": [
    "gls_lm_err.mse_resid"
   ]
  },
  {
   "cell_type": "markdown",
   "metadata": {},
   "source": [
    "Der MSE (Gütemaßstab) beschreibt die größe des Fehlers, welchen das Modell macht. Im Vergleich zum vorherigen Modell hat sich der Wert verschlechtert. Dies lässt sich auf die Berückischtigung eines Errors im Populationsmodell zurückführen."
   ]
  },
  {
   "cell_type": "markdown",
   "metadata": {},
   "source": [
    "**AIC / BIC:**  \n",
    "\n",
    "***AIC:*** 23.98   \n",
    "***BIC:*** 31.80\n",
    "\n",
    "Diese Werte sind deutlich größer als beim vorherigen Modell, da wir jedoch das Populationsmodell geändert haben, indem wir einen Error zusätzlich berücksichtigen, können wir die beiden Werte nicht miteinander vergleichen."
   ]
  },
  {
   "cell_type": "markdown",
   "metadata": {},
   "source": [
    "**c_5)**"
   ]
  },
  {
   "cell_type": "code",
   "execution_count": 15,
   "metadata": {},
   "outputs": [],
   "source": [
    "to_predict_err = pd.DataFrame({'X1':[1],'X2':[2]})\n",
    "results_err = gls_lm_err.get_prediction(to_predict_err)"
   ]
  },
  {
   "cell_type": "code",
   "execution_count": 16,
   "metadata": {},
   "outputs": [
    {
     "data": {
      "text/html": [
       "<div>\n",
       "<style scoped>\n",
       "    .dataframe tbody tr th:only-of-type {\n",
       "        vertical-align: middle;\n",
       "    }\n",
       "\n",
       "    .dataframe tbody tr th {\n",
       "        vertical-align: top;\n",
       "    }\n",
       "\n",
       "    .dataframe thead th {\n",
       "        text-align: right;\n",
       "    }\n",
       "</style>\n",
       "<table border=\"1\" class=\"dataframe\">\n",
       "  <thead>\n",
       "    <tr style=\"text-align: right;\">\n",
       "      <th></th>\n",
       "      <th>mean</th>\n",
       "      <th>mean_se</th>\n",
       "      <th>mean_ci_lower</th>\n",
       "      <th>mean_ci_upper</th>\n",
       "      <th>obs_ci_lower</th>\n",
       "      <th>obs_ci_upper</th>\n",
       "    </tr>\n",
       "  </thead>\n",
       "  <tbody>\n",
       "    <tr>\n",
       "      <th>0</th>\n",
       "      <td>3.915652</td>\n",
       "      <td>0.115663</td>\n",
       "      <td>3.686093</td>\n",
       "      <td>4.145211</td>\n",
       "      <td>3.334875</td>\n",
       "      <td>4.496429</td>\n",
       "    </tr>\n",
       "  </tbody>\n",
       "</table>\n",
       "</div>"
      ],
      "text/plain": [
       "       mean   mean_se  mean_ci_lower  mean_ci_upper  obs_ci_lower  \\\n",
       "0  3.915652  0.115663       3.686093       4.145211      3.334875   \n",
       "\n",
       "   obs_ci_upper  \n",
       "0      4.496429  "
      ]
     },
     "execution_count": 16,
     "metadata": {},
     "output_type": "execute_result"
    }
   ],
   "source": [
    "results_err.summary_frame(alpha=0.05)"
   ]
  },
  {
   "cell_type": "markdown",
   "metadata": {},
   "source": [
    "Wenn X1 = 1 und X2 = 2 kommen wir mit unserem Modell auf Y = 3.915652, mit einem Standardfehler der 0.115663 beträgt.\n",
    "Die untere und die obere Grenze des 95%-Konfidenzintervalls haben die Werte 3.686093 und 4.145211. Demnach würden bei 100 Samples 95 von denen zwischen den Werten 3.686093 und 4.145211 liegen."
   ]
  },
  {
   "cell_type": "markdown",
   "metadata": {},
   "source": [
    "## Task d:\n",
    "\n",
    "(d) Now fit a generalized least squares (gls) linear model to predict Y (population model 2) using X1, X2 and X3 in the model. Comment on the results for the X3 parameter in the model. "
   ]
  },
  {
   "cell_type": "code",
   "execution_count": 17,
   "metadata": {},
   "outputs": [
    {
     "data": {
      "text/html": [
       "<table class=\"simpletable\">\n",
       "<caption>GLS Regression Results</caption>\n",
       "<tr>\n",
       "  <th>Dep. Variable:</th>            <td>Y</td>        <th>  R-squared:         </th> <td>   0.922</td>\n",
       "</tr>\n",
       "<tr>\n",
       "  <th>Model:</th>                   <td>GLS</td>       <th>  Adj. R-squared:    </th> <td>   0.920</td>\n",
       "</tr>\n",
       "<tr>\n",
       "  <th>Method:</th>             <td>Least Squares</td>  <th>  F-statistic:       </th> <td>   378.6</td>\n",
       "</tr>\n",
       "<tr>\n",
       "  <th>Date:</th>             <td>Fri, 23 Nov 2018</td> <th>  Prob (F-statistic):</th> <td>4.79e-53</td>\n",
       "</tr>\n",
       "<tr>\n",
       "  <th>Time:</th>                 <td>13:58:45</td>     <th>  Log-Likelihood:    </th> <td> -8.8804</td>\n",
       "</tr>\n",
       "<tr>\n",
       "  <th>No. Observations:</th>      <td>   100</td>      <th>  AIC:               </th> <td>   25.76</td>\n",
       "</tr>\n",
       "<tr>\n",
       "  <th>Df Residuals:</th>          <td>    96</td>      <th>  BIC:               </th> <td>   36.18</td>\n",
       "</tr>\n",
       "<tr>\n",
       "  <th>Df Model:</th>              <td>     3</td>      <th>                     </th>     <td> </td>   \n",
       "</tr>\n",
       "<tr>\n",
       "  <th>Covariance Type:</th>      <td>nonrobust</td>    <th>                     </th>     <td> </td>   \n",
       "</tr>\n",
       "</table>\n",
       "<table class=\"simpletable\">\n",
       "<tr>\n",
       "      <td></td>         <th>coef</th>     <th>std err</th>      <th>t</th>      <th>P>|t|</th>  <th>[0.025</th>    <th>0.975]</th>  \n",
       "</tr>\n",
       "<tr>\n",
       "  <th>Intercept</th> <td>    2.0015</td> <td>    0.028</td> <td>   71.211</td> <td> 0.000</td> <td>    1.946</td> <td>    2.057</td>\n",
       "</tr>\n",
       "<tr>\n",
       "  <th>X1</th>        <td>    0.9742</td> <td>    0.031</td> <td>   31.770</td> <td> 0.000</td> <td>    0.913</td> <td>    1.035</td>\n",
       "</tr>\n",
       "<tr>\n",
       "  <th>X2</th>        <td>    0.4765</td> <td>    0.059</td> <td>    8.025</td> <td> 0.000</td> <td>    0.359</td> <td>    0.594</td>\n",
       "</tr>\n",
       "<tr>\n",
       "  <th>X3</th>        <td>   -0.0063</td> <td>    0.014</td> <td>   -0.460</td> <td> 0.647</td> <td>   -0.034</td> <td>    0.021</td>\n",
       "</tr>\n",
       "</table>\n",
       "<table class=\"simpletable\">\n",
       "<tr>\n",
       "  <th>Omnibus:</th>       <td> 0.584</td> <th>  Durbin-Watson:     </th> <td>   2.047</td>\n",
       "</tr>\n",
       "<tr>\n",
       "  <th>Prob(Omnibus):</th> <td> 0.747</td> <th>  Jarque-Bera (JB):  </th> <td>   0.221</td>\n",
       "</tr>\n",
       "<tr>\n",
       "  <th>Skew:</th>          <td> 0.065</td> <th>  Prob(JB):          </th> <td>   0.896</td>\n",
       "</tr>\n",
       "<tr>\n",
       "  <th>Kurtosis:</th>      <td> 3.190</td> <th>  Cond. No.          </th> <td>    4.64</td>\n",
       "</tr>\n",
       "</table><br/><br/>Warnings:<br/>[1] Standard Errors assume that the covariance matrix of the errors is correctly specified."
      ],
      "text/plain": [
       "<class 'statsmodels.iolib.summary.Summary'>\n",
       "\"\"\"\n",
       "                            GLS Regression Results                            \n",
       "==============================================================================\n",
       "Dep. Variable:                      Y   R-squared:                       0.922\n",
       "Model:                            GLS   Adj. R-squared:                  0.920\n",
       "Method:                 Least Squares   F-statistic:                     378.6\n",
       "Date:                Fri, 23 Nov 2018   Prob (F-statistic):           4.79e-53\n",
       "Time:                        13:58:45   Log-Likelihood:                -8.8804\n",
       "No. Observations:                 100   AIC:                             25.76\n",
       "Df Residuals:                      96   BIC:                             36.18\n",
       "Df Model:                           3                                         \n",
       "Covariance Type:            nonrobust                                         \n",
       "==============================================================================\n",
       "                 coef    std err          t      P>|t|      [0.025      0.975]\n",
       "------------------------------------------------------------------------------\n",
       "Intercept      2.0015      0.028     71.211      0.000       1.946       2.057\n",
       "X1             0.9742      0.031     31.770      0.000       0.913       1.035\n",
       "X2             0.4765      0.059      8.025      0.000       0.359       0.594\n",
       "X3            -0.0063      0.014     -0.460      0.647      -0.034       0.021\n",
       "==============================================================================\n",
       "Omnibus:                        0.584   Durbin-Watson:                   2.047\n",
       "Prob(Omnibus):                  0.747   Jarque-Bera (JB):                0.221\n",
       "Skew:                           0.065   Prob(JB):                        0.896\n",
       "Kurtosis:                       3.190   Cond. No.                         4.64\n",
       "==============================================================================\n",
       "\n",
       "Warnings:\n",
       "[1] Standard Errors assume that the covariance matrix of the errors is correctly specified.\n",
       "\"\"\""
      ]
     },
     "execution_count": 17,
     "metadata": {},
     "output_type": "execute_result"
    }
   ],
   "source": [
    "# Create DataFrame\n",
    "df_x3 = pd.DataFrame({'X1':X1, 'X2':X2, 'X3':X3, 'Y':Y})\n",
    "# Fit Model\n",
    "gls_lm_x3 = smf.gls(formula='Y ~ (X1 + X2 + X3)', data=df_x3).fit()\n",
    "# Print Summary\n",
    "gls_lm_x3.summary()"
   ]
  },
  {
   "cell_type": "markdown",
   "metadata": {},
   "source": [
    "Der P-Wert (P>|t|) hat einen Wert weit größer als 0.05, weshalb für diesen Parameter keine statistische Signifikanz besteht. Weiterhin interessant ist, dass $\\hat{\\beta_3}$ nahe der 0 liegt und das Modell damit X3 kaum berücksichtigt."
   ]
  },
  {
   "cell_type": "markdown",
   "metadata": {},
   "source": [
    "## Task e:\n",
    "\n",
    "(e) Generate a vector **Y** according to the model\n",
    "\n",
    "**Population model 3:**\n",
    "\n",
    "$$Y = 2 + 1 \\times X1 + 0.5 \\times X2 + X2^2 + err$$\n",
    "\n",
    "e_1) Fit a gls model that predicts Y using X1, X2. Comment on the model obtained (Adjusted R-Squared, F-Statistic, beta-parameters, standard errors, p-values, confidence intervalls, mean squared error, BIC, AIC). \n",
    "\n",
    "e_2) Fit a polynomial gls regression model that predicts Y using X1, X2 and $X^2$. Comment on the model obtained and campare it to e_1 (Adjusted R-Squared, F-Statistic, beta-parameters, standard errors, p-values, confidence intervalls, mean squared error, BIC, AIC). '"
   ]
  },
  {
   "cell_type": "markdown",
   "metadata": {},
   "source": [
    "**e)**  "
   ]
  },
  {
   "cell_type": "code",
   "execution_count": 18,
   "metadata": {},
   "outputs": [],
   "source": [
    "# Population model\n",
    "Y = 2 + 1 * X1 + 0.5 * X2 + X2**2 + err"
   ]
  },
  {
   "cell_type": "markdown",
   "metadata": {},
   "source": [
    "**e_1)**  "
   ]
  },
  {
   "cell_type": "code",
   "execution_count": 19,
   "metadata": {},
   "outputs": [
    {
     "data": {
      "text/html": [
       "<table class=\"simpletable\">\n",
       "<caption>GLS Regression Results</caption>\n",
       "<tr>\n",
       "  <th>Dep. Variable:</th>            <td>Y</td>        <th>  R-squared:         </th> <td>   0.815</td>\n",
       "</tr>\n",
       "<tr>\n",
       "  <th>Model:</th>                   <td>GLS</td>       <th>  Adj. R-squared:    </th> <td>   0.811</td>\n",
       "</tr>\n",
       "<tr>\n",
       "  <th>Method:</th>             <td>Least Squares</td>  <th>  F-statistic:       </th> <td>   214.0</td>\n",
       "</tr>\n",
       "<tr>\n",
       "  <th>Date:</th>             <td>Fri, 23 Nov 2018</td> <th>  Prob (F-statistic):</th> <td>2.68e-36</td>\n",
       "</tr>\n",
       "<tr>\n",
       "  <th>Time:</th>                 <td>13:59:11</td>     <th>  Log-Likelihood:    </th> <td> -60.118</td>\n",
       "</tr>\n",
       "<tr>\n",
       "  <th>No. Observations:</th>      <td>   100</td>      <th>  AIC:               </th> <td>   126.2</td>\n",
       "</tr>\n",
       "<tr>\n",
       "  <th>Df Residuals:</th>          <td>    97</td>      <th>  BIC:               </th> <td>   134.1</td>\n",
       "</tr>\n",
       "<tr>\n",
       "  <th>Df Model:</th>              <td>     2</td>      <th>                     </th>     <td> </td>   \n",
       "</tr>\n",
       "<tr>\n",
       "  <th>Covariance Type:</th>      <td>nonrobust</td>    <th>                     </th>     <td> </td>   \n",
       "</tr>\n",
       "</table>\n",
       "<table class=\"simpletable\">\n",
       "<tr>\n",
       "      <td></td>         <th>coef</th>     <th>std err</th>      <th>t</th>      <th>P>|t|</th>  <th>[0.025</th>    <th>0.975]</th>  \n",
       "</tr>\n",
       "<tr>\n",
       "  <th>Intercept</th> <td>    2.2156</td> <td>    0.045</td> <td>   48.714</td> <td> 0.000</td> <td>    2.125</td> <td>    2.306</td>\n",
       "</tr>\n",
       "<tr>\n",
       "  <th>X1</th>        <td>    0.9820</td> <td>    0.051</td> <td>   19.313</td> <td> 0.000</td> <td>    0.881</td> <td>    1.083</td>\n",
       "</tr>\n",
       "<tr>\n",
       "  <th>X2</th>        <td>    0.5447</td> <td>    0.097</td> <td>    5.640</td> <td> 0.000</td> <td>    0.353</td> <td>    0.736</td>\n",
       "</tr>\n",
       "</table>\n",
       "<table class=\"simpletable\">\n",
       "<tr>\n",
       "  <th>Omnibus:</th>       <td>25.254</td> <th>  Durbin-Watson:     </th> <td>   1.926</td>\n",
       "</tr>\n",
       "<tr>\n",
       "  <th>Prob(Omnibus):</th> <td> 0.000</td> <th>  Jarque-Bera (JB):  </th> <td>  37.884</td>\n",
       "</tr>\n",
       "<tr>\n",
       "  <th>Skew:</th>          <td> 1.149</td> <th>  Prob(JB):          </th> <td>5.94e-09</td>\n",
       "</tr>\n",
       "<tr>\n",
       "  <th>Kurtosis:</th>      <td> 4.952</td> <th>  Cond. No.          </th> <td>    2.19</td>\n",
       "</tr>\n",
       "</table><br/><br/>Warnings:<br/>[1] Standard Errors assume that the covariance matrix of the errors is correctly specified."
      ],
      "text/plain": [
       "<class 'statsmodels.iolib.summary.Summary'>\n",
       "\"\"\"\n",
       "                            GLS Regression Results                            \n",
       "==============================================================================\n",
       "Dep. Variable:                      Y   R-squared:                       0.815\n",
       "Model:                            GLS   Adj. R-squared:                  0.811\n",
       "Method:                 Least Squares   F-statistic:                     214.0\n",
       "Date:                Fri, 23 Nov 2018   Prob (F-statistic):           2.68e-36\n",
       "Time:                        13:59:11   Log-Likelihood:                -60.118\n",
       "No. Observations:                 100   AIC:                             126.2\n",
       "Df Residuals:                      97   BIC:                             134.1\n",
       "Df Model:                           2                                         \n",
       "Covariance Type:            nonrobust                                         \n",
       "==============================================================================\n",
       "                 coef    std err          t      P>|t|      [0.025      0.975]\n",
       "------------------------------------------------------------------------------\n",
       "Intercept      2.2156      0.045     48.714      0.000       2.125       2.306\n",
       "X1             0.9820      0.051     19.313      0.000       0.881       1.083\n",
       "X2             0.5447      0.097      5.640      0.000       0.353       0.736\n",
       "==============================================================================\n",
       "Omnibus:                       25.254   Durbin-Watson:                   1.926\n",
       "Prob(Omnibus):                  0.000   Jarque-Bera (JB):               37.884\n",
       "Skew:                           1.149   Prob(JB):                     5.94e-09\n",
       "Kurtosis:                       4.952   Cond. No.                         2.19\n",
       "==============================================================================\n",
       "\n",
       "Warnings:\n",
       "[1] Standard Errors assume that the covariance matrix of the errors is correctly specified.\n",
       "\"\"\""
      ]
     },
     "execution_count": 19,
     "metadata": {},
     "output_type": "execute_result"
    }
   ],
   "source": [
    "# Create DataFrame\n",
    "df_e = pd.DataFrame({'X1':X1, 'X2':X2, 'Y':Y})\n",
    "# Fit Model\n",
    "gls_lm_e = smf.gls(formula='Y ~ (X1 + X2)', data=df_e).fit()\n",
    "# Print Summary\n",
    "gls_lm_e.summary()"
   ]
  },
  {
   "cell_type": "markdown",
   "metadata": {},
   "source": [
    "**Adjusted R-Squared:**  \n",
    "Der ***Adjusted R-Squared*** hat in diesem Modell den Wert: 0.811  \n",
    "Das heißt, dass die Daten (X1 + X2) zu 81.1% von dem trainierten Modell erklärt werden können."
   ]
  },
  {
   "cell_type": "markdown",
   "metadata": {},
   "source": [
    "**F-Statistics**:"
   ]
  },
  {
   "cell_type": "markdown",
   "metadata": {},
   "source": [
    "In diesem Modell hat die ***F-Statistik*** den Wert 214.0 und ist damit weit größer als 1 und der zugehörige ***P-Wert*** ((Prob) F-Statistics) liegt nahe 0.\n",
    "Daher kann davon ausgegangen werden, dass eine statistisch signifikante Beziehung zwischen X1+X2 und Y besteht und damit die Null-Hypothese widerlegt ist."
   ]
  },
  {
   "cell_type": "markdown",
   "metadata": {},
   "source": [
    "**Beta-Parameters:**  \n",
    "$\\hat{β_0} = $2.2156 / $β_0 = 2$  \n",
    "$\\hat{β_1} = $0.9820 / $β_1 = 1$  \n",
    "$\\hat{β_2} = $0.5447 / $β_2 = 0.5$  \n",
    "\n",
    "Wie in der Übersicht ersichtlich liegen die Werte des errechneten Modells nah an den Werten des Populationsmodells."
   ]
  },
  {
   "cell_type": "markdown",
   "metadata": {},
   "source": [
    "**Standard Errors:**  \n",
    "Der Standardfehler beträgt:  \n",
    "$\\hat{β_0}$: std_err = 0.045  \n",
    "$\\hat{β_1}$: std_err = 0.051   \n",
    "$\\hat{β_2}$: std_err = 0.097\n"
   ]
  },
  {
   "cell_type": "markdown",
   "metadata": {},
   "source": [
    "**P-Values:**  \n",
    "Die P-Werte (***P>|t|***) haben alle den Wert 0. Für unser Modell nehmen wir ein Konfidenzlevel von 0.05 an. Daher lässt sich hier ablesen, dass eine statistisch signifikante Beziehung zwischen X1+X2 und Y besteht."
   ]
  },
  {
   "cell_type": "markdown",
   "metadata": {},
   "source": [
    "**Confidence Intervalls:**"
   ]
  },
  {
   "cell_type": "code",
   "execution_count": 20,
   "metadata": {},
   "outputs": [
    {
     "data": {
      "text/html": [
       "<div>\n",
       "<style scoped>\n",
       "    .dataframe tbody tr th:only-of-type {\n",
       "        vertical-align: middle;\n",
       "    }\n",
       "\n",
       "    .dataframe tbody tr th {\n",
       "        vertical-align: top;\n",
       "    }\n",
       "\n",
       "    .dataframe thead th {\n",
       "        text-align: right;\n",
       "    }\n",
       "</style>\n",
       "<table border=\"1\" class=\"dataframe\">\n",
       "  <thead>\n",
       "    <tr style=\"text-align: right;\">\n",
       "      <th></th>\n",
       "      <th>0</th>\n",
       "      <th>1</th>\n",
       "    </tr>\n",
       "  </thead>\n",
       "  <tbody>\n",
       "    <tr>\n",
       "      <th>Intercept</th>\n",
       "      <td>2.125307</td>\n",
       "      <td>2.305844</td>\n",
       "    </tr>\n",
       "    <tr>\n",
       "      <th>X1</th>\n",
       "      <td>0.881048</td>\n",
       "      <td>1.082869</td>\n",
       "    </tr>\n",
       "    <tr>\n",
       "      <th>X2</th>\n",
       "      <td>0.353052</td>\n",
       "      <td>0.736408</td>\n",
       "    </tr>\n",
       "  </tbody>\n",
       "</table>\n",
       "</div>"
      ],
      "text/plain": [
       "                  0         1\n",
       "Intercept  2.125307  2.305844\n",
       "X1         0.881048  1.082869\n",
       "X2         0.353052  0.736408"
      ]
     },
     "execution_count": 20,
     "metadata": {},
     "output_type": "execute_result"
    }
   ],
   "source": [
    "gls_lm_e.conf_int(alpha=0.05)"
   ]
  },
  {
   "cell_type": "markdown",
   "metadata": {},
   "source": [
    "In dem 95%-Konfidenzintervall sind die Bereiche zu sehen, in welchen sich die Koeffizienten ($\\hat{\\beta}$) in 95% der Fälle in unserem Modell bewegen."
   ]
  },
  {
   "cell_type": "markdown",
   "metadata": {},
   "source": [
    "**Mean Squared Error:**"
   ]
  },
  {
   "cell_type": "code",
   "execution_count": 21,
   "metadata": {},
   "outputs": [
    {
     "data": {
      "text/plain": [
       "0.2008766071299527"
      ]
     },
     "execution_count": 21,
     "metadata": {},
     "output_type": "execute_result"
    }
   ],
   "source": [
    "gls_lm_e.mse_resid"
   ]
  },
  {
   "cell_type": "markdown",
   "metadata": {},
   "source": [
    "Der MSE (Gütemaßstab) beschreibt die größe des Fehlers, welchen das Modell macht. Im Vergleich zum vorherigen Modell hat sich der Wert verschlechtert. Dies hängt höchstwahrscheinlich mit der Änderung des Populationsmodells ($X^2$) zusammen."
   ]
  },
  {
   "cell_type": "markdown",
   "metadata": {},
   "source": [
    "**AIC / BIC:**  \n",
    "\n",
    "***AIC:*** 126.2  \n",
    "***BIC:*** 134.1\n",
    "\n",
    "Diese Werte sind größer als beim vorherigen Modell, da wir jedoch das Populationsmodell geändert haben können wir die beiden Werte nicht miteinander vergleichen."
   ]
  },
  {
   "cell_type": "markdown",
   "metadata": {},
   "source": [
    "**e_2)**  \n"
   ]
  },
  {
   "cell_type": "code",
   "execution_count": 22,
   "metadata": {},
   "outputs": [
    {
     "data": {
      "text/html": [
       "<table class=\"simpletable\">\n",
       "<caption>GLS Regression Results</caption>\n",
       "<tr>\n",
       "  <th>Dep. Variable:</th>            <td>Y</td>        <th>  R-squared:         </th> <td>   0.935</td>\n",
       "</tr>\n",
       "<tr>\n",
       "  <th>Model:</th>                   <td>GLS</td>       <th>  Adj. R-squared:    </th> <td>   0.933</td>\n",
       "</tr>\n",
       "<tr>\n",
       "  <th>Method:</th>             <td>Least Squares</td>  <th>  F-statistic:       </th> <td>   458.5</td>\n",
       "</tr>\n",
       "<tr>\n",
       "  <th>Date:</th>             <td>Fri, 23 Nov 2018</td> <th>  Prob (F-statistic):</th> <td>9.49e-57</td>\n",
       "</tr>\n",
       "<tr>\n",
       "  <th>Time:</th>                 <td>14:10:22</td>     <th>  Log-Likelihood:    </th> <td> -8.0720</td>\n",
       "</tr>\n",
       "<tr>\n",
       "  <th>No. Observations:</th>      <td>   100</td>      <th>  AIC:               </th> <td>   24.14</td>\n",
       "</tr>\n",
       "<tr>\n",
       "  <th>Df Residuals:</th>          <td>    96</td>      <th>  BIC:               </th> <td>   34.56</td>\n",
       "</tr>\n",
       "<tr>\n",
       "  <th>Df Model:</th>              <td>     3</td>      <th>                     </th>     <td> </td>   \n",
       "</tr>\n",
       "<tr>\n",
       "  <th>Covariance Type:</th>      <td>nonrobust</td>    <th>                     </th>     <td> </td>   \n",
       "</tr>\n",
       "</table>\n",
       "<table class=\"simpletable\">\n",
       "<tr>\n",
       "         <td></td>            <th>coef</th>     <th>std err</th>      <th>t</th>      <th>P>|t|</th>  <th>[0.025</th>    <th>0.975]</th>  \n",
       "</tr>\n",
       "<tr>\n",
       "  <th>Intercept</th>       <td>    1.9744</td> <td>    0.033</td> <td>   60.389</td> <td> 0.000</td> <td>    1.909</td> <td>    2.039</td>\n",
       "</tr>\n",
       "<tr>\n",
       "  <th>X1</th>              <td>    0.9742</td> <td>    0.030</td> <td>   32.071</td> <td> 0.000</td> <td>    0.914</td> <td>    1.034</td>\n",
       "</tr>\n",
       "<tr>\n",
       "  <th>X2</th>              <td>    0.4628</td> <td>    0.058</td> <td>    7.976</td> <td> 0.000</td> <td>    0.348</td> <td>    0.578</td>\n",
       "</tr>\n",
       "<tr>\n",
       "  <th>np.power(X2, 2)</th> <td>    1.1118</td> <td>    0.084</td> <td>   13.261</td> <td> 0.000</td> <td>    0.945</td> <td>    1.278</td>\n",
       "</tr>\n",
       "</table>\n",
       "<table class=\"simpletable\">\n",
       "<tr>\n",
       "  <th>Omnibus:</th>       <td> 1.737</td> <th>  Durbin-Watson:     </th> <td>   2.055</td>\n",
       "</tr>\n",
       "<tr>\n",
       "  <th>Prob(Omnibus):</th> <td> 0.420</td> <th>  Jarque-Bera (JB):  </th> <td>   1.172</td>\n",
       "</tr>\n",
       "<tr>\n",
       "  <th>Skew:</th>          <td> 0.192</td> <th>  Prob(JB):          </th> <td>   0.556</td>\n",
       "</tr>\n",
       "<tr>\n",
       "  <th>Kurtosis:</th>      <td> 3.367</td> <th>  Cond. No.          </th> <td>    3.35</td>\n",
       "</tr>\n",
       "</table><br/><br/>Warnings:<br/>[1] Standard Errors assume that the covariance matrix of the errors is correctly specified."
      ],
      "text/plain": [
       "<class 'statsmodels.iolib.summary.Summary'>\n",
       "\"\"\"\n",
       "                            GLS Regression Results                            \n",
       "==============================================================================\n",
       "Dep. Variable:                      Y   R-squared:                       0.935\n",
       "Model:                            GLS   Adj. R-squared:                  0.933\n",
       "Method:                 Least Squares   F-statistic:                     458.5\n",
       "Date:                Fri, 23 Nov 2018   Prob (F-statistic):           9.49e-57\n",
       "Time:                        14:10:22   Log-Likelihood:                -8.0720\n",
       "No. Observations:                 100   AIC:                             24.14\n",
       "Df Residuals:                      96   BIC:                             34.56\n",
       "Df Model:                           3                                         \n",
       "Covariance Type:            nonrobust                                         \n",
       "===================================================================================\n",
       "                      coef    std err          t      P>|t|      [0.025      0.975]\n",
       "-----------------------------------------------------------------------------------\n",
       "Intercept           1.9744      0.033     60.389      0.000       1.909       2.039\n",
       "X1                  0.9742      0.030     32.071      0.000       0.914       1.034\n",
       "X2                  0.4628      0.058      7.976      0.000       0.348       0.578\n",
       "np.power(X2, 2)     1.1118      0.084     13.261      0.000       0.945       1.278\n",
       "==============================================================================\n",
       "Omnibus:                        1.737   Durbin-Watson:                   2.055\n",
       "Prob(Omnibus):                  0.420   Jarque-Bera (JB):                1.172\n",
       "Skew:                           0.192   Prob(JB):                        0.556\n",
       "Kurtosis:                       3.367   Cond. No.                         3.35\n",
       "==============================================================================\n",
       "\n",
       "Warnings:\n",
       "[1] Standard Errors assume that the covariance matrix of the errors is correctly specified.\n",
       "\"\"\""
      ]
     },
     "execution_count": 22,
     "metadata": {},
     "output_type": "execute_result"
    }
   ],
   "source": [
    "# Fit Model\n",
    "gls_lm_power = smf.gls(formula='Y ~ (X1 + X2 + np.power(X2,2))', data=df_e).fit()\n",
    "# Print Summary\n",
    "gls_lm_power.summary()"
   ]
  },
  {
   "cell_type": "markdown",
   "metadata": {},
   "source": [
    "**Adjusted R-Squared:**  \n",
    "Der Adjusted R-Squared hat sich von 0.811 verbessert auf 0.933, demnach können mit diesem Modell 93.3% der Daten erklärt werden."
   ]
  },
  {
   "cell_type": "markdown",
   "metadata": {},
   "source": [
    "**F-Statistics**:"
   ]
  },
  {
   "cell_type": "markdown",
   "metadata": {},
   "source": [
    "In diesem Modell hat die ***F-Statistik*** den Wert 458.5 und ist damit weit größer als 1 und der zugehörige ***P-Wert*** ((Prob) F-Statistics) liegt nahe 0.\n",
    "Daher kann davon ausgegangen werden, dass eine statistisch signifikante Beziehung zwischen den Parametern und Y besteht und damit die Null-Hypothese widerlegt ist.\n",
    "Im Vergleich zum vorherigen Modell ist die Beziehung hier signifikanter, da der Wert der F-Statistik ca. um das zweifache größer ist."
   ]
  },
  {
   "cell_type": "markdown",
   "metadata": {},
   "source": [
    "**Beta-Parameters:**  \n",
    "$\\hat{β_0} = $1.9744 / $β_0 = 2$  \n",
    "$\\hat{β_1} = $0.9742 / $β_1 = 1$  \n",
    "$\\hat{β_2} = $0.4628 / $β_2 = 0.5$  \n",
    "$\\hat{β_3} = $1.1118 / $β_3 = 1$\n",
    "\n",
    "Wie in der Übersicht ersichtlich liegen die Werte des errechneten Modells nah an den Werten des Populationsmodells."
   ]
  },
  {
   "cell_type": "markdown",
   "metadata": {},
   "source": [
    "**Standard Errors:**  \n",
    "Der Standardfehler beträgt:  \n",
    "$\\hat{β_0}$: std_err = 0.033  \n",
    "$\\hat{β_1}$: std_err = 0.030   \n",
    "$\\hat{β_2}$: std_err = 0.058  \n",
    "$\\hat{β_3}$: std_err = 0.084\n",
    "\n",
    "Im Vergleich zum vorherigen Modell haben sich die Standardfehler ($\\hat{β_0}$ - $\\hat{β_2}$) reduziert."
   ]
  },
  {
   "cell_type": "markdown",
   "metadata": {},
   "source": [
    "**P-Values:**  \n",
    "Die P-Werte (***P>|t|***) haben alle den Wert 0. Für unser Modell nehmen wir ein Konfidenzlevel von 0.05 an. Daher lässt sich hier ablesen, dass eine statistisch signifikante Beziehung zwischen den Parametern und Y besteht."
   ]
  },
  {
   "cell_type": "markdown",
   "metadata": {},
   "source": [
    "**Confidence Intervalls:**"
   ]
  },
  {
   "cell_type": "code",
   "execution_count": 24,
   "metadata": {},
   "outputs": [
    {
     "data": {
      "text/html": [
       "<div>\n",
       "<style scoped>\n",
       "    .dataframe tbody tr th:only-of-type {\n",
       "        vertical-align: middle;\n",
       "    }\n",
       "\n",
       "    .dataframe tbody tr th {\n",
       "        vertical-align: top;\n",
       "    }\n",
       "\n",
       "    .dataframe thead th {\n",
       "        text-align: right;\n",
       "    }\n",
       "</style>\n",
       "<table border=\"1\" class=\"dataframe\">\n",
       "  <thead>\n",
       "    <tr style=\"text-align: right;\">\n",
       "      <th></th>\n",
       "      <th>0</th>\n",
       "      <th>1</th>\n",
       "    </tr>\n",
       "  </thead>\n",
       "  <tbody>\n",
       "    <tr>\n",
       "      <th>Intercept</th>\n",
       "      <td>2.125307</td>\n",
       "      <td>2.305844</td>\n",
       "    </tr>\n",
       "    <tr>\n",
       "      <th>X1</th>\n",
       "      <td>0.881048</td>\n",
       "      <td>1.082869</td>\n",
       "    </tr>\n",
       "    <tr>\n",
       "      <th>X2</th>\n",
       "      <td>0.353052</td>\n",
       "      <td>0.736408</td>\n",
       "    </tr>\n",
       "  </tbody>\n",
       "</table>\n",
       "</div>"
      ],
      "text/plain": [
       "                  0         1\n",
       "Intercept  2.125307  2.305844\n",
       "X1         0.881048  1.082869\n",
       "X2         0.353052  0.736408"
      ]
     },
     "metadata": {},
     "output_type": "display_data"
    },
    {
     "data": {
      "text/html": [
       "<div>\n",
       "<style scoped>\n",
       "    .dataframe tbody tr th:only-of-type {\n",
       "        vertical-align: middle;\n",
       "    }\n",
       "\n",
       "    .dataframe tbody tr th {\n",
       "        vertical-align: top;\n",
       "    }\n",
       "\n",
       "    .dataframe thead th {\n",
       "        text-align: right;\n",
       "    }\n",
       "</style>\n",
       "<table border=\"1\" class=\"dataframe\">\n",
       "  <thead>\n",
       "    <tr style=\"text-align: right;\">\n",
       "      <th></th>\n",
       "      <th>0</th>\n",
       "      <th>1</th>\n",
       "    </tr>\n",
       "  </thead>\n",
       "  <tbody>\n",
       "    <tr>\n",
       "      <th>Intercept</th>\n",
       "      <td>1.909480</td>\n",
       "      <td>2.039275</td>\n",
       "    </tr>\n",
       "    <tr>\n",
       "      <th>X1</th>\n",
       "      <td>0.913891</td>\n",
       "      <td>1.034484</td>\n",
       "    </tr>\n",
       "    <tr>\n",
       "      <th>X2</th>\n",
       "      <td>0.347612</td>\n",
       "      <td>0.577944</td>\n",
       "    </tr>\n",
       "    <tr>\n",
       "      <th>np.power(X2, 2)</th>\n",
       "      <td>0.945411</td>\n",
       "      <td>1.278266</td>\n",
       "    </tr>\n",
       "  </tbody>\n",
       "</table>\n",
       "</div>"
      ],
      "text/plain": [
       "                        0         1\n",
       "Intercept        1.909480  2.039275\n",
       "X1               0.913891  1.034484\n",
       "X2               0.347612  0.577944\n",
       "np.power(X2, 2)  0.945411  1.278266"
      ]
     },
     "metadata": {},
     "output_type": "display_data"
    }
   ],
   "source": [
    "display(gls_lm_e.conf_int(alpha=0.05))\n",
    "display(gls_lm_power.conf_int(alpha=0.05))"
   ]
  },
  {
   "cell_type": "markdown",
   "metadata": {},
   "source": [
    "In dem 95%-Konfidenzintervall sind die Bereiche zu sehen, in welchen sich die Koeffizienten ($\\hat{\\beta}$) in 95% der Fälle in unserem Modell bewegen.  \n",
    "Im Vergleich zu dem Konfidenzintervall aus dem vorherigen Modell haben sich bei allen Koeffizienten die Grenzen verringert, sodass die Schätzer näher am Ursprungswert liegen."
   ]
  },
  {
   "cell_type": "markdown",
   "metadata": {},
   "source": [
    "**Mean Squared Error:**"
   ]
  },
  {
   "cell_type": "code",
   "execution_count": 27,
   "metadata": {},
   "outputs": [
    {
     "name": "stdout",
     "output_type": "stream",
     "text": [
      "Aktuelles Modell:  0.0716749282003363\n",
      "Vorheriges Modell: 0.2008766071299527\n"
     ]
    }
   ],
   "source": [
    "print(\"Aktuelles Modell: \",gls_lm_power.mse_resid)\n",
    "print(\"Vorheriges Modell:\",gls_lm_e.mse_resid)"
   ]
  },
  {
   "cell_type": "markdown",
   "metadata": {},
   "source": [
    "Der MSE hat sich im Vergleich zum vorherigen Modell stark verbessert. Dies lässt sich auf die Berücksichtigung des $X2^2$ in der Formell des Modells zurückführen."
   ]
  },
  {
   "cell_type": "markdown",
   "metadata": {},
   "source": [
    "**AIC / BIC:**  \n",
    "\n",
    "***AIC:*** 126.2  ***neu***: 24.14  \n",
    "***BIC:*** 134.1  ***neu***: 34.56\n",
    "\n",
    "Im Vergleich zu den AIC und BIC Werten des vorherigen Modells schneidet dieses erheblich besser ab, da beide Werte circa um 100 geringer sind. Daher fällt die Entscheidung, welches Modell das bessere ist, auf das zuletzt erstellte."
   ]
  }
 ],
 "metadata": {
  "kernelspec": {
   "display_name": "Python 3",
   "language": "python",
   "name": "python3"
  },
  "language_info": {
   "codemirror_mode": {
    "name": "ipython",
    "version": 3
   },
   "file_extension": ".py",
   "mimetype": "text/x-python",
   "name": "python",
   "nbconvert_exporter": "python",
   "pygments_lexer": "ipython3",
   "version": "3.6.6"
  }
 },
 "nbformat": 4,
 "nbformat_minor": 2
}
