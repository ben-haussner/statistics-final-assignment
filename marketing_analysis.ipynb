{
 "cells": [
  {
   "cell_type": "markdown",
   "metadata": {},
   "source": [
    "__Marketinganalyse__\n",
    "\n",
    "Modulprojekt für die Vorlesung __Applied Statistics__\n",
    "\n",
    "_Dozent:_ Prof. Dr. Jan Kirenz\n",
    "_Studenten:_ Stephanie Flohr, Benedikt Haußner, Robert Masendorf"
   ]
  },
  {
   "cell_type": "markdown",
   "metadata": {},
   "source": [
    "**Hinweis:** Zu korrekten Darstellung der Ergebnisse in den MarkDowns muss die Nbextension ```Python Markdown``` aktiviert sein. Zusätzlich muss ein ```Trusted```Kernel verwendet werden."
   ]
  },
  {
   "cell_type": "code",
   "execution_count": 1,
   "metadata": {},
   "outputs": [],
   "source": [
    "#import sys\n",
    "#if not sys.warnoptions:\n",
    "#import warnings\n",
    "#warnings.simplefilter(\"ignore\")"
   ]
  },
  {
   "cell_type": "code",
   "execution_count": 2,
   "metadata": {},
   "outputs": [],
   "source": [
    "import pandas as pd\n",
    "import numpy as np\n",
    "import seaborn as sns\n",
    "import matplotlib.pyplot as plt\n",
    "sns.set() \n",
    "%matplotlib inline \n",
    "plt.style.use('ggplot')\n",
    "pd.set_option('display.max_columns',24)"
   ]
  },
  {
   "cell_type": "markdown",
   "metadata": {},
   "source": [
    "# Ziel der Arbeit"
   ]
  },
  {
   "cell_type": "markdown",
   "metadata": {},
   "source": [
    "Gute Note, rest egal."
   ]
  },
  {
   "cell_type": "markdown",
   "metadata": {},
   "source": [
    "__Regression__: CLV  \n",
    "__Klassifikation__: Response"
   ]
  },
  {
   "cell_type": "markdown",
   "metadata": {},
   "source": [
    "# Import data"
   ]
  },
  {
   "cell_type": "markdown",
   "metadata": {},
   "source": [
    "Die von [hier](https://www.ibm.com/communities/analytics/watson-analytics-blog/marketing-customer-value-analysis/) verwendeten Daten wurden im März 2015 von der IBM als Beispieldatensatz unter dem Namen `SAMPLE DATA: Marketing Customer Value Analysis`veröffentlicht."
   ]
  },
  {
   "cell_type": "code",
   "execution_count": 3,
   "metadata": {},
   "outputs": [],
   "source": [
    "df = pd.read_csv('marketing_customer_marketing_raw_data.csv')"
   ]
  },
  {
   "cell_type": "code",
   "execution_count": 4,
   "metadata": {},
   "outputs": [
    {
     "data": {
      "text/plain": [
       "(9134, 24)"
      ]
     },
     "execution_count": 4,
     "metadata": {},
     "output_type": "execute_result"
    }
   ],
   "source": [
    "df.shape"
   ]
  },
  {
   "cell_type": "code",
   "execution_count": 5,
   "metadata": {},
   "outputs": [
    {
     "data": {
      "text/html": [
       "<div>\n",
       "<style scoped>\n",
       "    .dataframe tbody tr th:only-of-type {\n",
       "        vertical-align: middle;\n",
       "    }\n",
       "\n",
       "    .dataframe tbody tr th {\n",
       "        vertical-align: top;\n",
       "    }\n",
       "\n",
       "    .dataframe thead th {\n",
       "        text-align: right;\n",
       "    }\n",
       "</style>\n",
       "<table border=\"1\" class=\"dataframe\">\n",
       "  <thead>\n",
       "    <tr style=\"text-align: right;\">\n",
       "      <th></th>\n",
       "      <th>Customer</th>\n",
       "      <th>State</th>\n",
       "      <th>Customer Lifetime Value</th>\n",
       "      <th>Response</th>\n",
       "      <th>Coverage</th>\n",
       "      <th>Education</th>\n",
       "      <th>Effective To Date</th>\n",
       "      <th>EmploymentStatus</th>\n",
       "      <th>Gender</th>\n",
       "      <th>Income</th>\n",
       "      <th>Location Code</th>\n",
       "      <th>Marital Status</th>\n",
       "      <th>Monthly Premium Auto</th>\n",
       "      <th>Months Since Last Claim</th>\n",
       "      <th>Months Since Policy Inception</th>\n",
       "      <th>Number of Open Complaints</th>\n",
       "      <th>Number of Policies</th>\n",
       "      <th>Policy Type</th>\n",
       "      <th>Policy</th>\n",
       "      <th>Renew Offer Type</th>\n",
       "      <th>Sales Channel</th>\n",
       "      <th>Total Claim Amount</th>\n",
       "      <th>Vehicle Class</th>\n",
       "      <th>Vehicle Size</th>\n",
       "    </tr>\n",
       "  </thead>\n",
       "  <tbody>\n",
       "    <tr>\n",
       "      <th>0</th>\n",
       "      <td>BU79786</td>\n",
       "      <td>Washington</td>\n",
       "      <td>2763.519279</td>\n",
       "      <td>No</td>\n",
       "      <td>Basic</td>\n",
       "      <td>Bachelor</td>\n",
       "      <td>2/24/11</td>\n",
       "      <td>Employed</td>\n",
       "      <td>F</td>\n",
       "      <td>56274</td>\n",
       "      <td>Suburban</td>\n",
       "      <td>Married</td>\n",
       "      <td>69</td>\n",
       "      <td>32</td>\n",
       "      <td>5</td>\n",
       "      <td>0</td>\n",
       "      <td>1</td>\n",
       "      <td>Corporate Auto</td>\n",
       "      <td>Corporate L3</td>\n",
       "      <td>Offer1</td>\n",
       "      <td>Agent</td>\n",
       "      <td>384.811147</td>\n",
       "      <td>Two-Door Car</td>\n",
       "      <td>Medsize</td>\n",
       "    </tr>\n",
       "    <tr>\n",
       "      <th>1</th>\n",
       "      <td>QZ44356</td>\n",
       "      <td>Arizona</td>\n",
       "      <td>6979.535903</td>\n",
       "      <td>No</td>\n",
       "      <td>Extended</td>\n",
       "      <td>Bachelor</td>\n",
       "      <td>1/31/11</td>\n",
       "      <td>Unemployed</td>\n",
       "      <td>F</td>\n",
       "      <td>0</td>\n",
       "      <td>Suburban</td>\n",
       "      <td>Single</td>\n",
       "      <td>94</td>\n",
       "      <td>13</td>\n",
       "      <td>42</td>\n",
       "      <td>0</td>\n",
       "      <td>8</td>\n",
       "      <td>Personal Auto</td>\n",
       "      <td>Personal L3</td>\n",
       "      <td>Offer3</td>\n",
       "      <td>Agent</td>\n",
       "      <td>1131.464935</td>\n",
       "      <td>Four-Door Car</td>\n",
       "      <td>Medsize</td>\n",
       "    </tr>\n",
       "    <tr>\n",
       "      <th>2</th>\n",
       "      <td>AI49188</td>\n",
       "      <td>Nevada</td>\n",
       "      <td>12887.431650</td>\n",
       "      <td>No</td>\n",
       "      <td>Premium</td>\n",
       "      <td>Bachelor</td>\n",
       "      <td>2/19/11</td>\n",
       "      <td>Employed</td>\n",
       "      <td>F</td>\n",
       "      <td>48767</td>\n",
       "      <td>Suburban</td>\n",
       "      <td>Married</td>\n",
       "      <td>108</td>\n",
       "      <td>18</td>\n",
       "      <td>38</td>\n",
       "      <td>0</td>\n",
       "      <td>2</td>\n",
       "      <td>Personal Auto</td>\n",
       "      <td>Personal L3</td>\n",
       "      <td>Offer1</td>\n",
       "      <td>Agent</td>\n",
       "      <td>566.472247</td>\n",
       "      <td>Two-Door Car</td>\n",
       "      <td>Medsize</td>\n",
       "    </tr>\n",
       "    <tr>\n",
       "      <th>3</th>\n",
       "      <td>WW63253</td>\n",
       "      <td>California</td>\n",
       "      <td>7645.861827</td>\n",
       "      <td>No</td>\n",
       "      <td>Basic</td>\n",
       "      <td>Bachelor</td>\n",
       "      <td>1/20/11</td>\n",
       "      <td>Unemployed</td>\n",
       "      <td>M</td>\n",
       "      <td>0</td>\n",
       "      <td>Suburban</td>\n",
       "      <td>Married</td>\n",
       "      <td>106</td>\n",
       "      <td>18</td>\n",
       "      <td>65</td>\n",
       "      <td>0</td>\n",
       "      <td>7</td>\n",
       "      <td>Corporate Auto</td>\n",
       "      <td>Corporate L2</td>\n",
       "      <td>Offer1</td>\n",
       "      <td>Call Center</td>\n",
       "      <td>529.881344</td>\n",
       "      <td>SUV</td>\n",
       "      <td>Medsize</td>\n",
       "    </tr>\n",
       "    <tr>\n",
       "      <th>4</th>\n",
       "      <td>HB64268</td>\n",
       "      <td>Washington</td>\n",
       "      <td>2813.692575</td>\n",
       "      <td>No</td>\n",
       "      <td>Basic</td>\n",
       "      <td>Bachelor</td>\n",
       "      <td>2/3/11</td>\n",
       "      <td>Employed</td>\n",
       "      <td>M</td>\n",
       "      <td>43836</td>\n",
       "      <td>Rural</td>\n",
       "      <td>Single</td>\n",
       "      <td>73</td>\n",
       "      <td>12</td>\n",
       "      <td>44</td>\n",
       "      <td>0</td>\n",
       "      <td>1</td>\n",
       "      <td>Personal Auto</td>\n",
       "      <td>Personal L1</td>\n",
       "      <td>Offer1</td>\n",
       "      <td>Agent</td>\n",
       "      <td>138.130879</td>\n",
       "      <td>Four-Door Car</td>\n",
       "      <td>Medsize</td>\n",
       "    </tr>\n",
       "  </tbody>\n",
       "</table>\n",
       "</div>"
      ],
      "text/plain": [
       "  Customer       State  Customer Lifetime Value Response  Coverage Education  \\\n",
       "0  BU79786  Washington              2763.519279       No     Basic  Bachelor   \n",
       "1  QZ44356     Arizona              6979.535903       No  Extended  Bachelor   \n",
       "2  AI49188      Nevada             12887.431650       No   Premium  Bachelor   \n",
       "3  WW63253  California              7645.861827       No     Basic  Bachelor   \n",
       "4  HB64268  Washington              2813.692575       No     Basic  Bachelor   \n",
       "\n",
       "  Effective To Date EmploymentStatus Gender  Income Location Code  \\\n",
       "0           2/24/11         Employed      F   56274      Suburban   \n",
       "1           1/31/11       Unemployed      F       0      Suburban   \n",
       "2           2/19/11         Employed      F   48767      Suburban   \n",
       "3           1/20/11       Unemployed      M       0      Suburban   \n",
       "4            2/3/11         Employed      M   43836         Rural   \n",
       "\n",
       "  Marital Status  Monthly Premium Auto  Months Since Last Claim  \\\n",
       "0        Married                    69                       32   \n",
       "1         Single                    94                       13   \n",
       "2        Married                   108                       18   \n",
       "3        Married                   106                       18   \n",
       "4         Single                    73                       12   \n",
       "\n",
       "   Months Since Policy Inception  Number of Open Complaints  \\\n",
       "0                              5                          0   \n",
       "1                             42                          0   \n",
       "2                             38                          0   \n",
       "3                             65                          0   \n",
       "4                             44                          0   \n",
       "\n",
       "   Number of Policies     Policy Type        Policy Renew Offer Type  \\\n",
       "0                   1  Corporate Auto  Corporate L3           Offer1   \n",
       "1                   8   Personal Auto   Personal L3           Offer3   \n",
       "2                   2   Personal Auto   Personal L3           Offer1   \n",
       "3                   7  Corporate Auto  Corporate L2           Offer1   \n",
       "4                   1   Personal Auto   Personal L1           Offer1   \n",
       "\n",
       "  Sales Channel  Total Claim Amount  Vehicle Class Vehicle Size  \n",
       "0         Agent          384.811147   Two-Door Car      Medsize  \n",
       "1         Agent         1131.464935  Four-Door Car      Medsize  \n",
       "2         Agent          566.472247   Two-Door Car      Medsize  \n",
       "3   Call Center          529.881344            SUV      Medsize  \n",
       "4         Agent          138.130879  Four-Door Car      Medsize  "
      ]
     },
     "execution_count": 5,
     "metadata": {},
     "output_type": "execute_result"
    }
   ],
   "source": [
    "df.head()"
   ]
  },
  {
   "cell_type": "markdown",
   "metadata": {},
   "source": [
    "# Understanding Columns  \n",
    "**Customer_ID:**  \n",
    "Eindeutig Kombination aus Buchstaben und Zahlen, zur Identifizierung des Kundens.  \n",
    "  \n",
    "**State:**  \n",
    "Bundesstaat in den Vereinigten Staaten, in welchem der Kunde wohnt.  \n",
    "  \n",
    "**Customer_Lifetime_Value:**  \n",
    "Durchschnittlicher Wert des Kundens für das Unternehmen während seines gesamten Lebenszyklus. Der Wert ist diskontiert auf den Betrachtungszeitpunkt.  \n",
    "  \n",
    "**Response:**  \n",
    "Binärer Wert, ob der Kunde auf die Marketingmaßnahme reagiert hat.  \n",
    "  \n",
    "**Coverage:**  \n",
    "Der aktuelle Tarif, in welchem sich der angesprochene Kunde befindet.  \n",
    "  \n",
    "**Education:**  \n",
    "Der Bildungsstatus des angesprochenen Kunden.  \n",
    "  \n",
    "**Effective_To_Date:**  \n",
    "Laufzeitende der aktuellen Versicherung.  \n",
    "  \n",
    "**Employment_Status:**  \n",
    "Arbeitsverhältnis des Kundens.\n",
    "\n",
    "**Gender:**  \n",
    "Geschlecht des Kundens.  \n",
    "  \n",
    "**Income:**  \n",
    "Jährliches Einkommen des Kundens in Dollar.  \n",
    "  \n",
    "**Location_Code:**  \n",
    "Wohnumgebung des Kundens in Bezug auf die Flächenverdichtung.  \n",
    "  \n",
    "**Marital_Status:**  \n",
    "Familienstand des Kundens.  \n",
    "  \n",
    "**Monthly_Premium_Auto:**  \n",
    "Monatliche Versicherungsrate.  \n",
    "  \n",
    "**Months_Since_Last_Claim:**  \n",
    "Vergangene Monate seit dem die Versicherung zuletzt in Anspruch genommen wurde.  \n",
    "  \n",
    "**Months_Since_Policy_Inception:**  \n",
    "Vergangene Monate seit Beginn der aktuellen Verischerungspolice.  \n",
    "\n",
    "**Number_of_Open_Complaints:**  \n",
    "Anzahl der noch offenen Schadensfälle.  \n",
    "\n",
    "**Number_of_Policies:**  \n",
    "Gesamtanzahl der Policen seit Versicherungsbeginn.  \n",
    "  \n",
    "**Policy_Type:**  \n",
    "Feststellung, ob es sich um eine private, eine geschäftliche oder eine Sonderpolice handelt.  \n",
    "  \n",
    "**Policy:**  \n",
    "Akuelle Tarifstufe, in der der Kunde sich befindet.  \n",
    "  \n",
    "**Renew_Offer_Type:**  \n",
    "Das dem Kunden unterbreitete neue Angebot.  \n",
    "  \n",
    "**Sales_Channel:**  \n",
    "Der Kanal, über welchen das Angebot übermittelt wurde.  \n",
    "  \n",
    "**Total_Claim_Amount:**  \n",
    "In Anspruch genommene Versicherungssumme.  \n",
    "  \n",
    "**Vehicle_Class:**  \n",
    "Art des versicherten Autos.  \n",
    "  \n",
    "**Vehicle_Size:**  \n",
    "Größenordnung des versicherten Autos."
   ]
  },
  {
   "cell_type": "markdown",
   "metadata": {},
   "source": [
    "# Tidying data"
   ]
  },
  {
   "cell_type": "markdown",
   "metadata": {},
   "source": [
    "## Spalten bearbeiten"
   ]
  },
  {
   "cell_type": "markdown",
   "metadata": {},
   "source": [
    "### Spalten umbenennen"
   ]
  },
  {
   "cell_type": "code",
   "execution_count": 6,
   "metadata": {},
   "outputs": [
    {
     "data": {
      "text/plain": [
       "Index(['Customer', 'State', 'Customer Lifetime Value', 'Response', 'Coverage',\n",
       "       'Education', 'Effective To Date', 'EmploymentStatus', 'Gender',\n",
       "       'Income', 'Location Code', 'Marital Status', 'Monthly Premium Auto',\n",
       "       'Months Since Last Claim', 'Months Since Policy Inception',\n",
       "       'Number of Open Complaints', 'Number of Policies', 'Policy Type',\n",
       "       'Policy', 'Renew Offer Type', 'Sales Channel', 'Total Claim Amount',\n",
       "       'Vehicle Class', 'Vehicle Size'],\n",
       "      dtype='object')"
      ]
     },
     "execution_count": 6,
     "metadata": {},
     "output_type": "execute_result"
    }
   ],
   "source": [
    "df.columns"
   ]
  },
  {
   "cell_type": "code",
   "execution_count": 7,
   "metadata": {},
   "outputs": [],
   "source": [
    "# Change column name => some columns could not use\n",
    "df = df.rename(index=str, columns={\"Customer\":\"Customer_ID\",\n",
    "                                   \"Customer Lifetime Value\":\"Customer_Lifetime_Value\",\n",
    "                                   \"Effective To Date\":\"Effective_To_Date\", \n",
    "                                   \"EmploymentStatus\":\"Employment_Status\", \n",
    "                                   \"Location Code\":\"Location_Code\", \n",
    "                                   \"Marital Status\":\"Marital_Status\",\n",
    "                                   \"Monthly Premium Auto\":\"Monthly_Premium_Auto\",\n",
    "                                   \"Months Since Last Claim\":\"Months_Since_Last_Claim\",\n",
    "                                   \"Months Since Policy Inception\":\"Months_Since_Policy_Inception\",\n",
    "                                   \"Number of Open Complaints\":\"Number_of_Open_Complaints\",\n",
    "                                   \"Number of Policies\":\"Number_of_Policies\",\n",
    "                                   \"Policy Type\":\"Policy_Type\",\n",
    "                                   \"Renew Offer Type\":\"Renew_Offer_Type\",\n",
    "                                   \"Sales Channel\":\"Sales_Channel\",\n",
    "                                   \"Total Claim Amount\":\"Total_Claim_Amount\",\n",
    "                                   \"Vehicle Class\":\"Vehicle_Class\", \n",
    "                                   \"Vehicle Size\":\"Vehicle_Size\"})"
   ]
  },
  {
   "cell_type": "markdown",
   "metadata": {},
   "source": [
    "## Duplikat Check"
   ]
  },
  {
   "cell_type": "markdown",
   "metadata": {},
   "source": [
    "### Einfacher Duplikatscheck"
   ]
  },
  {
   "cell_type": "code",
   "execution_count": 8,
   "metadata": {},
   "outputs": [
    {
     "name": "stdout",
     "output_type": "stream",
     "text": [
      "Customer:\t\t9134\n",
      "Unique Customer:\t9134\n"
     ]
    }
   ],
   "source": [
    "# Chek for duplicates and print results\n",
    "print('Customer:\\t\\t{}'.format(len(df.Customer_ID)))\n",
    "# Count the number of individual customers\n",
    "print('Unique Customer:\\t{}'.format(len(df.Customer_ID.value_counts())))"
   ]
  },
  {
   "cell_type": "markdown",
   "metadata": {},
   "source": [
    "### Komplexer Duplikatscheck"
   ]
  },
  {
   "cell_type": "markdown",
   "metadata": {},
   "source": [
    "**ToDo:** zweiter Duplikat Check, Hinweise finden ob jemand mehrfach versichert ist"
   ]
  },
  {
   "cell_type": "code",
   "execution_count": null,
   "metadata": {},
   "outputs": [],
   "source": []
  },
  {
   "cell_type": "markdown",
   "metadata": {},
   "source": [
    "## Datentypen"
   ]
  },
  {
   "cell_type": "markdown",
   "metadata": {},
   "source": [
    "https://www.dataquest.io/blog/pandas-big-data/"
   ]
  },
  {
   "cell_type": "markdown",
   "metadata": {},
   "source": [
    "### Speicherverbrauch vor Transformation"
   ]
  },
  {
   "cell_type": "code",
   "execution_count": 9,
   "metadata": {},
   "outputs": [
    {
     "name": "stdout",
     "output_type": "stream",
     "text": [
      "<class 'pandas.core.frame.DataFrame'>\n",
      "Index: 9134 entries, 0 to 9133\n",
      "Data columns (total 24 columns):\n",
      "Customer_ID                      9134 non-null object\n",
      "State                            9134 non-null object\n",
      "Customer_Lifetime_Value          9134 non-null float64\n",
      "Response                         9134 non-null object\n",
      "Coverage                         9134 non-null object\n",
      "Education                        9134 non-null object\n",
      "Effective_To_Date                9134 non-null object\n",
      "Employment_Status                9134 non-null object\n",
      "Gender                           9134 non-null object\n",
      "Income                           9134 non-null int64\n",
      "Location_Code                    9134 non-null object\n",
      "Marital_Status                   9134 non-null object\n",
      "Monthly_Premium_Auto             9134 non-null int64\n",
      "Months_Since_Last_Claim          9134 non-null int64\n",
      "Months_Since_Policy_Inception    9134 non-null int64\n",
      "Number_of_Open_Complaints        9134 non-null int64\n",
      "Number_of_Policies               9134 non-null int64\n",
      "Policy_Type                      9134 non-null object\n",
      "Policy                           9134 non-null object\n",
      "Renew_Offer_Type                 9134 non-null object\n",
      "Sales_Channel                    9134 non-null object\n",
      "Total_Claim_Amount               9134 non-null float64\n",
      "Vehicle_Class                    9134 non-null object\n",
      "Vehicle_Size                     9134 non-null object\n",
      "dtypes: float64(2), int64(6), object(16)\n",
      "memory usage: 10.1 MB\n"
     ]
    }
   ],
   "source": [
    "df.info(memory_usage='deep')"
   ]
  },
  {
   "cell_type": "markdown",
   "metadata": {},
   "source": [
    "### Umwandlung zu Datetime"
   ]
  },
  {
   "cell_type": "code",
   "execution_count": 10,
   "metadata": {},
   "outputs": [],
   "source": [
    "df.Effective_To_Date = pd.to_datetime(df.Effective_To_Date)"
   ]
  },
  {
   "cell_type": "markdown",
   "metadata": {},
   "source": [
    "### Umwandlung in kategoriale Variablen"
   ]
  },
  {
   "cell_type": "code",
   "execution_count": 11,
   "metadata": {},
   "outputs": [],
   "source": [
    "# Select categorical variable\n",
    "# Categorical (Binary (1/0), Nominal (mehrere kategorischen Ausprägungen, nicht sortiert), Ordinal (sortierbar))\n",
    "df.State = pd.Categorical(df.State)\n",
    "df.Response = pd.Categorical(df.Response)\n",
    "df.Coverage = pd.Categorical(df.Coverage)\n",
    "df.Education = pd.Categorical(df.Education)\n",
    "df.Employment_Status = pd.Categorical(df.Employment_Status)\n",
    "df.Gender = pd.Categorical(df.Gender)\n",
    "df.Location_Code = pd.Categorical(df.Location_Code)\n",
    "df.Marital_Status = pd.Categorical(df.Marital_Status)\n",
    "df.Policy_Type = pd.Categorical(df.Policy_Type)\n",
    "df.Policy = pd.Categorical(df.Policy)\n",
    "df.Renew_Offer_Type = pd.Categorical(df.Renew_Offer_Type)\n",
    "df.Sales_Channel = pd.Categorical(df.Sales_Channel)\n",
    "df.Vehicle_Class = pd.Categorical(df.Vehicle_Class)\n",
    "df.Vehicle_Size = pd.Categorical(df.Vehicle_Size)"
   ]
  },
  {
   "cell_type": "markdown",
   "metadata": {},
   "source": [
    "Und sortieren:"
   ]
  },
  {
   "cell_type": "code",
   "execution_count": 12,
   "metadata": {},
   "outputs": [
    {
     "data": {
      "text/plain": [
       "CategoricalDtype(categories=['Basic', 'Extended', 'Premium'], ordered=False)"
      ]
     },
     "execution_count": 12,
     "metadata": {},
     "output_type": "execute_result"
    }
   ],
   "source": [
    "df.Coverage.dtype"
   ]
  },
  {
   "cell_type": "code",
   "execution_count": 13,
   "metadata": {},
   "outputs": [
    {
     "data": {
      "text/plain": [
       "CategoricalDtype(categories=['Basic', 'Extended', 'Premium'], ordered=True)"
      ]
     },
     "execution_count": 13,
     "metadata": {},
     "output_type": "execute_result"
    }
   ],
   "source": [
    "df.Coverage = df.Coverage.cat.reorder_categories(['Basic',\n",
    "                                                  'Extended',\n",
    "                                                  'Premium'],\n",
    "                                                 ordered=True)\n",
    "df.Coverage.dtype"
   ]
  },
  {
   "cell_type": "code",
   "execution_count": 14,
   "metadata": {},
   "outputs": [
    {
     "data": {
      "text/plain": [
       "CategoricalDtype(categories=['Bachelor', 'College', 'Doctor', 'High School or Below',\n",
       "                  'Master'],\n",
       "                 ordered=False)"
      ]
     },
     "execution_count": 14,
     "metadata": {},
     "output_type": "execute_result"
    }
   ],
   "source": [
    "df.Education.dtype"
   ]
  },
  {
   "cell_type": "code",
   "execution_count": 15,
   "metadata": {},
   "outputs": [
    {
     "data": {
      "text/plain": [
       "CategoricalDtype(categories=['High School or Below', 'College', 'Bachelor', 'Master',\n",
       "                  'Doctor'],\n",
       "                 ordered=True)"
      ]
     },
     "execution_count": 15,
     "metadata": {},
     "output_type": "execute_result"
    }
   ],
   "source": [
    "df.Education = df.Education.cat.reorder_categories(['High School or Below',\n",
    "                                                    'College',\n",
    "                                                    'Bachelor',\n",
    "                                                    'Master',\n",
    "                                                    'Doctor'],\n",
    "                                                   ordered=True)\n",
    "df.Education.dtype"
   ]
  },
  {
   "cell_type": "code",
   "execution_count": 16,
   "metadata": {},
   "outputs": [
    {
     "data": {
      "text/plain": [
       "CategoricalDtype(categories=['Large', 'Medsize', 'Small'], ordered=False)"
      ]
     },
     "execution_count": 16,
     "metadata": {},
     "output_type": "execute_result"
    }
   ],
   "source": [
    "df.Vehicle_Size.dtype"
   ]
  },
  {
   "cell_type": "code",
   "execution_count": 17,
   "metadata": {},
   "outputs": [
    {
     "data": {
      "text/plain": [
       "CategoricalDtype(categories=['Small', 'Medsize', 'Large'], ordered=True)"
      ]
     },
     "execution_count": 17,
     "metadata": {},
     "output_type": "execute_result"
    }
   ],
   "source": [
    "df.Vehicle_Size = df.Vehicle_Size.cat.reorder_categories(['Small',\n",
    "                                                          'Medsize',\n",
    "                                                          'Large'],\n",
    "                                                         ordered=True)\n",
    "df.Vehicle_Size.dtype"
   ]
  },
  {
   "cell_type": "markdown",
   "metadata": {},
   "source": [
    "### Umwandlung der Integervariablen"
   ]
  },
  {
   "cell_type": "code",
   "execution_count": 18,
   "metadata": {
    "scrolled": false
   },
   "outputs": [
    {
     "data": {
      "text/html": [
       "<div>\n",
       "<style scoped>\n",
       "    .dataframe tbody tr th:only-of-type {\n",
       "        vertical-align: middle;\n",
       "    }\n",
       "\n",
       "    .dataframe tbody tr th {\n",
       "        vertical-align: top;\n",
       "    }\n",
       "\n",
       "    .dataframe thead th {\n",
       "        text-align: right;\n",
       "    }\n",
       "</style>\n",
       "<table border=\"1\" class=\"dataframe\">\n",
       "  <thead>\n",
       "    <tr style=\"text-align: right;\">\n",
       "      <th></th>\n",
       "      <th>uint16</th>\n",
       "      <th>uint32</th>\n",
       "      <th>uint64</th>\n",
       "      <th>uint8</th>\n",
       "    </tr>\n",
       "  </thead>\n",
       "  <tbody>\n",
       "    <tr>\n",
       "      <th>max</th>\n",
       "      <td>65535</td>\n",
       "      <td>4294967295</td>\n",
       "      <td>18446744073709551615</td>\n",
       "      <td>255</td>\n",
       "    </tr>\n",
       "  </tbody>\n",
       "</table>\n",
       "</div>"
      ],
      "text/plain": [
       "     uint16      uint32                uint64  uint8\n",
       "max   65535  4294967295  18446744073709551615    255"
      ]
     },
     "execution_count": 18,
     "metadata": {},
     "output_type": "execute_result"
    }
   ],
   "source": [
    "pd.DataFrame(index=['max'], data={\"uint8\":[np.iinfo(\"uint8\").max],\n",
    "                                  \"uint16\":[np.iinfo(\"uint16\").max],\n",
    "                                  \"uint32\":[np.iinfo(\"uint32\").max],\n",
    "                                  \"uint64\":[np.iinfo(\"uint64\").max]})"
   ]
  },
  {
   "cell_type": "code",
   "execution_count": 19,
   "metadata": {},
   "outputs": [
    {
     "data": {
      "text/html": [
       "<div>\n",
       "<style scoped>\n",
       "    .dataframe tbody tr th:only-of-type {\n",
       "        vertical-align: middle;\n",
       "    }\n",
       "\n",
       "    .dataframe tbody tr th {\n",
       "        vertical-align: top;\n",
       "    }\n",
       "\n",
       "    .dataframe thead th {\n",
       "        text-align: right;\n",
       "    }\n",
       "</style>\n",
       "<table border=\"1\" class=\"dataframe\">\n",
       "  <thead>\n",
       "    <tr style=\"text-align: right;\">\n",
       "      <th></th>\n",
       "      <th>Income</th>\n",
       "      <th>Monthly_Premium_Auto</th>\n",
       "      <th>Months_Since_Last_Claim</th>\n",
       "      <th>Months_Since_Policy_Inception</th>\n",
       "      <th>Number_of_Open_Complaints</th>\n",
       "      <th>Number_of_Policies</th>\n",
       "    </tr>\n",
       "  </thead>\n",
       "  <tbody>\n",
       "    <tr>\n",
       "      <th>count</th>\n",
       "      <td>9134.000000</td>\n",
       "      <td>9134.000000</td>\n",
       "      <td>9134.000000</td>\n",
       "      <td>9134.000000</td>\n",
       "      <td>9134.000000</td>\n",
       "      <td>9134.000000</td>\n",
       "    </tr>\n",
       "    <tr>\n",
       "      <th>mean</th>\n",
       "      <td>37657.380009</td>\n",
       "      <td>93.219291</td>\n",
       "      <td>15.097000</td>\n",
       "      <td>48.064594</td>\n",
       "      <td>0.384388</td>\n",
       "      <td>2.966170</td>\n",
       "    </tr>\n",
       "    <tr>\n",
       "      <th>std</th>\n",
       "      <td>30379.904734</td>\n",
       "      <td>34.407967</td>\n",
       "      <td>10.073257</td>\n",
       "      <td>27.905991</td>\n",
       "      <td>0.910384</td>\n",
       "      <td>2.390182</td>\n",
       "    </tr>\n",
       "    <tr>\n",
       "      <th>min</th>\n",
       "      <td>0.000000</td>\n",
       "      <td>61.000000</td>\n",
       "      <td>0.000000</td>\n",
       "      <td>0.000000</td>\n",
       "      <td>0.000000</td>\n",
       "      <td>1.000000</td>\n",
       "    </tr>\n",
       "    <tr>\n",
       "      <th>25%</th>\n",
       "      <td>0.000000</td>\n",
       "      <td>68.000000</td>\n",
       "      <td>6.000000</td>\n",
       "      <td>24.000000</td>\n",
       "      <td>0.000000</td>\n",
       "      <td>1.000000</td>\n",
       "    </tr>\n",
       "    <tr>\n",
       "      <th>50%</th>\n",
       "      <td>33889.500000</td>\n",
       "      <td>83.000000</td>\n",
       "      <td>14.000000</td>\n",
       "      <td>48.000000</td>\n",
       "      <td>0.000000</td>\n",
       "      <td>2.000000</td>\n",
       "    </tr>\n",
       "    <tr>\n",
       "      <th>75%</th>\n",
       "      <td>62320.000000</td>\n",
       "      <td>109.000000</td>\n",
       "      <td>23.000000</td>\n",
       "      <td>71.000000</td>\n",
       "      <td>0.000000</td>\n",
       "      <td>4.000000</td>\n",
       "    </tr>\n",
       "    <tr>\n",
       "      <th>max</th>\n",
       "      <td>99981.000000</td>\n",
       "      <td>298.000000</td>\n",
       "      <td>35.000000</td>\n",
       "      <td>99.000000</td>\n",
       "      <td>5.000000</td>\n",
       "      <td>9.000000</td>\n",
       "    </tr>\n",
       "  </tbody>\n",
       "</table>\n",
       "</div>"
      ],
      "text/plain": [
       "             Income  Monthly_Premium_Auto  Months_Since_Last_Claim  \\\n",
       "count   9134.000000           9134.000000              9134.000000   \n",
       "mean   37657.380009             93.219291                15.097000   \n",
       "std    30379.904734             34.407967                10.073257   \n",
       "min        0.000000             61.000000                 0.000000   \n",
       "25%        0.000000             68.000000                 6.000000   \n",
       "50%    33889.500000             83.000000                14.000000   \n",
       "75%    62320.000000            109.000000                23.000000   \n",
       "max    99981.000000            298.000000                35.000000   \n",
       "\n",
       "       Months_Since_Policy_Inception  Number_of_Open_Complaints  \\\n",
       "count                    9134.000000                9134.000000   \n",
       "mean                       48.064594                   0.384388   \n",
       "std                        27.905991                   0.910384   \n",
       "min                         0.000000                   0.000000   \n",
       "25%                        24.000000                   0.000000   \n",
       "50%                        48.000000                   0.000000   \n",
       "75%                        71.000000                   0.000000   \n",
       "max                        99.000000                   5.000000   \n",
       "\n",
       "       Number_of_Policies  \n",
       "count         9134.000000  \n",
       "mean             2.966170  \n",
       "std              2.390182  \n",
       "min              1.000000  \n",
       "25%              1.000000  \n",
       "50%              2.000000  \n",
       "75%              4.000000  \n",
       "max              9.000000  "
      ]
     },
     "execution_count": 19,
     "metadata": {},
     "output_type": "execute_result"
    }
   ],
   "source": [
    "df.describe(include=np.int_)"
   ]
  },
  {
   "cell_type": "code",
   "execution_count": 20,
   "metadata": {},
   "outputs": [],
   "source": [
    "int_columns = df.select_dtypes(include='int').columns\n",
    "df[int_columns] = df[int_columns].apply(pd.to_numeric,downcast='unsigned')"
   ]
  },
  {
   "cell_type": "code",
   "execution_count": 21,
   "metadata": {},
   "outputs": [
    {
     "data": {
      "text/plain": [
       "Income                           uint32\n",
       "Monthly_Premium_Auto             uint16\n",
       "Months_Since_Last_Claim           uint8\n",
       "Months_Since_Policy_Inception     uint8\n",
       "Number_of_Open_Complaints         uint8\n",
       "Number_of_Policies                uint8\n",
       "dtype: object"
      ]
     },
     "execution_count": 21,
     "metadata": {},
     "output_type": "execute_result"
    }
   ],
   "source": [
    "df[int_columns].dtypes"
   ]
  },
  {
   "cell_type": "markdown",
   "metadata": {},
   "source": [
    "### Umwandlung der Float Variablen"
   ]
  },
  {
   "cell_type": "code",
   "execution_count": 22,
   "metadata": {},
   "outputs": [
    {
     "data": {
      "text/html": [
       "<div>\n",
       "<style scoped>\n",
       "    .dataframe tbody tr th:only-of-type {\n",
       "        vertical-align: middle;\n",
       "    }\n",
       "\n",
       "    .dataframe tbody tr th {\n",
       "        vertical-align: top;\n",
       "    }\n",
       "\n",
       "    .dataframe thead th {\n",
       "        text-align: right;\n",
       "    }\n",
       "</style>\n",
       "<table border=\"1\" class=\"dataframe\">\n",
       "  <thead>\n",
       "    <tr style=\"text-align: right;\">\n",
       "      <th></th>\n",
       "      <th>float16</th>\n",
       "      <th>float32</th>\n",
       "      <th>float64</th>\n",
       "    </tr>\n",
       "  </thead>\n",
       "  <tbody>\n",
       "    <tr>\n",
       "      <th>max</th>\n",
       "      <td>65504.0</td>\n",
       "      <td>3.402823e+38</td>\n",
       "      <td>1.797693e+308</td>\n",
       "    </tr>\n",
       "  </tbody>\n",
       "</table>\n",
       "</div>"
      ],
      "text/plain": [
       "     float16       float32        float64\n",
       "max  65504.0  3.402823e+38  1.797693e+308"
      ]
     },
     "execution_count": 22,
     "metadata": {},
     "output_type": "execute_result"
    }
   ],
   "source": [
    "pd.DataFrame(index=['max'], data={\"float16\":[np.finfo(\"float16\").max],\n",
    "                                  \"float32\":[np.finfo(\"float32\").max],\n",
    "                                  \"float64\":[np.finfo(\"float64\").max]})"
   ]
  },
  {
   "cell_type": "code",
   "execution_count": 23,
   "metadata": {
    "scrolled": true
   },
   "outputs": [
    {
     "data": {
      "text/html": [
       "<div>\n",
       "<style scoped>\n",
       "    .dataframe tbody tr th:only-of-type {\n",
       "        vertical-align: middle;\n",
       "    }\n",
       "\n",
       "    .dataframe tbody tr th {\n",
       "        vertical-align: top;\n",
       "    }\n",
       "\n",
       "    .dataframe thead th {\n",
       "        text-align: right;\n",
       "    }\n",
       "</style>\n",
       "<table border=\"1\" class=\"dataframe\">\n",
       "  <thead>\n",
       "    <tr style=\"text-align: right;\">\n",
       "      <th></th>\n",
       "      <th>Customer_Lifetime_Value</th>\n",
       "      <th>Total_Claim_Amount</th>\n",
       "    </tr>\n",
       "  </thead>\n",
       "  <tbody>\n",
       "    <tr>\n",
       "      <th>count</th>\n",
       "      <td>9134.000000</td>\n",
       "      <td>9134.000000</td>\n",
       "    </tr>\n",
       "    <tr>\n",
       "      <th>mean</th>\n",
       "      <td>8004.940475</td>\n",
       "      <td>434.088794</td>\n",
       "    </tr>\n",
       "    <tr>\n",
       "      <th>std</th>\n",
       "      <td>6870.967608</td>\n",
       "      <td>290.500092</td>\n",
       "    </tr>\n",
       "    <tr>\n",
       "      <th>min</th>\n",
       "      <td>1898.007675</td>\n",
       "      <td>0.099007</td>\n",
       "    </tr>\n",
       "    <tr>\n",
       "      <th>25%</th>\n",
       "      <td>3994.251794</td>\n",
       "      <td>272.258244</td>\n",
       "    </tr>\n",
       "    <tr>\n",
       "      <th>50%</th>\n",
       "      <td>5780.182197</td>\n",
       "      <td>383.945434</td>\n",
       "    </tr>\n",
       "    <tr>\n",
       "      <th>75%</th>\n",
       "      <td>8962.167041</td>\n",
       "      <td>547.514839</td>\n",
       "    </tr>\n",
       "    <tr>\n",
       "      <th>max</th>\n",
       "      <td>83325.381190</td>\n",
       "      <td>2893.239678</td>\n",
       "    </tr>\n",
       "  </tbody>\n",
       "</table>\n",
       "</div>"
      ],
      "text/plain": [
       "       Customer_Lifetime_Value  Total_Claim_Amount\n",
       "count              9134.000000         9134.000000\n",
       "mean               8004.940475          434.088794\n",
       "std                6870.967608          290.500092\n",
       "min                1898.007675            0.099007\n",
       "25%                3994.251794          272.258244\n",
       "50%                5780.182197          383.945434\n",
       "75%                8962.167041          547.514839\n",
       "max               83325.381190         2893.239678"
      ]
     },
     "execution_count": 23,
     "metadata": {},
     "output_type": "execute_result"
    }
   ],
   "source": [
    "df.describe(include=\"float_\")"
   ]
  },
  {
   "cell_type": "code",
   "execution_count": 24,
   "metadata": {},
   "outputs": [],
   "source": [
    "float_columns = df.select_dtypes(include='float').columns\n",
    "df[float_columns] = df[float_columns].apply(pd.to_numeric, downcast='float')"
   ]
  },
  {
   "cell_type": "code",
   "execution_count": 25,
   "metadata": {},
   "outputs": [
    {
     "data": {
      "text/plain": [
       "Customer_Lifetime_Value    float32\n",
       "Total_Claim_Amount         float32\n",
       "dtype: object"
      ]
     },
     "execution_count": 25,
     "metadata": {},
     "output_type": "execute_result"
    }
   ],
   "source": [
    "df[float_columns].dtypes"
   ]
  },
  {
   "cell_type": "markdown",
   "metadata": {},
   "source": [
    "### Speicherverbauch nach Transformation"
   ]
  },
  {
   "cell_type": "code",
   "execution_count": 26,
   "metadata": {},
   "outputs": [
    {
     "name": "stdout",
     "output_type": "stream",
     "text": [
      "<class 'pandas.core.frame.DataFrame'>\n",
      "Index: 9134 entries, 0 to 9133\n",
      "Data columns (total 24 columns):\n",
      "Customer_ID                      9134 non-null object\n",
      "State                            9134 non-null category\n",
      "Customer_Lifetime_Value          9134 non-null float32\n",
      "Response                         9134 non-null category\n",
      "Coverage                         9134 non-null category\n",
      "Education                        9134 non-null category\n",
      "Effective_To_Date                9134 non-null datetime64[ns]\n",
      "Employment_Status                9134 non-null category\n",
      "Gender                           9134 non-null category\n",
      "Income                           9134 non-null uint32\n",
      "Location_Code                    9134 non-null category\n",
      "Marital_Status                   9134 non-null category\n",
      "Monthly_Premium_Auto             9134 non-null uint16\n",
      "Months_Since_Last_Claim          9134 non-null uint8\n",
      "Months_Since_Policy_Inception    9134 non-null uint8\n",
      "Number_of_Open_Complaints        9134 non-null uint8\n",
      "Number_of_Policies               9134 non-null uint8\n",
      "Policy_Type                      9134 non-null category\n",
      "Policy                           9134 non-null category\n",
      "Renew_Offer_Type                 9134 non-null category\n",
      "Sales_Channel                    9134 non-null category\n",
      "Total_Claim_Amount               9134 non-null float32\n",
      "Vehicle_Class                    9134 non-null category\n",
      "Vehicle_Size                     9134 non-null category\n",
      "dtypes: category(14), datetime64[ns](1), float32(2), object(1), uint16(1), uint32(1), uint8(4)\n",
      "memory usage: 1.4 MB\n"
     ]
    }
   ],
   "source": [
    "df.info(memory_usage='deep')"
   ]
  },
  {
   "cell_type": "markdown",
   "metadata": {},
   "source": [
    "## Missing Data"
   ]
  },
  {
   "cell_type": "code",
   "execution_count": 27,
   "metadata": {},
   "outputs": [
    {
     "data": {
      "text/plain": [
       "<matplotlib.axes._subplots.AxesSubplot at 0x108c66e48>"
      ]
     },
     "execution_count": 27,
     "metadata": {},
     "output_type": "execute_result"
    },
    {
     "data": {
      "image/png": "[encoded data removed]",
      "text/plain": [
       "<matplotlib.figure.Figure at 0x108c66f28>"
      ]
     },
     "metadata": {},
     "output_type": "display_data"
    }
   ],
   "source": [
    "sns.heatmap(df.isnull(),yticklabels=False,cbar=False,cmap='viridis')"
   ]
  },
  {
   "cell_type": "code",
   "execution_count": 28,
   "metadata": {
    "scrolled": false
   },
   "outputs": [
    {
     "data": {
      "text/plain": [
       "Customer_ID                      0\n",
       "State                            0\n",
       "Customer_Lifetime_Value          0\n",
       "Response                         0\n",
       "Coverage                         0\n",
       "Education                        0\n",
       "Effective_To_Date                0\n",
       "Employment_Status                0\n",
       "Gender                           0\n",
       "Income                           0\n",
       "Location_Code                    0\n",
       "Marital_Status                   0\n",
       "Monthly_Premium_Auto             0\n",
       "Months_Since_Last_Claim          0\n",
       "Months_Since_Policy_Inception    0\n",
       "Number_of_Open_Complaints        0\n",
       "Number_of_Policies               0\n",
       "Policy_Type                      0\n",
       "Policy                           0\n",
       "Renew_Offer_Type                 0\n",
       "Sales_Channel                    0\n",
       "Total_Claim_Amount               0\n",
       "Vehicle_Class                    0\n",
       "Vehicle_Size                     0\n",
       "dtype: int64"
      ]
     },
     "execution_count": 28,
     "metadata": {},
     "output_type": "execute_result"
    }
   ],
   "source": [
    "df.isnull().sum()"
   ]
  },
  {
   "cell_type": "markdown",
   "metadata": {},
   "source": [
    "There is no missing data"
   ]
  },
  {
   "cell_type": "markdown",
   "metadata": {},
   "source": [
    "# Univariate Analyse"
   ]
  },
  {
   "cell_type": "markdown",
   "metadata": {},
   "source": [
    "## Hilfsfunktionen"
   ]
  },
  {
   "cell_type": "code",
   "execution_count": 29,
   "metadata": {},
   "outputs": [
    {
     "data": {
      "text/plain": [
       "8962.1669921875"
      ]
     },
     "execution_count": 29,
     "metadata": {},
     "output_type": "execute_result"
    }
   ],
   "source": [
    "df.Customer_Lifetime_Value.quantile(q=0.75)"
   ]
  },
  {
   "cell_type": "code",
   "execution_count": 30,
   "metadata": {},
   "outputs": [],
   "source": [
    "def univariat_analysis_number(dataframe, column):\n",
    "    print(\"*\"*100+\"\\n\")\n",
    "    print(dataframe[column].name.upper()+\"\\n\")\n",
    "    print(\"Anzahl Datensätze:\\t{}\".format(dataframe[column].count()))\n",
    "    print(\"Kleinster Betrag:\\t{}\".format(dataframe[column].min()))\n",
    "    print(\"Median:\\t\\t\\t{}\".format(dataframe[column].median()))\n",
    "    print(\"Durchschnitt:\\t\\t{0:.2f}\".format(dataframe[column].mean()))\n",
    "    print(\"Größter Betrag:\\t\\t{}\".format(dataframe[column].max()))\n",
    "\n",
    "    pd.DataFrame(dataframe[column]).boxplot(figsize=(12,1), vert=False, showfliers=True)\n",
    "    plt.axvline(x=dataframe[column].mean(), color='blue')\n",
    "    plt.show()\n",
    "    \n",
    "    if dataframe[column].max() >= 3 * dataframe[column].quantile(q=0.75):\n",
    "        pd.DataFrame(dataframe[column]).boxplot(figsize=(12,1), vert=False, showfliers=False)\n",
    "        plt.axvline(x=dataframe[column].mean(), color='blue')\n",
    "        plt.show()"
   ]
  },
  {
   "cell_type": "code",
   "execution_count": 66,
   "metadata": {},
   "outputs": [],
   "source": [
    "def univariat_analysis_categorical(dataframe, column, kind='bar', figsize=(11,5)):\n",
    "    print(\"*\"*100+\"\\n\")\n",
    "    print(dataframe[column].name.upper()+\"\\n\")\n",
    "    print(\"Anzahl Datensätze:\\t\\t\\t{}\".format(dataframe[column].count()))\n",
    "    print(\"Häufigkeit des häufigsten Wertes:\\t{}\".format(dataframe.groupby(column)[column].count().max()))\n",
    "    print(\"Häufigkeit des seltensten Wertes:\\t{}\".format(dataframe.groupby(column)[column].count().min()))\n",
    "    ax = dataframe.groupby(column)[column].count().plot(kind=kind, rot=0, figsize=figsize)\n",
    "    if kind == 'bar':\n",
    "        for p in ax.patches:\n",
    "            ax.annotate(str(p.get_height()), (p.get_x() * 1.0, p.get_height() * 1.005))\n",
    "    plt.ylabel(\"Anzahl\")\n",
    "    plt.show()"
   ]
  },
  {
   "cell_type": "markdown",
   "metadata": {},
   "source": [
    "## Numerische Variablen"
   ]
  },
  {
   "cell_type": "code",
   "execution_count": 32,
   "metadata": {},
   "outputs": [
    {
     "name": "stdout",
     "output_type": "stream",
     "text": [
      "Index(['Customer_Lifetime_Value', 'Income', 'Monthly_Premium_Auto',\n",
      "       'Months_Since_Last_Claim', 'Months_Since_Policy_Inception',\n",
      "       'Number_of_Open_Complaints', 'Number_of_Policies',\n",
      "       'Total_Claim_Amount'],\n",
      "      dtype='object')\n"
     ]
    }
   ],
   "source": [
    "print(df.select_dtypes(include=np.number).columns)"
   ]
  },
  {
   "cell_type": "markdown",
   "metadata": {},
   "source": [
    "### Customer Lifetime Value"
   ]
  },
  {
   "cell_type": "code",
   "execution_count": 33,
   "metadata": {
    "scrolled": false
   },
   "outputs": [
    {
     "name": "stdout",
     "output_type": "stream",
     "text": [
      "****************************************************************************************************\n",
      "\n",
      "CUSTOMER_LIFETIME_VALUE\n",
      "\n",
      "Anzahl Datensätze:\t9134\n",
      "Kleinster Betrag:\t1898.0076904296875\n",
      "Median:\t\t\t5780.18212890625\n",
      "Durchschnitt:\t\t8004.93\n",
      "Größter Betrag:\t\t83325.3828125\n"
     ]
    },
    {
     "data": {
      "image/png": "[encoded data removed]",
      "text/plain": [
       "<matplotlib.figure.Figure at 0x10ba70ac8>"
      ]
     },
     "metadata": {},
     "output_type": "display_data"
    },
    {
     "data": {
      "image/png": "[encoded data removed]",
      "text/plain": [
       "<matplotlib.figure.Figure at 0x10bea6be0>"
      ]
     },
     "metadata": {},
     "output_type": "display_data"
    }
   ],
   "source": [
    "univariat_analysis_number(df, 'Customer_Lifetime_Value')"
   ]
  },
  {
   "cell_type": "markdown",
   "metadata": {},
   "source": [
    "Mean > Median -> wir haben ein paar heftige Ausreißer, die den Durchschnitt hochziehen.  \n",
    "Evtl sollte man diese speziell behandeln, wir sollten auf jeden Fall später das Residuals-vs-Leverage-Diagramm anschauen!"
   ]
  },
  {
   "cell_type": "markdown",
   "metadata": {},
   "source": [
    "### Income"
   ]
  },
  {
   "cell_type": "code",
   "execution_count": 34,
   "metadata": {},
   "outputs": [
    {
     "name": "stdout",
     "output_type": "stream",
     "text": [
      "****************************************************************************************************\n",
      "\n",
      "INCOME\n",
      "\n",
      "Anzahl Datensätze:\t9134\n",
      "Kleinster Betrag:\t0\n",
      "Median:\t\t\t33889.5\n",
      "Durchschnitt:\t\t37657.38\n",
      "Größter Betrag:\t\t99981\n"
     ]
    },
    {
     "data": {
      "image/png": "[encoded data removed]",
      "text/plain": [
       "<matplotlib.figure.Figure at 0x10c6836d8>"
      ]
     },
     "metadata": {},
     "output_type": "display_data"
    }
   ],
   "source": [
    "univariat_analysis_number(df, 'Income')"
   ]
  },
  {
   "cell_type": "markdown",
   "metadata": {},
   "source": [
    "Hier sehen wir einigermaßen eine Normalverteilung, schön."
   ]
  },
  {
   "cell_type": "markdown",
   "metadata": {},
   "source": [
    "### Monthly_Premium_Auto"
   ]
  },
  {
   "cell_type": "code",
   "execution_count": 35,
   "metadata": {},
   "outputs": [
    {
     "name": "stdout",
     "output_type": "stream",
     "text": [
      "****************************************************************************************************\n",
      "\n",
      "MONTHLY_PREMIUM_AUTO\n",
      "\n",
      "Anzahl Datensätze:\t9134\n",
      "Kleinster Betrag:\t61\n",
      "Median:\t\t\t83.0\n",
      "Durchschnitt:\t\t93.22\n",
      "Größter Betrag:\t\t298\n"
     ]
    },
    {
     "data": {
      "image/png": "[encoded data removed]",
      "text/plain": [
       "<matplotlib.figure.Figure at 0x10c699dd8>"
      ]
     },
     "metadata": {},
     "output_type": "display_data"
    }
   ],
   "source": [
    "univariat_analysis_number(df, 'Monthly_Premium_Auto')"
   ]
  },
  {
   "cell_type": "markdown",
   "metadata": {},
   "source": [
    "Auch hier gibt es wieder Ausreißer nach oben, Menschen die das Dreifache des Durchschnitts zahlen."
   ]
  },
  {
   "cell_type": "markdown",
   "metadata": {},
   "source": [
    "### Months_Since_Last_Claim"
   ]
  },
  {
   "cell_type": "code",
   "execution_count": 36,
   "metadata": {},
   "outputs": [
    {
     "name": "stdout",
     "output_type": "stream",
     "text": [
      "****************************************************************************************************\n",
      "\n",
      "MONTHS_SINCE_LAST_CLAIM\n",
      "\n",
      "Anzahl Datensätze:\t9134\n",
      "Kleinster Betrag:\t0\n",
      "Median:\t\t\t14.0\n",
      "Durchschnitt:\t\t15.10\n",
      "Größter Betrag:\t\t35\n"
     ]
    },
    {
     "data": {
      "image/png": "[encoded data removed]",
      "text/plain": [
       "<matplotlib.figure.Figure at 0x10c745048>"
      ]
     },
     "metadata": {},
     "output_type": "display_data"
    }
   ],
   "source": [
    "univariat_analysis_number(df, 'Months_Since_Last_Claim')"
   ]
  },
  {
   "cell_type": "markdown",
   "metadata": {},
   "source": [
    "Hier eine wunderschöne Normalverteilung."
   ]
  },
  {
   "cell_type": "markdown",
   "metadata": {},
   "source": [
    "### Months_Since_Policy_Inception"
   ]
  },
  {
   "cell_type": "code",
   "execution_count": 37,
   "metadata": {},
   "outputs": [
    {
     "name": "stdout",
     "output_type": "stream",
     "text": [
      "****************************************************************************************************\n",
      "\n",
      "MONTHS_SINCE_POLICY_INCEPTION\n",
      "\n",
      "Anzahl Datensätze:\t9134\n",
      "Kleinster Betrag:\t0\n",
      "Median:\t\t\t48.0\n",
      "Durchschnitt:\t\t48.06\n",
      "Größter Betrag:\t\t99\n"
     ]
    },
    {
     "data": {
      "image/png": "[encoded data removed]",
      "text/plain": [
       "<matplotlib.figure.Figure at 0x10c7ddf98>"
      ]
     },
     "metadata": {},
     "output_type": "display_data"
    }
   ],
   "source": [
    "univariat_analysis_number(df, 'Months_Since_Policy_Inception')"
   ]
  },
  {
   "cell_type": "markdown",
   "metadata": {},
   "source": [
    "Und hier eine nahezu perfekte Normalverteilung."
   ]
  },
  {
   "cell_type": "markdown",
   "metadata": {},
   "source": [
    "### Number_of_Open_Complaints"
   ]
  },
  {
   "cell_type": "code",
   "execution_count": 38,
   "metadata": {},
   "outputs": [
    {
     "name": "stdout",
     "output_type": "stream",
     "text": [
      "****************************************************************************************************\n",
      "\n",
      "NUMBER_OF_OPEN_COMPLAINTS\n",
      "\n",
      "Anzahl Datensätze:\t9134\n",
      "Kleinster Betrag:\t0\n",
      "Median:\t\t\t0.0\n",
      "Durchschnitt:\t\t0.38\n",
      "Größter Betrag:\t\t5\n"
     ]
    },
    {
     "data": {
      "image/png": "[encoded data removed]",
      "text/plain": [
       "<matplotlib.figure.Figure at 0x10c894390>"
      ]
     },
     "metadata": {},
     "output_type": "display_data"
    },
    {
     "data": {
      "image/png": "[encoded data removed]",
      "text/plain": [
       "<matplotlib.figure.Figure at 0x10c90dd30>"
      ]
     },
     "metadata": {},
     "output_type": "display_data"
    }
   ],
   "source": [
    "univariat_analysis_number(df, 'Number_of_Open_Complaints')"
   ]
  },
  {
   "cell_type": "markdown",
   "metadata": {},
   "source": [
    "Wir sehen schon keine Box mehr - es gibt fast keine offenen Beschwerden:"
   ]
  },
  {
   "cell_type": "code",
   "execution_count": 39,
   "metadata": {},
   "outputs": [
    {
     "data": {
      "image/png": "[encoded data removed]",
      "text/plain": [
       "<matplotlib.figure.Figure at 0x10c7c7c50>"
      ]
     },
     "metadata": {},
     "output_type": "display_data"
    }
   ],
   "source": [
    "ax = df.Number_of_Open_Complaints.hist(figsize=(15,5), bins=df.Number_of_Open_Complaints.nunique())\n",
    "for p in ax.patches:\n",
    "    ax.annotate(str(p.get_height()), (p.get_x(), p.get_height() * 1.005))\n",
    "plt.show()"
   ]
  },
  {
   "cell_type": "markdown",
   "metadata": {},
   "source": [
    "### Number_of_Policies"
   ]
  },
  {
   "cell_type": "code",
   "execution_count": 40,
   "metadata": {},
   "outputs": [
    {
     "name": "stdout",
     "output_type": "stream",
     "text": [
      "****************************************************************************************************\n",
      "\n",
      "NUMBER_OF_POLICIES\n",
      "\n",
      "Anzahl Datensätze:\t9134\n",
      "Kleinster Betrag:\t1\n",
      "Median:\t\t\t2.0\n",
      "Durchschnitt:\t\t2.97\n",
      "Größter Betrag:\t\t9\n"
     ]
    },
    {
     "data": {
      "image/png": "[encoded data removed]",
      "text/plain": [
       "<matplotlib.figure.Figure at 0x10ba80c88>"
      ]
     },
     "metadata": {},
     "output_type": "display_data"
    }
   ],
   "source": [
    "univariat_analysis_number(df, 'Number_of_Policies')"
   ]
  },
  {
   "cell_type": "markdown",
   "metadata": {},
   "source": [
    "### Total_Claim_Amount"
   ]
  },
  {
   "cell_type": "code",
   "execution_count": 41,
   "metadata": {},
   "outputs": [
    {
     "name": "stdout",
     "output_type": "stream",
     "text": [
      "****************************************************************************************************\n",
      "\n",
      "TOTAL_CLAIM_AMOUNT\n",
      "\n",
      "Anzahl Datensätze:\t9134\n",
      "Kleinster Betrag:\t0.0990070030093193\n",
      "Median:\t\t\t383.9454345703125\n",
      "Durchschnitt:\t\t434.09\n",
      "Größter Betrag:\t\t2893.23974609375\n"
     ]
    },
    {
     "data": {
      "image/png": "[encoded data removed]",
      "text/plain": [
       "<matplotlib.figure.Figure at 0x10c7dd940>"
      ]
     },
     "metadata": {},
     "output_type": "display_data"
    },
    {
     "data": {
      "image/png": "[encoded data removed]",
      "text/plain": [
       "<matplotlib.figure.Figure at 0x10c861550>"
      ]
     },
     "metadata": {},
     "output_type": "display_data"
    }
   ],
   "source": [
    "univariat_analysis_number(df, 'Total_Claim_Amount')"
   ]
  },
  {
   "cell_type": "markdown",
   "metadata": {},
   "source": [
    "## Kategoriale Variablen"
   ]
  },
  {
   "cell_type": "markdown",
   "metadata": {},
   "source": [
    "Wir schauen uns \"wichtige\" Variablen einzeln an, dann den Rest gemeinsam."
   ]
  },
  {
   "cell_type": "code",
   "execution_count": 89,
   "metadata": {},
   "outputs": [],
   "source": [
    "categorical_columns = df.select_dtypes(include=\"category\").columns.tolist()"
   ]
  },
  {
   "cell_type": "markdown",
   "metadata": {},
   "source": [
    "### Response"
   ]
  },
  {
   "cell_type": "code",
   "execution_count": 96,
   "metadata": {},
   "outputs": [
    {
     "name": "stdout",
     "output_type": "stream",
     "text": [
      "****************************************************************************************************\n",
      "\n",
      "RESPONSE\n",
      "\n",
      "Anzahl Datensätze:\t\t\t9134\n",
      "Häufigkeit des häufigsten Wertes:\t7826\n",
      "Häufigkeit des seltensten Wertes:\t1308\n"
     ]
    },
    {
     "data": {
      "image/png": "[encoded data removed]",
      "text/plain": [
       "<matplotlib.figure.Figure at 0x10ca22d30>"
      ]
     },
     "metadata": {},
     "output_type": "display_data"
    },
    {
     "name": "stdout",
     "output_type": "stream",
     "text": [
      "Anteil der Rückmeldungen:\t0.14320122618786948\n"
     ]
    }
   ],
   "source": [
    "column = 'Response'\n",
    "univariat_analysis_categorical(df, column)\n",
    "print(\"Anteil der Rückmeldungen:\\t{}\".format(df[column].value_counts()['Yes']/df[column].count()))\n",
    "if column in categorical_columns: categorical_columns.remove(column)"
   ]
  },
  {
   "cell_type": "markdown",
   "metadata": {},
   "source": [
    "Wir sehen: wir haben 14% Rückmeldungen. Dies ist für eine Marketingmaßnahme generell nicht als schlecht anzusehen.  \n",
    "Nachdem ```Response``` unsere Zielvariable für die Klassifikation ist, sehen wir hier allerdings Probleme auf uns zukommen, da ein hoher Bias vorliegt."
   ]
  },
  {
   "cell_type": "markdown",
   "metadata": {},
   "source": [
    "### Unemployed"
   ]
  },
  {
   "cell_type": "code",
   "execution_count": 97,
   "metadata": {},
   "outputs": [
    {
     "name": "stdout",
     "output_type": "stream",
     "text": [
      "****************************************************************************************************\n",
      "\n",
      "EMPLOYMENT_STATUS\n",
      "\n",
      "Anzahl Datensätze:\t\t\t9134\n",
      "Häufigkeit des häufigsten Wertes:\t5698\n",
      "Häufigkeit des seltensten Wertes:\t282\n"
     ]
    },
    {
     "data": {
      "image/png": "[encoded data removed]",
      "text/plain": [
       "<matplotlib.figure.Figure at 0x1095d8ac8>"
      ]
     },
     "metadata": {},
     "output_type": "display_data"
    },
    {
     "name": "stdout",
     "output_type": "stream",
     "text": [
      "Anteil der Arbeitslosen:\t0.25366761550251804\n"
     ]
    }
   ],
   "source": [
    "column = 'Employment_Status'\n",
    "univariat_analysis_categorical(df, column, 'pie', (7,7))\n",
    "print(\"Anteil der Arbeitslosen:\\t{}\".format(df[column].value_counts()['Unemployed']/df[column].count()))\n",
    "if column in categorical_columns: categorical_columns.remove(column)"
   ]
  },
  {
   "cell_type": "markdown",
   "metadata": {},
   "source": [
    "Interessant ist zu beobachten, dass wir einen Arbeitslosenanteil von 25% haben - speziell, wenn man auch den ```Policy_Type``` betrachtet:"
   ]
  },
  {
   "cell_type": "markdown",
   "metadata": {},
   "source": [
    "### Policy_Type"
   ]
  },
  {
   "cell_type": "code",
   "execution_count": 101,
   "metadata": {},
   "outputs": [
    {
     "name": "stdout",
     "output_type": "stream",
     "text": [
      "****************************************************************************************************\n",
      "\n",
      "POLICY_TYPE\n",
      "\n",
      "Anzahl Datensätze:\t\t\t9134\n",
      "Häufigkeit des häufigsten Wertes:\t6788\n",
      "Häufigkeit des seltensten Wertes:\t378\n"
     ]
    },
    {
     "data": {
      "image/png": "[encoded data removed]",
      "text/plain": [
       "<matplotlib.figure.Figure at 0x1a161dfeb8>"
      ]
     },
     "metadata": {},
     "output_type": "display_data"
    },
    {
     "name": "stdout",
     "output_type": "stream",
     "text": [
      "Anteil der Firmenwägen:\t0.2154587256404642\n"
     ]
    }
   ],
   "source": [
    "column = 'Policy_Type'\n",
    "univariat_analysis_categorical(df, column, 'pie', (7,7))\n",
    "print(\"Anteil der Firmenwägen:\\t{}\".format(df[column].value_counts()['Corporate Auto']/df[column].count()))\n",
    "if column in categorical_columns: categorical_columns.remove(column)"
   ]
  },
  {
   "cell_type": "markdown",
   "metadata": {},
   "source": [
    "Wir sehen: 22% der versicherten Autos sind Firmenwägen - kommt es eventuell zu Überschneidungen zwischen Firmenwägen und Arbeitslosen? Dieser Frage werden wir bei den bivariaten Analysen nachgehen."
   ]
  },
  {
   "cell_type": "markdown",
   "metadata": {},
   "source": [
    "### Weitere Variablen"
   ]
  },
  {
   "cell_type": "code",
   "execution_count": 102,
   "metadata": {
    "scrolled": false
   },
   "outputs": [
    {
     "name": "stdout",
     "output_type": "stream",
     "text": [
      "****************************************************************************************************\n",
      "\n",
      "STATE\n",
      "\n",
      "Anzahl Datensätze:\t\t\t9134\n",
      "Häufigkeit des häufigsten Wertes:\t3150\n",
      "Häufigkeit des seltensten Wertes:\t798\n"
     ]
    },
    {
     "data": {
      "image/png": "[encoded data removed]",
      "text/plain": [
       "<matplotlib.figure.Figure at 0x1a16163a90>"
      ]
     },
     "metadata": {},
     "output_type": "display_data"
    },
    {
     "name": "stdout",
     "output_type": "stream",
     "text": [
      "****************************************************************************************************\n",
      "\n",
      "COVERAGE\n",
      "\n",
      "Anzahl Datensätze:\t\t\t9134\n",
      "Häufigkeit des häufigsten Wertes:\t5568\n",
      "Häufigkeit des seltensten Wertes:\t824\n"
     ]
    },
    {
     "data": {
      "image/png": "[encoded data removed]",
      "text/plain": [
       "<matplotlib.figure.Figure at 0x1a15fee2e8>"
      ]
     },
     "metadata": {},
     "output_type": "display_data"
    },
    {
     "name": "stdout",
     "output_type": "stream",
     "text": [
      "****************************************************************************************************\n",
      "\n",
      "EDUCATION\n",
      "\n",
      "Anzahl Datensätze:\t\t\t9134\n",
      "Häufigkeit des häufigsten Wertes:\t2748\n",
      "Häufigkeit des seltensten Wertes:\t342\n"
     ]
    },
    {
     "data": {
      "image/png": "[encoded data removed]",
      "text/plain": [
       "<matplotlib.figure.Figure at 0x1a1549aeb8>"
      ]
     },
     "metadata": {},
     "output_type": "display_data"
    },
    {
     "name": "stdout",
     "output_type": "stream",
     "text": [
      "****************************************************************************************************\n",
      "\n",
      "GENDER\n",
      "\n",
      "Anzahl Datensätze:\t\t\t9134\n",
      "Häufigkeit des häufigsten Wertes:\t4658\n",
      "Häufigkeit des seltensten Wertes:\t4476\n"
     ]
    },
    {
     "data": {
      "image/png": "[encoded data removed]",
      "text/plain": [
       "<matplotlib.figure.Figure at 0x1a163da630>"
      ]
     },
     "metadata": {},
     "output_type": "display_data"
    },
    {
     "name": "stdout",
     "output_type": "stream",
     "text": [
      "****************************************************************************************************\n",
      "\n",
      "LOCATION_CODE\n",
      "\n",
      "Anzahl Datensätze:\t\t\t9134\n",
      "Häufigkeit des häufigsten Wertes:\t5779\n",
      "Häufigkeit des seltensten Wertes:\t1582\n"
     ]
    },
    {
     "data": {
      "image/png": "[encoded data removed]",
      "text/plain": [
       "<matplotlib.figure.Figure at 0x1a152495c0>"
      ]
     },
     "metadata": {},
     "output_type": "display_data"
    },
    {
     "name": "stdout",
     "output_type": "stream",
     "text": [
      "****************************************************************************************************\n",
      "\n",
      "MARITAL_STATUS\n",
      "\n",
      "Anzahl Datensätze:\t\t\t9134\n",
      "Häufigkeit des häufigsten Wertes:\t5298\n",
      "Häufigkeit des seltensten Wertes:\t1369\n"
     ]
    },
    {
     "data": {
      "image/png": "[encoded data removed]",
      "text/plain": [
       "<matplotlib.figure.Figure at 0x1a16377630>"
      ]
     },
     "metadata": {},
     "output_type": "display_data"
    },
    {
     "name": "stdout",
     "output_type": "stream",
     "text": [
      "****************************************************************************************************\n",
      "\n",
      "POLICY\n",
      "\n",
      "Anzahl Datensätze:\t\t\t9134\n",
      "Häufigkeit des häufigsten Wertes:\t3426\n",
      "Häufigkeit des seltensten Wertes:\t66\n"
     ]
    },
    {
     "data": {
      "image/png": "[encoded data removed]",
      "text/plain": [
       "<matplotlib.figure.Figure at 0x1a144c5400>"
      ]
     },
     "metadata": {},
     "output_type": "display_data"
    },
    {
     "name": "stdout",
     "output_type": "stream",
     "text": [
      "****************************************************************************************************\n",
      "\n",
      "RENEW_OFFER_TYPE\n",
      "\n",
      "Anzahl Datensätze:\t\t\t9134\n",
      "Häufigkeit des häufigsten Wertes:\t3752\n",
      "Häufigkeit des seltensten Wertes:\t1024\n"
     ]
    },
    {
     "data": {
      "image/png": "[encoded data removed]",
      "text/plain": [
       "<matplotlib.figure.Figure at 0x1a143c75c0>"
      ]
     },
     "metadata": {},
     "output_type": "display_data"
    },
    {
     "name": "stdout",
     "output_type": "stream",
     "text": [
      "****************************************************************************************************\n",
      "\n",
      "SALES_CHANNEL\n",
      "\n",
      "Anzahl Datensätze:\t\t\t9134\n",
      "Häufigkeit des häufigsten Wertes:\t3477\n",
      "Häufigkeit des seltensten Wertes:\t1325\n"
     ]
    },
    {
     "data": {
      "image/png": "[encoded data removed]",
      "text/plain": [
       "<matplotlib.figure.Figure at 0x1a16082550>"
      ]
     },
     "metadata": {},
     "output_type": "display_data"
    },
    {
     "name": "stdout",
     "output_type": "stream",
     "text": [
      "****************************************************************************************************\n",
      "\n",
      "VEHICLE_CLASS\n",
      "\n",
      "Anzahl Datensätze:\t\t\t9134\n",
      "Häufigkeit des häufigsten Wertes:\t4621\n",
      "Häufigkeit des seltensten Wertes:\t163\n"
     ]
    },
    {
     "data": {
      "image/png": "[encoded data removed]",
      "text/plain": [
       "<matplotlib.figure.Figure at 0x1a1599b8d0>"
      ]
     },
     "metadata": {},
     "output_type": "display_data"
    },
    {
     "name": "stdout",
     "output_type": "stream",
     "text": [
      "****************************************************************************************************\n",
      "\n",
      "VEHICLE_SIZE\n",
      "\n",
      "Anzahl Datensätze:\t\t\t9134\n",
      "Häufigkeit des häufigsten Wertes:\t6424\n",
      "Häufigkeit des seltensten Wertes:\t946\n"
     ]
    },
    {
     "data": {
      "image/png": "[encoded data removed]",
      "text/plain": [
       "<matplotlib.figure.Figure at 0x1a15e7a7f0>"
      ]
     },
     "metadata": {},
     "output_type": "display_data"
    }
   ],
   "source": [
    "for column in categorical_columns:\n",
    "    univariat_analysis_categorical(df, column)"
   ]
  },
  {
   "cell_type": "markdown",
   "metadata": {},
   "source": [
    "## Timestamp"
   ]
  },
  {
   "cell_type": "code",
   "execution_count": 103,
   "metadata": {},
   "outputs": [
    {
     "data": {
      "image/png": "[encoded data removed]",
      "text/plain": [
       "<matplotlib.figure.Figure at 0x1a158d8cf8>"
      ]
     },
     "metadata": {},
     "output_type": "display_data"
    }
   ],
   "source": [
    "ax = df.Effective_To_Date.hist(figsize=(15,5))\n",
    "for p in ax.patches:\n",
    "    ax.annotate(str(p.get_height()), (p.get_x() * 1.0, p.get_height() * 1.005))\n",
    "plt.show()"
   ]
  },
  {
   "cell_type": "markdown",
   "metadata": {},
   "source": [
    "Wir sehen: der Datenbestand umfasst zwei Monate.  \n",
    "Daraus folgt:  \n",
    "* eine Zeitreihenanalyse macht für diesen kurzen Zeitraum keinen Sinn."
   ]
  },
  {
   "cell_type": "markdown",
   "metadata": {},
   "source": [
    "# Bi- und evtl multivariate Analysen"
   ]
  },
  {
   "cell_type": "markdown",
   "metadata": {},
   "source": [
    "## Scatterplot"
   ]
  },
  {
   "cell_type": "code",
   "execution_count": null,
   "metadata": {},
   "outputs": [],
   "source": [
    "sm = pd.plotting.scatter_matrix(df, alpha=0.8, figsize=(13, 8), diagonal='hist')\n",
    "#Change label rotation\n",
    "[s.xaxis.label.set_rotation(45) for s in sm.reshape(-1)]\n",
    "[s.yaxis.label.set_rotation(0) for s in sm.reshape(-1)]\n",
    "\n",
    "#May need to offset label when rotating to prevent overlap of figure\n",
    "[s.get_yaxis().set_label_coords(-0.9,0.5) for s in sm.reshape(-1)]\n",
    "\n",
    "#Hide all ticks\n",
    "[s.set_xticks(()) for s in sm.reshape(-1)]\n",
    "[s.set_yticks(()) for s in sm.reshape(-1)]\n",
    "\n",
    "plt.show()"
   ]
  },
  {
   "cell_type": "markdown",
   "metadata": {},
   "source": [
    "## Korrelations-Matrix"
   ]
  },
  {
   "cell_type": "code",
   "execution_count": 51,
   "metadata": {},
   "outputs": [
    {
     "data": {
      "image/png": "[encoded data removed]",
      "text/plain": [
       "<matplotlib.figure.Figure at 0x10c65cac8>"
      ]
     },
     "metadata": {},
     "output_type": "display_data"
    }
   ],
   "source": [
    "corr = df.corr()\n",
    "mask = np.zeros_like(corr, dtype=np.bool)\n",
    "mask[np.triu_indices_from(mask)] = True\n",
    "f, ax = plt.subplots(figsize=(12, 8))\n",
    "cmap = sns.diverging_palette(220, 10, as_cmap=True)\n",
    "sns.heatmap(corr, mask=mask, cmap=cmap, center=0, annot=True, annot_kws={\"size\": 12}, square=False, linewidths=.5, cbar_kws={\"shrink\": .5})\n",
    "plt.show()"
   ]
  },
  {
   "cell_type": "markdown",
   "metadata": {},
   "source": [
    "Oh, ist blöd. Wir machen aus den Kategorien ints und berechnen erneut:"
   ]
  },
  {
   "cell_type": "code",
   "execution_count": null,
   "metadata": {},
   "outputs": [],
   "source": [
    "df_for_corr = df.copy()\n",
    "\n",
    "df_for_corr.Coverage.cat.categories = [0,1,2]\n",
    "df_for_corr.Coverage = df_for_corr.Coverage.astype('uint8')\n",
    "\n",
    "df_for_corr.Education.cat.categories = [0,1,2,3,4]\n",
    "df_for_corr.Education = df_for_corr.Education.astype('uint8')\n",
    "\n",
    "df_for_corr.Vehicle_Size.cat.categories = [0,1,2]\n",
    "df_for_corr.Vehicle_Size = df_for_corr.Vehicle_Size.astype('uint8')"
   ]
  },
  {
   "cell_type": "code",
   "execution_count": null,
   "metadata": {},
   "outputs": [],
   "source": [
    "corr = df_for_corr.corr()\n",
    "mask = np.zeros_like(corr, dtype=np.bool)\n",
    "mask[np.triu_indices_from(mask)] = True\n",
    "f, ax = plt.subplots(figsize=(12, 8))\n",
    "cmap = sns.diverging_palette(220, 10, as_cmap=True)\n",
    "sns.heatmap(corr, mask=mask, cmap=cmap, center=0, annot=True, annot_kws={\"size\": 12}, square=False, linewidths=.5, cbar_kws={\"shrink\": .5})\n",
    "plt.show()"
   ]
  },
  {
   "cell_type": "markdown",
   "metadata": {},
   "source": [
    "# Transform Data"
   ]
  },
  {
   "cell_type": "markdown",
   "metadata": {},
   "source": [
    "# Visualize data\n",
    "Once you have tidy data with the variables you need, there are two main engines of knowledge generation: visualisation and modelling. These have complementary strengths and weaknesses so any real analysis will iterate between them many times."
   ]
  },
  {
   "cell_type": "markdown",
   "metadata": {},
   "source": [
    "+ Boxplots\n",
    "+ Histogramme\n",
    "+ Scatter (e.g. Gender Distribution, Income in Bezug auf Ausgaben und Geschlecht, Income in Bezug auf Total_Claim_Account)\n",
    "+ Gender: Verhalten im Bezug auf den Mariat_Status, Was für ein AutoType hat welches Geschlecht? => neue Variable\n",
    "+ Karte mit den States mit einbauen, Anteile anzeigen, Berufsbildung, => es geht hier um eine Marketinganalyse\n",
    "+ Durchschnittlicher Spending\n",
    "+ Kategorisierem der Autos in einer neuen unique Variablen "
   ]
  },
  {
   "cell_type": "markdown",
   "metadata": {},
   "source": [
    "**Visualisation** is a fundamentally human activity. A good visualisation will show you things that you did not expect, or raise new questions about the data. A good visualisation might also hint that you’re asking the wrong question, or you need to collect different data. Visualisations can surprise you, but don’t scale particularly well because they require a human to interpret them."
   ]
  },
  {
   "cell_type": "code",
   "execution_count": null,
   "metadata": {},
   "outputs": [],
   "source": []
  },
  {
   "cell_type": "markdown",
   "metadata": {},
   "source": [
    "# Models\n",
    "**Models** are complementary tools to visualisation. Once you have made your questions sufficiently precise, you can use a model to answer them. Models are a fundamentally mathematical or computational tool, so they generally scale well. But every model makes assumptions, and by its very nature a model cannot question its own assumptions. That means a model cannot fundamentally surprise you."
   ]
  },
  {
   "cell_type": "code",
   "execution_count": null,
   "metadata": {},
   "outputs": [],
   "source": []
  },
  {
   "cell_type": "markdown",
   "metadata": {},
   "source": [
    "# Communication\n",
    "The last step is **communication**, an absolutely critical part of any data analysis project. It doesn’t matter how well your models and visualisation have led you to understand the data unless you can also communicate your results to others."
   ]
  },
  {
   "cell_type": "code",
   "execution_count": null,
   "metadata": {},
   "outputs": [],
   "source": []
  },
  {
   "cell_type": "markdown",
   "metadata": {},
   "source": [
    "Surrounding all these tools is **programming**. Programming is a cross-cutting tool that you use in every part of the project. You don’t need to be an expert programmer to be a data scientist, but learning more about programming pays off because becoming a better programmer allows you to automate common tasks, and solve new problems with greater ease.\n",
    "\n",
    "Source: Wickham/Grolemund, 2016"
   ]
  }
 ],
 "metadata": {
  "kernelspec": {
   "display_name": "Python 3",
   "language": "python",
   "name": "python3"
  },
  "language_info": {
   "codemirror_mode": {
    "name": "ipython",
    "version": 3
   },
   "file_extension": ".py",
   "mimetype": "text/x-python",
   "name": "python",
   "nbconvert_exporter": "python",
   "pygments_lexer": "ipython3",
   "version": "3.6.4"
  },
  "toc": {
   "base_numbering": 1,
   "nav_menu": {},
   "number_sections": true,
   "sideBar": true,
   "skip_h1_title": false,
   "title_cell": "Table of Contents",
   "title_sidebar": "Contents",
   "toc_cell": false,
   "toc_position": {
    "height": "calc(100% - 180px)",
    "left": "10px",
    "top": "150px",
    "width": "310px"
   },
   "toc_section_display": true,
   "toc_window_display": true
  }
 },
 "nbformat": 4,
 "nbformat_minor": 2
}
